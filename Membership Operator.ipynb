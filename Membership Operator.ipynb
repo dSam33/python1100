{
 "cells": [
  {
   "cell_type": "code",
   "execution_count": 3,
   "id": "e14cfc03",
   "metadata": {},
   "outputs": [],
   "source": [
    "student = [\"Sandesh\",\"Harish\", \"Prakash\",\"Sanjay\"]"
   ]
  },
  {
   "cell_type": "code",
   "execution_count": 5,
   "id": "f6ae950f",
   "metadata": {},
   "outputs": [
    {
     "data": {
      "text/plain": [
       "False"
      ]
     },
     "execution_count": 5,
     "metadata": {},
     "output_type": "execute_result"
    }
   ],
   "source": [
    "\"Kshitiz\" in student"
   ]
  },
  {
   "cell_type": "code",
   "execution_count": 6,
   "id": "b15a75d7",
   "metadata": {},
   "outputs": [
    {
     "data": {
      "text/plain": [
       "True"
      ]
     },
     "execution_count": 6,
     "metadata": {},
     "output_type": "execute_result"
    }
   ],
   "source": [
    "\"Sandesh\" in student"
   ]
  },
  {
   "cell_type": "code",
   "execution_count": 7,
   "id": "1450bc35",
   "metadata": {},
   "outputs": [
    {
     "data": {
      "text/plain": [
       "True"
      ]
     },
     "execution_count": 7,
     "metadata": {},
     "output_type": "execute_result"
    }
   ],
   "source": [
    "\"Kshitiz\" not in student"
   ]
  },
  {
   "cell_type": "code",
   "execution_count": null,
   "id": "2b50aa19",
   "metadata": {},
   "outputs": [],
   "source": []
  }
 ],
 "metadata": {
  "kernelspec": {
   "display_name": "Python 3 (ipykernel)",
   "language": "python",
   "name": "python3"
  },
  "language_info": {
   "codemirror_mode": {
    "name": "ipython",
    "version": 3
   },
   "file_extension": ".py",
   "mimetype": "text/x-python",
   "name": "python",
   "nbconvert_exporter": "python",
   "pygments_lexer": "ipython3",
   "version": "3.8.10"
  }
 },
 "nbformat": 4,
 "nbformat_minor": 5
}
