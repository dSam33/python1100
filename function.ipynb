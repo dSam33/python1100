{
 "cells": [
  {
   "cell_type": "code",
   "execution_count": null,
   "id": "905586b5",
   "metadata": {},
   "outputs": [],
   "source": [
    "a = 6\n",
    "b = 8\n",
    "c = a + b\n",
    "print(c)"
   ]
  },
  {
   "cell_type": "code",
   "execution_count": null,
   "id": "37e51e7e",
   "metadata": {},
   "outputs": [],
   "source": [
    "def add_two_numbers():\n",
    "    a = 6\n",
    "    b = 8\n",
    "    c = a + b\n",
    "    print(c)"
   ]
  },
  {
   "cell_type": "code",
   "execution_count": null,
   "id": "538118cc",
   "metadata": {},
   "outputs": [],
   "source": [
    "add_two_numbers()"
   ]
  },
  {
   "cell_type": "code",
   "execution_count": null,
   "id": "884f7bca",
   "metadata": {},
   "outputs": [],
   "source": [
    "add_two_numbers()"
   ]
  },
  {
   "cell_type": "code",
   "execution_count": null,
   "id": "4799adcf",
   "metadata": {},
   "outputs": [],
   "source": [
    "def sub_two_numbers():\n",
    "    a = 55\n",
    "    b = 6\n",
    "    c = a + b\n",
    "    print(c)"
   ]
  },
  {
   "cell_type": "code",
   "execution_count": null,
   "id": "b7b83f65",
   "metadata": {},
   "outputs": [],
   "source": [
    "sub_two_numbers()"
   ]
  },
  {
   "cell_type": "code",
   "execution_count": null,
   "id": "12250cff",
   "metadata": {},
   "outputs": [],
   "source": [
    "def add_two_number(a,b):\n",
    "    c = a + b\n",
    "    print(c)"
   ]
  },
  {
   "cell_type": "code",
   "execution_count": null,
   "id": "b6cb7825",
   "metadata": {},
   "outputs": [],
   "source": [
    "add_two_number()"
   ]
  },
  {
   "cell_type": "code",
   "execution_count": null,
   "id": "3c8e673d",
   "metadata": {},
   "outputs": [],
   "source": [
    "def add_two_number(a = 5,b = 11):\n",
    "    c = a + b\n",
    "    print(c)"
   ]
  },
  {
   "cell_type": "code",
   "execution_count": null,
   "id": "7ee8d5d8",
   "metadata": {},
   "outputs": [],
   "source": [
    "add_two_number()"
   ]
  },
  {
   "cell_type": "code",
   "execution_count": null,
   "id": "9679fa7b",
   "metadata": {},
   "outputs": [],
   "source": [
    "def add_two_number(a,b):\n",
    "    c = a + b\n",
    "    print(c)"
   ]
  },
  {
   "cell_type": "code",
   "execution_count": null,
   "id": "8df91f20",
   "metadata": {},
   "outputs": [],
   "source": [
    "add_two_number(a =5, b = 11)"
   ]
  },
  {
   "cell_type": "code",
   "execution_count": null,
   "id": "f7d00a24",
   "metadata": {},
   "outputs": [],
   "source": [
    "add_two_number(5,11)"
   ]
  },
  {
   "cell_type": "code",
   "execution_count": null,
   "id": "ff9bea62",
   "metadata": {},
   "outputs": [],
   "source": [
    "total = add_two_number(a =5, b = 11)"
   ]
  },
  {
   "cell_type": "code",
   "execution_count": null,
   "id": "3b6a4095",
   "metadata": {},
   "outputs": [],
   "source": [
    "print(total)"
   ]
  },
  {
   "cell_type": "code",
   "execution_count": null,
   "id": "33ac1c02",
   "metadata": {},
   "outputs": [],
   "source": [
    "def add_two_number(a = 5,b = 11):\n",
    "    c = a + b\n",
    "    return(c)"
   ]
  },
  {
   "cell_type": "code",
   "execution_count": null,
   "id": "7149593e",
   "metadata": {},
   "outputs": [],
   "source": [
    "total = add_two_number(a =5, b = 11)"
   ]
  },
  {
   "cell_type": "code",
   "execution_count": null,
   "id": "bb33b8ef",
   "metadata": {},
   "outputs": [],
   "source": [
    "print(total)"
   ]
  },
  {
   "cell_type": "code",
   "execution_count": null,
   "id": "569cf705",
   "metadata": {},
   "outputs": [],
   "source": [
    "total **3"
   ]
  },
  {
   "cell_type": "markdown",
   "id": "146dee86",
   "metadata": {},
   "source": [
    "# WAP to find the volume of sphere having radius r\n",
    "\n",
    " $$volume = \\frac{4}{3}\\pi r^3$$"
   ]
  },
  {
   "cell_type": "code",
   "execution_count": 69,
   "id": "9d8bd90c",
   "metadata": {},
   "outputs": [],
   "source": [
    "import math\n",
    "PI = math.pi\n",
    "def volume_of_sphere(P, radius):\n",
    "    return 4/3* P * radius**3\n",
    "    "
   ]
  },
  {
   "cell_type": "code",
   "execution_count": 70,
   "id": "9fb16e2b",
   "metadata": {},
   "outputs": [
    {
     "name": "stdout",
     "output_type": "stream",
     "text": [
      "Enter the radius of sphere: 5\n",
      "volume = 523.6\n"
     ]
    }
   ],
   "source": [
    "r = float(input(\"Enter the radius of sphere: \"))\n",
    "vol = volume_of_sphere(radius = r, P = PI)\n",
    "print(f\"volume = {round(vol,2)}\")"
   ]
  },
  {
   "cell_type": "markdown",
   "id": "f7c6268f",
   "metadata": {},
   "source": [
    "# Default and no default argument"
   ]
  },
  {
   "cell_type": "code",
   "execution_count": 34,
   "id": "9279e317",
   "metadata": {},
   "outputs": [],
   "source": [
    "def greet( name, msg):\n",
    "    return f\"Hello,{name}, {msg}\""
   ]
  },
  {
   "cell_type": "code",
   "execution_count": 35,
   "id": "08a81d54",
   "metadata": {},
   "outputs": [
    {
     "data": {
      "text/plain": [
       "'Hello,Kshitiz, Good afternoon'"
      ]
     },
     "execution_count": 35,
     "metadata": {},
     "output_type": "execute_result"
    }
   ],
   "source": [
    "greet(name ='Kshitiz', msg='Good afternoon')"
   ]
  },
  {
   "cell_type": "code",
   "execution_count": 36,
   "id": "f529ce0e",
   "metadata": {},
   "outputs": [],
   "source": [
    "def greet(name, msg='Good Afternoon'): # msg is a default arugment\n",
    "    return f\"Hello, {name}, {msg}\""
   ]
  },
  {
   "cell_type": "code",
   "execution_count": 37,
   "id": "0f8ecf4c",
   "metadata": {},
   "outputs": [
    {
     "data": {
      "text/plain": [
       "'Hello, Kshitiz, Good Afternoon'"
      ]
     },
     "execution_count": 37,
     "metadata": {},
     "output_type": "execute_result"
    }
   ],
   "source": [
    "greet(name='Kshitiz')"
   ]
  },
  {
   "cell_type": "code",
   "execution_count": 38,
   "id": "5b290051",
   "metadata": {},
   "outputs": [
    {
     "data": {
      "text/plain": [
       "'Hello, Ram, Good Afternoon'"
      ]
     },
     "execution_count": 38,
     "metadata": {},
     "output_type": "execute_result"
    }
   ],
   "source": [
    "greet(name='Ram')"
   ]
  },
  {
   "cell_type": "code",
   "execution_count": 39,
   "id": "13b1e30c",
   "metadata": {},
   "outputs": [
    {
     "data": {
      "text/plain": [
       "'Hello, Prachanda, Good Afternoon'"
      ]
     },
     "execution_count": 39,
     "metadata": {},
     "output_type": "execute_result"
    }
   ],
   "source": [
    "greet(name='Prachanda')"
   ]
  },
  {
   "cell_type": "code",
   "execution_count": 40,
   "id": "16f02a7f",
   "metadata": {},
   "outputs": [
    {
     "ename": "SyntaxError",
     "evalue": "non-default argument follows default argument (1242239185.py, line 1)",
     "output_type": "error",
     "traceback": [
      "\u001b[1;36m  Cell \u001b[1;32mIn[40], line 1\u001b[1;36m\u001b[0m\n\u001b[1;33m    def greet(msg ='Good Afternoon', name): # non default argument name doesn't follow default argument\u001b[0m\n\u001b[1;37m              ^\u001b[0m\n\u001b[1;31mSyntaxError\u001b[0m\u001b[1;31m:\u001b[0m non-default argument follows default argument\n"
     ]
    }
   ],
   "source": [
    "def greet(msg ='Good Afternoon', name): # non default argument name doesn't follow default argument\n",
    "    return f\"hello, {name},{msg}\""
   ]
  },
  {
   "cell_type": "code",
   "execution_count": 41,
   "id": "0713228f",
   "metadata": {},
   "outputs": [
    {
     "data": {
      "text/plain": [
       "'Hello, Rama, Good morning'"
      ]
     },
     "execution_count": 41,
     "metadata": {},
     "output_type": "execute_result"
    }
   ],
   "source": [
    "greet(name=\"Rama\", msg ='Good morning')"
   ]
  },
  {
   "cell_type": "markdown",
   "id": "adf76314",
   "metadata": {},
   "source": [
    "# Function can return multiple values"
   ]
  },
  {
   "cell_type": "code",
   "execution_count": 42,
   "id": "dc3880bb",
   "metadata": {},
   "outputs": [],
   "source": [
    "def arithmatic_op(x,y):\n",
    "    return x + y, x - y, x*y,x/y"
   ]
  },
  {
   "cell_type": "code",
   "execution_count": 43,
   "id": "40fab2ad",
   "metadata": {},
   "outputs": [
    {
     "data": {
      "text/plain": [
       "(20, 10, 75, 3.0)"
      ]
     },
     "execution_count": 43,
     "metadata": {},
     "output_type": "execute_result"
    }
   ],
   "source": [
    "arithmatic_op(x=15,y=5)"
   ]
  },
  {
   "cell_type": "code",
   "execution_count": 44,
   "id": "48e4234e",
   "metadata": {},
   "outputs": [],
   "source": [
    "total, diff, mul, div = arithmatic_op(x=15,y=5)"
   ]
  },
  {
   "cell_type": "code",
   "execution_count": 45,
   "id": "a92f4279",
   "metadata": {},
   "outputs": [
    {
     "data": {
      "text/plain": [
       "20"
      ]
     },
     "execution_count": 45,
     "metadata": {},
     "output_type": "execute_result"
    }
   ],
   "source": [
    "total"
   ]
  },
  {
   "cell_type": "code",
   "execution_count": 46,
   "id": "a6788692",
   "metadata": {},
   "outputs": [
    {
     "data": {
      "text/plain": [
       "10"
      ]
     },
     "execution_count": 46,
     "metadata": {},
     "output_type": "execute_result"
    }
   ],
   "source": [
    "diff"
   ]
  },
  {
   "cell_type": "code",
   "execution_count": 47,
   "id": "1e8fd5ef",
   "metadata": {},
   "outputs": [
    {
     "data": {
      "text/plain": [
       "75"
      ]
     },
     "execution_count": 47,
     "metadata": {},
     "output_type": "execute_result"
    }
   ],
   "source": [
    "mul"
   ]
  },
  {
   "cell_type": "code",
   "execution_count": 48,
   "id": "9fa240aa",
   "metadata": {},
   "outputs": [
    {
     "data": {
      "text/plain": [
       "3.0"
      ]
     },
     "execution_count": 48,
     "metadata": {},
     "output_type": "execute_result"
    }
   ],
   "source": [
    "div"
   ]
  },
  {
   "cell_type": "markdown",
   "id": "fdb35dc8",
   "metadata": {},
   "source": [
    "# Local Variable and Global Variable"
   ]
  },
  {
   "cell_type": "code",
   "execution_count": 53,
   "id": "111ee493",
   "metadata": {},
   "outputs": [],
   "source": [
    "x ='awesome'\n",
    "def chant():\n",
    "    x = 'fantastic'\n",
    "    lang ='python'\n",
    "    print(f\"{x} {lang}\")"
   ]
  },
  {
   "cell_type": "code",
   "execution_count": 51,
   "id": "73452fc3",
   "metadata": {},
   "outputs": [
    {
     "data": {
      "text/plain": [
       "'awesome'"
      ]
     },
     "execution_count": 51,
     "metadata": {},
     "output_type": "execute_result"
    }
   ],
   "source": [
    "x"
   ]
  },
  {
   "cell_type": "code",
   "execution_count": 55,
   "id": "ad82975e",
   "metadata": {},
   "outputs": [
    {
     "name": "stdout",
     "output_type": "stream",
     "text": [
      "fantastic python\n"
     ]
    }
   ],
   "source": [
    "chant()"
   ]
  },
  {
   "cell_type": "code",
   "execution_count": 56,
   "id": "d5e3cdac",
   "metadata": {},
   "outputs": [
    {
     "data": {
      "text/plain": [
       "'awesome'"
      ]
     },
     "execution_count": 56,
     "metadata": {},
     "output_type": "execute_result"
    }
   ],
   "source": [
    "x"
   ]
  },
  {
   "cell_type": "code",
   "execution_count": 57,
   "id": "cb0db656",
   "metadata": {},
   "outputs": [
    {
     "ename": "NameError",
     "evalue": "name 'lang' is not defined",
     "output_type": "error",
     "traceback": [
      "\u001b[1;31m---------------------------------------------------------------------------\u001b[0m",
      "\u001b[1;31mNameError\u001b[0m                                 Traceback (most recent call last)",
      "Cell \u001b[1;32mIn[57], line 1\u001b[0m\n\u001b[1;32m----> 1\u001b[0m \u001b[43mlang\u001b[49m\n",
      "\u001b[1;31mNameError\u001b[0m: name 'lang' is not defined"
     ]
    }
   ],
   "source": [
    "lang"
   ]
  },
  {
   "cell_type": "code",
   "execution_count": 64,
   "id": "1387e487",
   "metadata": {},
   "outputs": [],
   "source": [
    "x ='awesome'\n",
    "def chant():\n",
    "    global lang\n",
    "    global x\n",
    "    x = 'fantastic'\n",
    "    lang ='python'\n",
    "    print(f\"{x} {lang}\")"
   ]
  },
  {
   "cell_type": "code",
   "execution_count": 65,
   "id": "913a6c44",
   "metadata": {},
   "outputs": [
    {
     "data": {
      "text/plain": [
       "'awesome'"
      ]
     },
     "execution_count": 65,
     "metadata": {},
     "output_type": "execute_result"
    }
   ],
   "source": [
    "x"
   ]
  },
  {
   "cell_type": "code",
   "execution_count": 66,
   "id": "6e367d8f",
   "metadata": {},
   "outputs": [
    {
     "name": "stdout",
     "output_type": "stream",
     "text": [
      "fantastic python\n"
     ]
    }
   ],
   "source": [
    "chant()"
   ]
  },
  {
   "cell_type": "code",
   "execution_count": 67,
   "id": "1929ca59",
   "metadata": {},
   "outputs": [
    {
     "data": {
      "text/plain": [
       "'fantastic'"
      ]
     },
     "execution_count": 67,
     "metadata": {},
     "output_type": "execute_result"
    }
   ],
   "source": [
    "x"
   ]
  },
  {
   "cell_type": "code",
   "execution_count": 68,
   "id": "53f25ab4",
   "metadata": {},
   "outputs": [
    {
     "data": {
      "text/plain": [
       "'python'"
      ]
     },
     "execution_count": 68,
     "metadata": {},
     "output_type": "execute_result"
    }
   ],
   "source": [
    "lang"
   ]
  },
  {
   "cell_type": "code",
   "execution_count": null,
   "id": "6ad9e810",
   "metadata": {},
   "outputs": [],
   "source": [
    "/."
   ]
  }
 ],
 "metadata": {
  "kernelspec": {
   "display_name": "Python 3 (ipykernel)",
   "language": "python",
   "name": "python3"
  },
  "language_info": {
   "codemirror_mode": {
    "name": "ipython",
    "version": 3
   },
   "file_extension": ".py",
   "mimetype": "text/x-python",
   "name": "python",
   "nbconvert_exporter": "python",
   "pygments_lexer": "ipython3",
   "version": "3.8.10"
  }
 },
 "nbformat": 4,
 "nbformat_minor": 5
}
