{
 "cells": [
  {
   "cell_type": "markdown",
   "id": "dd3cddcd",
   "metadata": {},
   "source": [
    "# Python Strings"
   ]
  },
  {
   "cell_type": "code",
   "execution_count": 1,
   "id": "8f6ddd97",
   "metadata": {},
   "outputs": [
    {
     "data": {
      "text/plain": [
       "True"
      ]
     },
     "execution_count": 1,
     "metadata": {},
     "output_type": "execute_result"
    }
   ],
   "source": [
    "msg1 = 'hi'\n",
    "msg2 = \"hi\"\n",
    "msg1 == msg2"
   ]
  },
  {
   "cell_type": "code",
   "execution_count": 2,
   "id": "c4d3ed7d",
   "metadata": {},
   "outputs": [
    {
     "data": {
      "text/plain": [
       "False"
      ]
     },
     "execution_count": 2,
     "metadata": {},
     "output_type": "execute_result"
    }
   ],
   "source": [
    "msg1 = 'Hi'\n",
    "msg2 = \"hi\"\n",
    "msg1 == msg2"
   ]
  },
  {
   "cell_type": "code",
   "execution_count": 3,
   "id": "c13aace4",
   "metadata": {},
   "outputs": [],
   "source": [
    "msg1 = 'hi'\n",
    "msg2 = \"hi\"\n",
    "assert msg1 == msg2"
   ]
  },
  {
   "cell_type": "code",
   "execution_count": 4,
   "id": "a6022b26",
   "metadata": {},
   "outputs": [
    {
     "ename": "AssertionError",
     "evalue": "",
     "output_type": "error",
     "traceback": [
      "\u001b[1;31m---------------------------------------------------------------------------\u001b[0m",
      "\u001b[1;31mAssertionError\u001b[0m                            Traceback (most recent call last)",
      "Cell \u001b[1;32mIn[4], line 3\u001b[0m\n\u001b[0;32m      1\u001b[0m msg1 \u001b[38;5;241m=\u001b[39m \u001b[38;5;124m'\u001b[39m\u001b[38;5;124mHi\u001b[39m\u001b[38;5;124m'\u001b[39m\n\u001b[0;32m      2\u001b[0m msg2 \u001b[38;5;241m=\u001b[39m \u001b[38;5;124m\"\u001b[39m\u001b[38;5;124mhi\u001b[39m\u001b[38;5;124m\"\u001b[39m\n\u001b[1;32m----> 3\u001b[0m \u001b[38;5;28;01massert\u001b[39;00m msg1 \u001b[38;5;241m==\u001b[39m msg2\n",
      "\u001b[1;31mAssertionError\u001b[0m: "
     ]
    }
   ],
   "source": [
    "msg1 = 'Hi'\n",
    "msg2 = \"hi\"\n",
    "assert msg1 == msg2 @ assert is used in debuging"
   ]
  },
  {
   "cell_type": "code",
   "execution_count": 5,
   "id": "a008c16f",
   "metadata": {},
   "outputs": [],
   "source": [
    "assert 2 == 2 "
   ]
  },
  {
   "cell_type": "code",
   "execution_count": 6,
   "id": "187656fd",
   "metadata": {},
   "outputs": [
    {
     "ename": "SyntaxError",
     "evalue": "invalid syntax (2251705771.py, line 1)",
     "output_type": "error",
     "traceback": [
      "\u001b[1;36m  Cell \u001b[1;32mIn[6], line 1\u001b[1;36m\u001b[0m\n\u001b[1;33m    asert 2 == 3\u001b[0m\n\u001b[1;37m          ^\u001b[0m\n\u001b[1;31mSyntaxError\u001b[0m\u001b[1;31m:\u001b[0m invalid syntax\n"
     ]
    }
   ],
   "source": [
    "asert 2 == 3 "
   ]
  },
  {
   "cell_type": "code",
   "execution_count": null,
   "id": "446a8e6f",
   "metadata": {},
   "outputs": [],
   "source": []
  }
 ],
 "metadata": {
  "kernelspec": {
   "display_name": "Python 3 (ipykernel)",
   "language": "python",
   "name": "python3"
  },
  "language_info": {
   "codemirror_mode": {
    "name": "ipython",
    "version": 3
   },
   "file_extension": ".py",
   "mimetype": "text/x-python",
   "name": "python",
   "nbconvert_exporter": "python",
   "pygments_lexer": "ipython3",
   "version": "3.8.10"
  }
 },
 "nbformat": 4,
 "nbformat_minor": 5
}
