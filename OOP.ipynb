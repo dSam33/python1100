{
 "cells": [
  {
   "cell_type": "markdown",
   "id": "10b023a4",
   "metadata": {},
   "source": [
    "# Object Oriented Programming (OOP)\n",
    "## Creating Empty class"
   ]
  },
  {
   "cell_type": "code",
   "execution_count": null,
   "id": "39bc8152",
   "metadata": {},
   "outputs": [],
   "source": [
    "class  Person: # class is a blurprint to create object\n",
    "    pass"
   ]
  },
  {
   "cell_type": "code",
   "execution_count": null,
   "id": "dc0dbf23",
   "metadata": {},
   "outputs": [],
   "source": [
    "obj = Person() # object is a instance of a class"
   ]
  },
  {
   "cell_type": "code",
   "execution_count": null,
   "id": "9365ada8",
   "metadata": {},
   "outputs": [],
   "source": [
    "print(type(obj))"
   ]
  },
  {
   "cell_type": "code",
   "execution_count": null,
   "id": "30b15be5",
   "metadata": {},
   "outputs": [],
   "source": [
    "if __name__ == \"__main__\": # Main is the entry point of the python class\n",
    "    obj = Person()\n",
    "    print(type(obj))"
   ]
  },
  {
   "cell_type": "code",
   "execution_count": null,
   "id": "06bb5e18",
   "metadata": {},
   "outputs": [],
   "source": [
    "__name__"
   ]
  },
  {
   "cell_type": "markdown",
   "id": "b1cc30ba",
   "metadata": {},
   "source": [
    "# class attribute and instance atrribute\n",
    "\n",
    "## class attribute"
   ]
  },
  {
   "cell_type": "code",
   "execution_count": null,
   "id": "efc19f46",
   "metadata": {},
   "outputs": [],
   "source": [
    "class Mammal:\n",
    "    has_hair = True  # class attribute is same for all object"
   ]
  },
  {
   "cell_type": "code",
   "execution_count": null,
   "id": "38ccd17e",
   "metadata": {},
   "outputs": [],
   "source": [
    "human = Mammal()\n",
    "human.has_hair"
   ]
  },
  {
   "cell_type": "code",
   "execution_count": null,
   "id": "861289c1",
   "metadata": {},
   "outputs": [],
   "source": [
    "cow = Mammal()\n",
    "cow.has_hair"
   ]
  },
  {
   "cell_type": "markdown",
   "id": "662cc960",
   "metadata": {},
   "source": [
    "### Instance attribute/object attribute"
   ]
  },
  {
   "cell_type": "code",
   "execution_count": null,
   "id": "be1291e5",
   "metadata": {},
   "outputs": [],
   "source": [
    "class Mammal:\n",
    "    has_hair = True\n",
    "    \n",
    "    def __init__(self, no_of_legs):\n",
    "        self.no_of_legs = no_of_legs # no_of_legs = object ko attribute ho "
   ]
  },
  {
   "cell_type": "code",
   "execution_count": null,
   "id": "41aa0f4c",
   "metadata": {},
   "outputs": [],
   "source": [
    "human = Mammal(no_of_legs =2)"
   ]
  },
  {
   "cell_type": "code",
   "execution_count": null,
   "id": "b3933d28",
   "metadata": {},
   "outputs": [],
   "source": [
    "human.has_hair"
   ]
  },
  {
   "cell_type": "code",
   "execution_count": null,
   "id": "71fa3645",
   "metadata": {},
   "outputs": [],
   "source": [
    "human.no_of_legs"
   ]
  },
  {
   "cell_type": "code",
   "execution_count": null,
   "id": "2e0e8750",
   "metadata": {},
   "outputs": [],
   "source": [
    "cow = Mammal(no_of_legs = 4)"
   ]
  },
  {
   "cell_type": "code",
   "execution_count": null,
   "id": "9c81e81b",
   "metadata": {},
   "outputs": [],
   "source": [
    "cow.has_hair"
   ]
  },
  {
   "cell_type": "code",
   "execution_count": null,
   "id": "38b94957",
   "metadata": {},
   "outputs": [],
   "source": [
    "cow.no_of_legs"
   ]
  },
  {
   "cell_type": "code",
   "execution_count": null,
   "id": "3c564135",
   "metadata": {},
   "outputs": [],
   "source": [
    "class Mammal:\n",
    "    def __init__(self, no_of_legs):\n",
    "        print(type(self))\n",
    "        self.no_of_legs= no_of_legs # init are not constructor but new are constructor"
   ]
  },
  {
   "cell_type": "code",
   "execution_count": null,
   "id": "251a6658",
   "metadata": {},
   "outputs": [],
   "source": [
    "human = Mammal(2)"
   ]
  },
  {
   "cell_type": "markdown",
   "id": "718c4c3d",
   "metadata": {},
   "source": [
    "# user define method in class"
   ]
  },
  {
   "cell_type": "code",
   "execution_count": null,
   "id": "b70a386c",
   "metadata": {},
   "outputs": [],
   "source": [
    "class Person:\n",
    "    def __init__(self, name, age):\n",
    "        self.name = name\n",
    "        self.age = age\n",
    "        \n",
    "    def display_age(self):\n",
    "        print(f\"Your age is {self.age}\")\n",
    "        \n",
    "    def display_name(self):\n",
    "        print(f\"Your name is {self.name}\")\n",
    "\n",
    "p1= Person(name='kshitiz',age =25)\n"
   ]
  },
  {
   "cell_type": "code",
   "execution_count": null,
   "id": "0f3bc7b2",
   "metadata": {},
   "outputs": [],
   "source": [
    "p1.display_age()"
   ]
  },
  {
   "cell_type": "code",
   "execution_count": null,
   "id": "e6074bd2",
   "metadata": {},
   "outputs": [],
   "source": [
    "p1.display_name()"
   ]
  },
  {
   "cell_type": "code",
   "execution_count": null,
   "id": "f6de01ff",
   "metadata": {},
   "outputs": [],
   "source": [
    "p2= Person(name='Ram', age =20)"
   ]
  },
  {
   "cell_type": "code",
   "execution_count": null,
   "id": "d3a41d94",
   "metadata": {},
   "outputs": [],
   "source": [
    "p2.display_age()"
   ]
  },
  {
   "cell_type": "code",
   "execution_count": null,
   "id": "fbd14396",
   "metadata": {},
   "outputs": [],
   "source": [
    "p2.display_name()"
   ]
  },
  {
   "cell_type": "markdown",
   "id": "6c50f7dd",
   "metadata": {},
   "source": [
    "Type Markdown and latex \\fraca^2"
   ]
  },
  {
   "cell_type": "code",
   "execution_count": null,
   "id": "d5e2bc57",
   "metadata": {},
   "outputs": [],
   "source": [
    "class A:\n",
    "    pass"
   ]
  },
  {
   "cell_type": "code",
   "execution_count": null,
   "id": "8a84e1c2",
   "metadata": {},
   "outputs": [],
   "source": [
    "A()"
   ]
  },
  {
   "cell_type": "code",
   "execution_count": null,
   "id": "32690f30",
   "metadata": {},
   "outputs": [],
   "source": [
    "import math\n",
    "\n",
    "class Area:\n",
    "    def __init__(self, r):\n",
    "        self.radius = r\n",
    "    def area_c(self):\n",
    "        return math.pi*self.radius**2\n"
   ]
  },
  {
   "cell_type": "code",
   "execution_count": null,
   "id": "a1c10790",
   "metadata": {},
   "outputs": [],
   "source": [
    "radius = float(input(\"Enter radius: \"))\n",
    "c1= Area(r = radius)"
   ]
  },
  {
   "cell_type": "code",
   "execution_count": null,
   "id": "085a65a6",
   "metadata": {},
   "outputs": [],
   "source": [
    "c1.area_c()"
   ]
  },
  {
   "cell_type": "code",
   "execution_count": null,
   "id": "5330136a",
   "metadata": {},
   "outputs": [],
   "source": [
    "class circle:\n",
    "    def area(r):\n",
    "        return math.pi*r**2\n"
   ]
  },
  {
   "cell_type": "code",
   "execution_count": null,
   "id": "59c55724",
   "metadata": {},
   "outputs": [],
   "source": [
    "o = circle()"
   ]
  },
  {
   "cell_type": "code",
   "execution_count": null,
   "id": "f33e1fcc",
   "metadata": {},
   "outputs": [],
   "source": [
    "o.area(r=5)"
   ]
  },
  {
   "cell_type": "code",
   "execution_count": 6,
   "id": "0bcaa0a6",
   "metadata": {},
   "outputs": [
    {
     "ename": "SyntaxError",
     "evalue": "invalid character in identifier (2779763391.py, line 2)",
     "output_type": "error",
     "traceback": [
      "\u001b[1;36m  Cell \u001b[1;32mIn[6], line 2\u001b[1;36m\u001b[0m\n\u001b[1;33m    def __init__(self):\u001b[0m\n\u001b[1;37m    ^\u001b[0m\n\u001b[1;31mSyntaxError\u001b[0m\u001b[1;31m:\u001b[0m invalid character in identifier\n"
     ]
    }
   ],
   "source": [
    "class area:\n",
    "    def __init__(self):\n",
    "            self.l = length\n",
    "        self.b = breadth\n",
    "\n",
    "    def area(self):\n",
    "        return self.l*self.b"
   ]
  },
  {
   "cell_type": "code",
   "execution_count": 1,
   "id": "d29964a2",
   "metadata": {},
   "outputs": [
    {
     "ename": "SyntaxError",
     "evalue": "invalid character in identifier (4108882214.py, line 2)",
     "output_type": "error",
     "traceback": [
      "\u001b[1;36m  Cell \u001b[1;32mIn[1], line 2\u001b[1;36m\u001b[0m\n\u001b[1;33m    def __init__(self,l,b):\u001b[0m\n\u001b[1;37m    ^\u001b[0m\n\u001b[1;31mSyntaxError\u001b[0m\u001b[1;31m:\u001b[0m invalid character in identifier\n"
     ]
    }
   ],
   "source": [
    "class area:\n",
    "    def __init__(self,l,b):\n",
    "        self.l =l\n",
    "        self.b = b\n",
    "    def area(self):\n",
    "        return self.l*self.b"
   ]
  },
  {
   "cell_type": "code",
   "execution_count": 27,
   "id": "6aa582fa",
   "metadata": {},
   "outputs": [],
   "source": [
    "class a:\n",
    "    def __init__(self, c,d):\n",
    "        self.l= c\n",
    "        self.b = d\n",
    "    def area(self):\n",
    "        return self.l*self.b"
   ]
  },
  {
   "cell_type": "code",
   "execution_count": 28,
   "id": "53b85abd",
   "metadata": {},
   "outputs": [],
   "source": [
    "first_area= a(c=5,d=2)"
   ]
  },
  {
   "cell_type": "code",
   "execution_count": 29,
   "id": "35fb38b4",
   "metadata": {},
   "outputs": [
    {
     "data": {
      "text/plain": [
       "10"
      ]
     },
     "execution_count": 29,
     "metadata": {},
     "output_type": "execute_result"
    }
   ],
   "source": [
    "first_area.area()"
   ]
  },
  {
   "cell_type": "code",
   "execution_count": null,
   "id": "d631dd26",
   "metadata": {},
   "outputs": [],
   "source": []
  }
 ],
 "metadata": {
  "kernelspec": {
   "display_name": "Python 3 (ipykernel)",
   "language": "python",
   "name": "python3"
  },
  "language_info": {
   "codemirror_mode": {
    "name": "ipython",
    "version": 3
   },
   "file_extension": ".py",
   "mimetype": "text/x-python",
   "name": "python",
   "nbconvert_exporter": "python",
   "pygments_lexer": "ipython3",
   "version": "3.8.10"
  }
 },
 "nbformat": 4,
 "nbformat_minor": 5
}
