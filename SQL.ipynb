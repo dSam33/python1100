{
 "cells": [
  {
   "cell_type": "markdown",
   "id": "a645fc41",
   "metadata": {},
   "source": [
    "# SQL  Structured query Language\n",
    "\n",
    "Relational database\n"
   ]
  },
  {
   "cell_type": "code",
   "execution_count": 1,
   "id": "1df39b74",
   "metadata": {},
   "outputs": [],
   "source": [
    "import sqlite3"
   ]
  },
  {
   "cell_type": "markdown",
   "id": "776d6296",
   "metadata": {},
   "source": [
    "# Creating databse"
   ]
  },
  {
   "cell_type": "code",
   "execution_count": 2,
   "id": "ded5f115",
   "metadata": {},
   "outputs": [],
   "source": [
    "con = sqlite3.connect('college.db')"
   ]
  },
  {
   "cell_type": "code",
   "execution_count": 3,
   "id": "0c54d46f",
   "metadata": {},
   "outputs": [
    {
     "data": {
      "text/plain": [
       "<sqlite3.Connection at 0x153bd524210>"
      ]
     },
     "execution_count": 3,
     "metadata": {},
     "output_type": "execute_result"
    }
   ],
   "source": [
    "con"
   ]
  },
  {
   "cell_type": "code",
   "execution_count": 4,
   "id": "650a5477",
   "metadata": {},
   "outputs": [],
   "source": [
    "cur = con.cursor() # cursor execute sql query"
   ]
  },
  {
   "cell_type": "code",
   "execution_count": 5,
   "id": "7aa5fe5f",
   "metadata": {},
   "outputs": [
    {
     "data": {
      "text/plain": [
       "<sqlite3.Cursor at 0x153bd493960>"
      ]
     },
     "execution_count": 5,
     "metadata": {},
     "output_type": "execute_result"
    }
   ],
   "source": [
    "cur"
   ]
  },
  {
   "cell_type": "markdown",
   "id": "edbd8fa5",
   "metadata": {},
   "source": [
    "#  create table sql\n",
    "``` sql\n",
    "create table table_name(column_name datatype, Column_name datatpye......)\n",
    "\n",
    "```\n",
    "\n",
    "``` sql \n",
    "create table student ( roll_no int, name varchar(50))\n",
    "\n",
    "```"
   ]
  },
  {
   "cell_type": "code",
   "execution_count": 6,
   "id": "a582e7bf",
   "metadata": {},
   "outputs": [],
   "source": [
    "create_query =\"\"\"\n",
    "create table student (roll_no int, name varchar(50))\n",
    "\"\"\""
   ]
  },
  {
   "cell_type": "code",
   "execution_count": 8,
   "id": "af023ec5",
   "metadata": {},
   "outputs": [
    {
     "data": {
      "text/plain": [
       "<sqlite3.Cursor at 0x153bd493960>"
      ]
     },
     "execution_count": 8,
     "metadata": {},
     "output_type": "execute_result"
    }
   ],
   "source": [
    "cur.execute(create_query)"
   ]
  },
  {
   "cell_type": "markdown",
   "id": "462d6069",
   "metadata": {},
   "source": [
    "# insert on table\n",
    "\n",
    "```sql\n",
    "insert into table_name(column_name, column_name ...) values(val1,val2.....)\n",
    "```"
   ]
  },
  {
   "cell_type": "code",
   "execution_count": 9,
   "id": "78ab309c",
   "metadata": {},
   "outputs": [],
   "source": [
    "insert_query =\"\"\"\n",
    "INSERT INTO student(roll_no, name)\n",
    "values\n",
    "(1,'Kshitiz'),\n",
    "(2, 'Sandesh'),\n",
    "(3, 'Harish'),\n",
    "(4,'Surbir')\n",
    "\"\"\""
   ]
  },
  {
   "cell_type": "code",
   "execution_count": 11,
   "id": "f302bd8b",
   "metadata": {},
   "outputs": [
    {
     "data": {
      "text/plain": [
       "<sqlite3.Cursor at 0x153bd493960>"
      ]
     },
     "execution_count": 11,
     "metadata": {},
     "output_type": "execute_result"
    }
   ],
   "source": [
    "cur.execute(insert_query)"
   ]
  },
  {
   "cell_type": "markdown",
   "id": "ad8be8dd",
   "metadata": {},
   "source": [
    "# select statement in sql"
   ]
  },
  {
   "cell_type": "code",
   "execution_count": 12,
   "id": "1006dfd8",
   "metadata": {},
   "outputs": [],
   "source": [
    "query =\"select * from student\""
   ]
  },
  {
   "cell_type": "code",
   "execution_count": 13,
   "id": "e0220a29",
   "metadata": {},
   "outputs": [
    {
     "data": {
      "text/plain": [
       "<sqlite3.Cursor at 0x153bd493960>"
      ]
     },
     "execution_count": 13,
     "metadata": {},
     "output_type": "execute_result"
    }
   ],
   "source": [
    "cur.execute(query)"
   ]
  },
  {
   "cell_type": "code",
   "execution_count": 14,
   "id": "12b30d0c",
   "metadata": {},
   "outputs": [
    {
     "data": {
      "text/plain": [
       "[(1, 'Kshitiz'), (2, 'Sandesh'), (3, 'Harish'), (4, 'Surbir')]"
      ]
     },
     "execution_count": 14,
     "metadata": {},
     "output_type": "execute_result"
    }
   ],
   "source": [
    "cur.execute(query).fetchall()"
   ]
  },
  {
   "cell_type": "code",
   "execution_count": 18,
   "id": "61f6dd14",
   "metadata": {},
   "outputs": [],
   "source": [
    "query = \"\"\"\n",
    "select name from student where roll_no = 3\n",
    "\"\"\""
   ]
  },
  {
   "cell_type": "code",
   "execution_count": 19,
   "id": "79a9323d",
   "metadata": {},
   "outputs": [
    {
     "data": {
      "text/plain": [
       "[('Harish',)]"
      ]
     },
     "execution_count": 19,
     "metadata": {},
     "output_type": "execute_result"
    }
   ],
   "source": [
    "cur.execute(query).fetchall()"
   ]
  },
  {
   "cell_type": "code",
   "execution_count": 41,
   "id": "36c1e745",
   "metadata": {},
   "outputs": [],
   "source": [
    "query = \"\"\"\n",
    "select name from student where name like 'S%'\n",
    "\"\"\""
   ]
  },
  {
   "cell_type": "code",
   "execution_count": 42,
   "id": "75eeffb6",
   "metadata": {},
   "outputs": [
    {
     "data": {
      "text/plain": [
       "[('Sandesh',), ('Surbir',)]"
      ]
     },
     "execution_count": 42,
     "metadata": {},
     "output_type": "execute_result"
    }
   ],
   "source": [
    "cur.execute(query).fetchall()"
   ]
  },
  {
   "cell_type": "markdown",
   "id": "a9f0f95a",
   "metadata": {},
   "source": [
    "# update\n",
    "\n",
    "```sql\n",
    "update table_name\n",
    "set col = val\n",
    "where\n",
    "id = id\n",
    "```"
   ]
  },
  {
   "cell_type": "code",
   "execution_count": 43,
   "id": "9d4c0f73",
   "metadata": {},
   "outputs": [],
   "source": [
    "query = \"\"\"\n",
    "update student\n",
    "set name ='Kshitiz Regmi'\n",
    "where roll_no = 1\n",
    "\"\"\""
   ]
  },
  {
   "cell_type": "code",
   "execution_count": 44,
   "id": "637961f7",
   "metadata": {},
   "outputs": [
    {
     "data": {
      "text/plain": [
       "<sqlite3.Cursor at 0x153bd493960>"
      ]
     },
     "execution_count": 44,
     "metadata": {},
     "output_type": "execute_result"
    }
   ],
   "source": [
    "cur.execute(query)"
   ]
  },
  {
   "cell_type": "code",
   "execution_count": 45,
   "id": "1f7188b7",
   "metadata": {},
   "outputs": [
    {
     "data": {
      "text/plain": [
       "[(1, 'Kshitiz Regmi'), (2, 'Sandesh'), (3, 'Harish'), (4, 'Surbir')]"
      ]
     },
     "execution_count": 45,
     "metadata": {},
     "output_type": "execute_result"
    }
   ],
   "source": [
    "cur.execute(\"select * from student\").fetchall()"
   ]
  },
  {
   "cell_type": "markdown",
   "id": "a8863402",
   "metadata": {},
   "source": [
    "# delete\n",
    "``` sql\n",
    "delete from table_name\n",
    "where id = id\n",
    "```"
   ]
  },
  {
   "cell_type": "code",
   "execution_count": 46,
   "id": "47b0719c",
   "metadata": {},
   "outputs": [
    {
     "data": {
      "text/plain": [
       "<sqlite3.Cursor at 0x153bd493960>"
      ]
     },
     "execution_count": 46,
     "metadata": {},
     "output_type": "execute_result"
    }
   ],
   "source": [
    "cur.execute('delete from student where roll_no = 1')"
   ]
  },
  {
   "cell_type": "code",
   "execution_count": 47,
   "id": "5a60b4ba",
   "metadata": {},
   "outputs": [
    {
     "data": {
      "text/plain": [
       "[(2, 'Sandesh'), (3, 'Harish'), (4, 'Surbir')]"
      ]
     },
     "execution_count": 47,
     "metadata": {},
     "output_type": "execute_result"
    }
   ],
   "source": [
    "cur.execute('select * from student').fetchall()"
   ]
  },
  {
   "cell_type": "code",
   "execution_count": null,
   "id": "3e4344dd",
   "metadata": {},
   "outputs": [],
   "source": []
  }
 ],
 "metadata": {
  "kernelspec": {
   "display_name": "Python 3 (ipykernel)",
   "language": "python",
   "name": "python3"
  },
  "language_info": {
   "codemirror_mode": {
    "name": "ipython",
    "version": 3
   },
   "file_extension": ".py",
   "mimetype": "text/x-python",
   "name": "python",
   "nbconvert_exporter": "python",
   "pygments_lexer": "ipython3",
   "version": "3.8.10"
  }
 },
 "nbformat": 4,
 "nbformat_minor": 5
}
