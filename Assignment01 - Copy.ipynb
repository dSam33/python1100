{
 "cells": [
  {
   "cell_type": "markdown",
   "id": "e4bd8244",
   "metadata": {},
   "source": [
    "# Swap"
   ]
  },
  {
   "cell_type": "code",
   "execution_count": null,
   "id": "93eb8b91",
   "metadata": {},
   "outputs": [],
   "source": [
    "num1 = int(input(\"Enter the First Number : \"))\n",
    "num2 = int(input(\"Enter the Second Number : \"))\n",
    "temp1 , temp2 = num2, num1\n",
    "print(f\"The first number {num1} after swap becomes {temp1}\")\n",
    "print(f\"The second number {num2} after swap becomes {temp2}\")\n",
    "temp=num1\n",
    "num1=num2\n",
    "num2=temp\n",
    "print(f\"The first number {temp} after swap becomes {num1}\")\n",
    "print(f\"The second number {num1} after swap becomes {num2}\")"
   ]
  },
  {
   "cell_type": "markdown",
   "id": "4dd4b893",
   "metadata": {},
   "source": [
    "# How many seconds are there in 42 minutes 42 seconds?"
   ]
  },
  {
   "cell_type": "code",
   "execution_count": null,
   "id": "412fd50e",
   "metadata": {},
   "outputs": [],
   "source": [
    "num1, num2 = int(input(\"Enter the minutes: \")),int(input(\"Enter the seconds: \"))\n",
    "num4 = num1*60 + num2\n",
    "print(f\"There are {num4} seconds in {num1} minutes and {num2} seconds\")"
   ]
  },
  {
   "cell_type": "markdown",
   "id": "e796d117",
   "metadata": {},
   "source": [
    "# How many miles are there in 10 kilometers? Hint: there are 1.609 kilometers in a mile."
   ]
  },
  {
   "cell_type": "code",
   "execution_count": null,
   "id": "eea912dd",
   "metadata": {},
   "outputs": [],
   "source": [
    "Mile=1.609\n",
    "kilom = int(input(\"Eterthe distance in kilometer:\"))\n",
    "mile= kilom/Mile\n",
    "print(f\"There are {mile} miles in {kilom} kilometers\")\n"
   ]
  },
  {
   "cell_type": "markdown",
   "id": "d56cf1e2",
   "metadata": {},
   "source": [
    "# If you run a 10 kilometer race in 42 minutes 42 seconds, What is your average pace ( speed: mile in minutes and miles in seconds)?"
   ]
  },
  {
   "cell_type": "code",
   "execution_count": null,
   "id": "4e028a30",
   "metadata": {},
   "outputs": [],
   "source": [
    "\n"
   ]
  },
  {
   "cell_type": "markdown",
   "id": "4b5c0d28",
   "metadata": {},
   "source": [
    "The volume of a sphere with radius r is 4/3 "
   ]
  },
  {
   "cell_type": "markdown",
   "id": "2664640a",
   "metadata": {},
   "source": [
    "$$ 1.609 KM = 1 Mile$$\n",
    "$$ 1 KM = \\frac{1}{1.609} Miles$$\n",
    "$$ 10 KM  = \\frac{10}{1.609} Miles$$"
   ]
  },
  {
   "cell_type": "code",
   "execution_count": null,
   "id": "795f94c1",
   "metadata": {},
   "outputs": [],
   "source": [
    "distance_in_miles=10/1.609\n",
    "distance_in_miles"
   ]
  },
  {
   "cell_type": "code",
   "execution_count": null,
   "id": "c374bca9",
   "metadata": {},
   "outputs": [],
   "source": [
    "time_in_min = 42 + 42/60\n",
    "time_in_min "
   ]
  },
  {
   "cell_type": "code",
   "execution_count": null,
   "id": "c9294616",
   "metadata": {},
   "outputs": [],
   "source": [
    "speed = distance_in_miles/time_in_min\n",
    "speed"
   ]
  },
  {
   "cell_type": "code",
   "execution_count": null,
   "id": "55c04c9b",
   "metadata": {},
   "outputs": [],
   "source": [
    "speed = distance_in_miles/num4\n",
    "speed"
   ]
  },
  {
   "cell_type": "markdown",
   "id": "d8b844dd",
   "metadata": {},
   "source": [
    "# Volume of Sphere\n",
    "$$volumne = \\frac{4}{3} \\pi r^3$$\n"
   ]
  },
  {
   "cell_type": "code",
   "execution_count": null,
   "id": "a45396d4",
   "metadata": {},
   "outputs": [],
   "source": [
    "r = int(input(\"Enter the radius of the sphere:\"))\n",
    "PI = 3.14\n",
    "volume = 4/3 * PI*r**3\n",
    "print(f\" The volume of the sphere with radius {r} is {round(volume,2)}\")"
   ]
  },
  {
   "cell_type": "code",
   "execution_count": null,
   "id": "a307fee2",
   "metadata": {},
   "outputs": [],
   "source": [
    "r = float(input(\"Enter the radius of the sphere: \"))\n",
    "import math\n",
    "volume = 4/3*math.pi * r**3\n",
    "round(volume, 3)"
   ]
  },
  {
   "cell_type": "markdown",
   "id": "2966fe12",
   "metadata": {},
   "source": [
    "# Operator Precedence"
   ]
  },
  {
   "cell_type": "code",
   "execution_count": null,
   "id": "ab9164cd",
   "metadata": {},
   "outputs": [],
   "source": [
    "2 ** 3**2 #left to right priority"
   ]
  },
  {
   "cell_type": "code",
   "execution_count": null,
   "id": "ef7534ff",
   "metadata": {},
   "outputs": [],
   "source": [
    "2 ** 9"
   ]
  },
  {
   "cell_type": "markdown",
   "id": "7b0828f0",
   "metadata": {},
   "source": [
    "# WAP to check whether the last digit of a number (Entered by user) is divisible by 3 or not"
   ]
  },
  {
   "cell_type": "code",
   "execution_count": 7,
   "id": "78156792",
   "metadata": {},
   "outputs": [
    {
     "name": "stdout",
     "output_type": "stream",
     "text": [
      "Enter the number:158\n",
      "The last digit of 158 number is not divisible by 3\n"
     ]
    }
   ],
   "source": [
    "n = int(input(\"Enter the number:\"))\n",
    "n_str = repr(n)\n",
    "last_digit_n_str = n_str[-1]\n",
    "if  int(last_digit_n_str)%3 == 0:\n",
    "    print(f\"The last digit of {n} number is divisible by 3\")\n",
    "else:\n",
    "    print(f\"The last digit of {n} number is not divisible by 3\")\n"
   ]
  },
  {
   "cell_type": "code",
   "execution_count": 4,
   "id": "1f725326",
   "metadata": {},
   "outputs": [
    {
     "name": "stdout",
     "output_type": "stream",
     "text": [
      "Enter a number : 53\n",
      " The entered number 53. The last digit is 3 which is divisible by 3\n"
     ]
    }
   ],
   "source": [
    "n = int(input(\"Enter a number : \"))\n",
    "last_digit = n % 10\n",
    "if last_digit % 3 == 0:\n",
    "    print(f\" The entered number {n}. The last digit is {last_digit} which is divisible by 3\")\n",
    "else:\n",
    "    print(f\" The enter number {n}. The last digit is {last_digit} which is not divisible by 3\")"
   ]
  },
  {
   "cell_type": "markdown",
   "id": "8b096169",
   "metadata": {},
   "source": [
    "# WAP to check whether a person is eligible for voling or not.(Accept age from user)"
   ]
  },
  {
   "cell_type": "code",
   "execution_count": 6,
   "id": "e3d57c16",
   "metadata": {},
   "outputs": [
    {
     "name": "stdout",
     "output_type": "stream",
     "text": [
      "Enter your age: 16\n",
      "You are not eligible for voting.\n"
     ]
    }
   ],
   "source": [
    "age = int(input(\"Enter your age: \"))\n",
    "if age >= 18:\n",
    "    print(\"You  are eligible for voting.\")\n",
    "else:\n",
    "        print(\"You are not eligible for voting.\")"
   ]
  },
  {
   "cell_type": "markdown",
   "id": "9df16cd2",
   "metadata": {},
   "source": [
    "# WAP to check whether the user given input integer is positive or negative number if it is positive print positive else negative\n"
   ]
  },
  {
   "cell_type": "code",
   "execution_count": 5,
   "id": "eac2ee40",
   "metadata": {},
   "outputs": [
    {
     "name": "stdout",
     "output_type": "stream",
     "text": [
      "Enter the number: 5\n",
      "The entered integer number is positive\n"
     ]
    }
   ],
   "source": [
    "n = int(input(\"Enter the number: \"))\n",
    "if n >= 0:\n",
    "    print(\"The entered integer number is positive\")\n",
    "else:\n",
    "    print(\"The entered integer number is negative\")\n",
    "    "
   ]
  },
  {
   "cell_type": "markdown",
   "id": "af4a01a7",
   "metadata": {},
   "source": [
    "# WAP to display \"Hello\" if a number entered by user is the multiple of five else print \"Bye\""
   ]
  },
  {
   "cell_type": "code",
   "execution_count": 2,
   "id": "a67dff9a",
   "metadata": {},
   "outputs": [
    {
     "name": "stdout",
     "output_type": "stream",
     "text": [
      "Enter the number: 6\n",
      "Bye\n"
     ]
    }
   ],
   "source": [
    "n = int(input(\"Enter the number: \"))\n",
    "if n % 5 == 0:\n",
    "    print(\"Hello\")\n",
    "else:\n",
    "    print(\"Bye\")"
   ]
  },
  {
   "cell_type": "code",
   "execution_count": null,
   "id": "3f9ec1dd",
   "metadata": {},
   "outputs": [],
   "source": []
  }
 ],
 "metadata": {
  "kernelspec": {
   "display_name": "Python 3 (ipykernel)",
   "language": "python",
   "name": "python3"
  },
  "language_info": {
   "codemirror_mode": {
    "name": "ipython",
    "version": 3
   },
   "file_extension": ".py",
   "mimetype": "text/x-python",
   "name": "python",
   "nbconvert_exporter": "python",
   "pygments_lexer": "ipython3",
   "version": "3.8.10"
  }
 },
 "nbformat": 4,
 "nbformat_minor": 5
}
