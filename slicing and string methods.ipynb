{
 "cells": [
  {
   "cell_type": "code",
   "execution_count": 1,
   "id": "496f199d",
   "metadata": {},
   "outputs": [],
   "source": [
    "wish = \"Happy Birthday to you.\""
   ]
  },
  {
   "cell_type": "code",
   "execution_count": 2,
   "id": "3947b302",
   "metadata": {},
   "outputs": [
    {
     "data": {
      "text/plain": [
       "'H'"
      ]
     },
     "execution_count": 2,
     "metadata": {},
     "output_type": "execute_result"
    }
   ],
   "source": [
    "wish[0]"
   ]
  },
  {
   "cell_type": "code",
   "execution_count": 3,
   "id": "c16f26b5",
   "metadata": {},
   "outputs": [
    {
     "data": {
      "text/plain": [
       "'a'"
      ]
     },
     "execution_count": 3,
     "metadata": {},
     "output_type": "execute_result"
    }
   ],
   "source": [
    "wish[1]"
   ]
  },
  {
   "cell_type": "code",
   "execution_count": 4,
   "id": "0a2c580c",
   "metadata": {},
   "outputs": [
    {
     "data": {
      "text/plain": [
       "' '"
      ]
     },
     "execution_count": 4,
     "metadata": {},
     "output_type": "execute_result"
    }
   ],
   "source": [
    "wish[5]"
   ]
  },
  {
   "cell_type": "code",
   "execution_count": 5,
   "id": "bd25e859",
   "metadata": {},
   "outputs": [
    {
     "data": {
      "text/plain": [
       "'Happy'"
      ]
     },
     "execution_count": 5,
     "metadata": {},
     "output_type": "execute_result"
    }
   ],
   "source": [
    "wish[0:5] # slicing"
   ]
  },
  {
   "cell_type": "code",
   "execution_count": 7,
   "id": "9f6a55f0",
   "metadata": {},
   "outputs": [
    {
     "data": {
      "text/plain": [
       "' Birth'"
      ]
     },
     "execution_count": 7,
     "metadata": {},
     "output_type": "execute_result"
    }
   ],
   "source": [
    "wish[5:11]"
   ]
  },
  {
   "cell_type": "code",
   "execution_count": 9,
   "id": "cfc08d03",
   "metadata": {},
   "outputs": [
    {
     "data": {
      "text/plain": [
       "'Happy'"
      ]
     },
     "execution_count": 9,
     "metadata": {},
     "output_type": "execute_result"
    }
   ],
   "source": [
    "wish[:5]"
   ]
  },
  {
   "cell_type": "code",
   "execution_count": 11,
   "id": "720cdac1",
   "metadata": {},
   "outputs": [
    {
     "data": {
      "text/plain": [
       "'to you'"
      ]
     },
     "execution_count": 11,
     "metadata": {},
     "output_type": "execute_result"
    }
   ],
   "source": [
    "wish[15:21]"
   ]
  },
  {
   "cell_type": "code",
   "execution_count": 13,
   "id": "cdd84f43",
   "metadata": {},
   "outputs": [
    {
     "data": {
      "text/plain": [
       "'Birthday'"
      ]
     },
     "execution_count": 13,
     "metadata": {},
     "output_type": "execute_result"
    }
   ],
   "source": [
    "wish[6:14]"
   ]
  },
  {
   "cell_type": "code",
   "execution_count": 14,
   "id": "2b5be040",
   "metadata": {},
   "outputs": [
    {
     "data": {
      "text/plain": [
       "'RamSita'"
      ]
     },
     "execution_count": 14,
     "metadata": {},
     "output_type": "execute_result"
    }
   ],
   "source": [
    "\"Ram\" + \"Sita\" # concatination"
   ]
  },
  {
   "cell_type": "code",
   "execution_count": 15,
   "id": "8c4b0570",
   "metadata": {},
   "outputs": [
    {
     "data": {
      "text/plain": [
       "15"
      ]
     },
     "execution_count": 15,
     "metadata": {},
     "output_type": "execute_result"
    }
   ],
   "source": [
    "5*3"
   ]
  },
  {
   "cell_type": "code",
   "execution_count": 16,
   "id": "539554db",
   "metadata": {},
   "outputs": [
    {
     "data": {
      "text/plain": [
       "15"
      ]
     },
     "execution_count": 16,
     "metadata": {},
     "output_type": "execute_result"
    }
   ],
   "source": [
    "5+5+5"
   ]
  },
  {
   "cell_type": "code",
   "execution_count": 18,
   "id": "845df924",
   "metadata": {},
   "outputs": [
    {
     "data": {
      "text/plain": [
       "'Ram Ram Ram '"
      ]
     },
     "execution_count": 18,
     "metadata": {},
     "output_type": "execute_result"
    }
   ],
   "source": [
    "\"Ram \" * 3"
   ]
  },
  {
   "cell_type": "markdown",
   "id": "f7347c50",
   "metadata": {},
   "source": [
    "# String Method"
   ]
  },
  {
   "cell_type": "code",
   "execution_count": 19,
   "id": "073f5402",
   "metadata": {},
   "outputs": [],
   "source": [
    "name = 'K$hitiz'"
   ]
  },
  {
   "cell_type": "code",
   "execution_count": 20,
   "id": "6f563502",
   "metadata": {},
   "outputs": [
    {
     "data": {
      "text/plain": [
       "'K$hitiz'"
      ]
     },
     "execution_count": 20,
     "metadata": {},
     "output_type": "execute_result"
    }
   ],
   "source": [
    "name"
   ]
  },
  {
   "cell_type": "code",
   "execution_count": 21,
   "id": "0339d53d",
   "metadata": {},
   "outputs": [
    {
     "data": {
      "text/plain": [
       "2642378536752"
      ]
     },
     "execution_count": 21,
     "metadata": {},
     "output_type": "execute_result"
    }
   ],
   "source": [
    "id(name) # to find the memory location"
   ]
  },
  {
   "cell_type": "code",
   "execution_count": 22,
   "id": "cc466123",
   "metadata": {},
   "outputs": [
    {
     "data": {
      "text/plain": [
       "'$'"
      ]
     },
     "execution_count": 22,
     "metadata": {},
     "output_type": "execute_result"
    }
   ],
   "source": [
    "name[1]"
   ]
  },
  {
   "cell_type": "code",
   "execution_count": 24,
   "id": "efe425d5",
   "metadata": {},
   "outputs": [
    {
     "ename": "TypeError",
     "evalue": "'str' object does not support item assignment",
     "output_type": "error",
     "traceback": [
      "\u001b[1;31m---------------------------------------------------------------------------\u001b[0m",
      "\u001b[1;31mTypeError\u001b[0m                                 Traceback (most recent call last)",
      "Cell \u001b[1;32mIn[24], line 1\u001b[0m\n\u001b[1;32m----> 1\u001b[0m \u001b[43mname\u001b[49m\u001b[43m[\u001b[49m\u001b[38;5;241;43m1\u001b[39;49m\u001b[43m]\u001b[49m \u001b[38;5;241m=\u001b[39m\u001b[38;5;124m'\u001b[39m\u001b[38;5;124m$\u001b[39m\u001b[38;5;124m'\u001b[39m \u001b[38;5;66;03m# we can't update sting because sting are immutable data type, we can't update string value in the same memory location\u001b[39;00m\n",
      "\u001b[1;31mTypeError\u001b[0m: 'str' object does not support item assignment"
     ]
    }
   ],
   "source": [
    "name[1] ='$' # we can't update sting because sting are immutable data type, we can't update string value in the same memory location\n"
   ]
  },
  {
   "cell_type": "markdown",
   "id": "df9fea5e",
   "metadata": {},
   "source": [
    "# .replace()"
   ]
  },
  {
   "cell_type": "code",
   "execution_count": 25,
   "id": "50f5b0e5",
   "metadata": {},
   "outputs": [],
   "source": [
    "name ='K$hitiz'\n"
   ]
  },
  {
   "cell_type": "code",
   "execution_count": 26,
   "id": "cf618a8c",
   "metadata": {},
   "outputs": [
    {
     "data": {
      "text/plain": [
       "2642382664048"
      ]
     },
     "execution_count": 26,
     "metadata": {},
     "output_type": "execute_result"
    }
   ],
   "source": [
    "id(name)"
   ]
  },
  {
   "cell_type": "code",
   "execution_count": 27,
   "id": "1c27699a",
   "metadata": {},
   "outputs": [
    {
     "data": {
      "text/plain": [
       "'Kshitiz'"
      ]
     },
     "execution_count": 27,
     "metadata": {},
     "output_type": "execute_result"
    }
   ],
   "source": [
    "name.replace('$',\"s\")"
   ]
  },
  {
   "cell_type": "code",
   "execution_count": 28,
   "id": "ec853de2",
   "metadata": {},
   "outputs": [],
   "source": [
    "name = name.replace(\"$\", \"s\")"
   ]
  },
  {
   "cell_type": "code",
   "execution_count": 29,
   "id": "16382a35",
   "metadata": {},
   "outputs": [
    {
     "data": {
      "text/plain": [
       "'Kshitiz'"
      ]
     },
     "execution_count": 29,
     "metadata": {},
     "output_type": "execute_result"
    }
   ],
   "source": [
    "name"
   ]
  },
  {
   "cell_type": "code",
   "execution_count": 30,
   "id": "3722c806",
   "metadata": {},
   "outputs": [
    {
     "data": {
      "text/plain": [
       "2642382663792"
      ]
     },
     "execution_count": 30,
     "metadata": {},
     "output_type": "execute_result"
    }
   ],
   "source": [
    "id(name)"
   ]
  },
  {
   "cell_type": "code",
   "execution_count": 31,
   "id": "12e390a9",
   "metadata": {},
   "outputs": [],
   "source": [
    "name = 'K$hitiz $$'"
   ]
  },
  {
   "cell_type": "markdown",
   "id": "ba946071",
   "metadata": {},
   "source": [
    "# Regular Expression or Regex"
   ]
  },
  {
   "cell_type": "code",
   "execution_count": 32,
   "id": "49cff2ac",
   "metadata": {},
   "outputs": [],
   "source": [
    "greet =\"happy New Year\""
   ]
  },
  {
   "cell_type": "code",
   "execution_count": 33,
   "id": "53ed84be",
   "metadata": {},
   "outputs": [
    {
     "data": {
      "text/plain": [
       "'Fantastic New Year'"
      ]
     },
     "execution_count": 33,
     "metadata": {},
     "output_type": "execute_result"
    }
   ],
   "source": [
    "greet.replace(\"happy\", 'Fantastic')"
   ]
  },
  {
   "cell_type": "code",
   "execution_count": 34,
   "id": "f752ebe8",
   "metadata": {},
   "outputs": [],
   "source": [
    "chair = \"steel\""
   ]
  },
  {
   "cell_type": "code",
   "execution_count": 35,
   "id": "abeeee49",
   "metadata": {},
   "outputs": [
    {
     "data": {
      "text/plain": [
       "'wooden'"
      ]
     },
     "execution_count": 35,
     "metadata": {},
     "output_type": "execute_result"
    }
   ],
   "source": [
    "chair.replace('steel','wooden')"
   ]
  },
  {
   "cell_type": "markdown",
   "id": "0ec65fa6",
   "metadata": {},
   "source": [
    "# .upper(),.lower()"
   ]
  },
  {
   "cell_type": "code",
   "execution_count": 37,
   "id": "c03c7397",
   "metadata": {},
   "outputs": [
    {
     "data": {
      "text/plain": [
       "'STEEL'"
      ]
     },
     "execution_count": 37,
     "metadata": {},
     "output_type": "execute_result"
    }
   ],
   "source": [
    "chair.upper()"
   ]
  },
  {
   "cell_type": "code",
   "execution_count": 38,
   "id": "fdfb0f64",
   "metadata": {},
   "outputs": [
    {
     "data": {
      "text/plain": [
       "'steel'"
      ]
     },
     "execution_count": 38,
     "metadata": {},
     "output_type": "execute_result"
    }
   ],
   "source": [
    "chair.lower()"
   ]
  },
  {
   "cell_type": "markdown",
   "id": "d2d605aa",
   "metadata": {},
   "source": [
    "# .Title"
   ]
  },
  {
   "cell_type": "code",
   "execution_count": 39,
   "id": "863ecbc6",
   "metadata": {},
   "outputs": [],
   "source": [
    "msg =\"happy holi to you all\""
   ]
  },
  {
   "cell_type": "code",
   "execution_count": 40,
   "id": "09147bec",
   "metadata": {},
   "outputs": [
    {
     "data": {
      "text/plain": [
       "'Happy Holi To You All'"
      ]
     },
     "execution_count": 40,
     "metadata": {},
     "output_type": "execute_result"
    }
   ],
   "source": [
    "msg.title()"
   ]
  },
  {
   "cell_type": "code",
   "execution_count": 41,
   "id": "3c3eda4e",
   "metadata": {},
   "outputs": [
    {
     "data": {
      "text/plain": [
       "'1000 rupees'"
      ]
     },
     "execution_count": 41,
     "metadata": {},
     "output_type": "execute_result"
    }
   ],
   "source": [
    "a =1000\n",
    "f\"{a} rupees\""
   ]
  },
  {
   "cell_type": "code",
   "execution_count": 42,
   "id": "62291a21",
   "metadata": {},
   "outputs": [
    {
     "data": {
      "text/plain": [
       "'Happy holi to you all'"
      ]
     },
     "execution_count": 42,
     "metadata": {},
     "output_type": "execute_result"
    }
   ],
   "source": [
    "msg.capitalize()"
   ]
  },
  {
   "cell_type": "markdown",
   "id": "4cf23b6b",
   "metadata": {},
   "source": [
    "# strip(), lstrip(), rstrip()"
   ]
  },
  {
   "cell_type": "code",
   "execution_count": 43,
   "id": "a991aa28",
   "metadata": {},
   "outputs": [],
   "source": [
    "msg = ' Hey you wanna meet? '"
   ]
  },
  {
   "cell_type": "code",
   "execution_count": 44,
   "id": "ed0fad7b",
   "metadata": {},
   "outputs": [
    {
     "data": {
      "text/plain": [
       "'Hey you wanna meet?'"
      ]
     },
     "execution_count": 44,
     "metadata": {},
     "output_type": "execute_result"
    }
   ],
   "source": [
    "msg.strip()"
   ]
  },
  {
   "cell_type": "code",
   "execution_count": 46,
   "id": "ad1c22a3",
   "metadata": {},
   "outputs": [
    {
     "data": {
      "text/plain": [
       "'Hey you wanna meet? '"
      ]
     },
     "execution_count": 46,
     "metadata": {},
     "output_type": "execute_result"
    }
   ],
   "source": [
    "msg.lstrip()"
   ]
  },
  {
   "cell_type": "code",
   "execution_count": 47,
   "id": "ec33ecf9",
   "metadata": {},
   "outputs": [
    {
     "data": {
      "text/plain": [
       "' Hey you wanna meet?'"
      ]
     },
     "execution_count": 47,
     "metadata": {},
     "output_type": "execute_result"
    }
   ],
   "source": [
    "msg.rstrip()"
   ]
  },
  {
   "cell_type": "markdown",
   "id": "a85ac711",
   "metadata": {},
   "source": [
    "# .split(), .join"
   ]
  },
  {
   "cell_type": "code",
   "execution_count": 48,
   "id": "dfe8829e",
   "metadata": {},
   "outputs": [],
   "source": [
    "msg ='You are my favourite person.'\n"
   ]
  },
  {
   "cell_type": "code",
   "execution_count": 60,
   "id": "a1082363",
   "metadata": {},
   "outputs": [
    {
     "data": {
      "text/plain": [
       "['You', 'are', 'my', 'favourite', 'person.']"
      ]
     },
     "execution_count": 60,
     "metadata": {},
     "output_type": "execute_result"
    }
   ],
   "source": [
    "word = msg.split(\" \")\n",
    "word"
   ]
  },
  {
   "cell_type": "code",
   "execution_count": 61,
   "id": "cabfb78f",
   "metadata": {},
   "outputs": [
    {
     "data": {
      "text/plain": [
       "list"
      ]
     },
     "execution_count": 61,
     "metadata": {},
     "output_type": "execute_result"
    }
   ],
   "source": [
    "type(word)"
   ]
  },
  {
   "cell_type": "code",
   "execution_count": 62,
   "id": "f62f8d01",
   "metadata": {},
   "outputs": [
    {
     "data": {
      "text/plain": [
       "'You are my favourite person.'"
      ]
     },
     "execution_count": 62,
     "metadata": {},
     "output_type": "execute_result"
    }
   ],
   "source": [
    "\" \".join(word)"
   ]
  },
  {
   "cell_type": "code",
   "execution_count": 68,
   "id": "719f7bed",
   "metadata": {},
   "outputs": [],
   "source": [
    "st = \"Apsara tme mero mutu ho mutu\""
   ]
  },
  {
   "cell_type": "code",
   "execution_count": 72,
   "id": "13555fff",
   "metadata": {},
   "outputs": [
    {
     "data": {
      "text/plain": [
       "['Apsara', 'tme', 'mero', 'mutu', 'ho', 'mutu']"
      ]
     },
     "execution_count": 72,
     "metadata": {},
     "output_type": "execute_result"
    }
   ],
   "source": [
    "word = st.split()\n",
    "word"
   ]
  },
  {
   "cell_type": "code",
   "execution_count": 73,
   "id": "91d3c1a5",
   "metadata": {},
   "outputs": [
    {
     "data": {
      "text/plain": [
       "'Apsara tme mero mutu ho mutu'"
      ]
     },
     "execution_count": 73,
     "metadata": {},
     "output_type": "execute_result"
    }
   ],
   "source": [
    "\" \".join(word)"
   ]
  },
  {
   "cell_type": "code",
   "execution_count": null,
   "id": "cf610e71",
   "metadata": {},
   "outputs": [],
   "source": []
  }
 ],
 "metadata": {
  "kernelspec": {
   "display_name": "Python 3 (ipykernel)",
   "language": "python",
   "name": "python3"
  },
  "language_info": {
   "codemirror_mode": {
    "name": "ipython",
    "version": 3
   },
   "file_extension": ".py",
   "mimetype": "text/x-python",
   "name": "python",
   "nbconvert_exporter": "python",
   "pygments_lexer": "ipython3",
   "version": "3.8.10"
  }
 },
 "nbformat": 4,
 "nbformat_minor": 5
}
