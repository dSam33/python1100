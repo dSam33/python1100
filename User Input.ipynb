{
 "cells": [
  {
   "cell_type": "code",
   "execution_count": 1,
   "id": "46e95147",
   "metadata": {},
   "outputs": [
    {
     "name": "stdout",
     "output_type": "stream",
     "text": [
      "5\n"
     ]
    },
    {
     "data": {
      "text/plain": [
       "'5'"
      ]
     },
     "execution_count": 1,
     "metadata": {},
     "output_type": "execute_result"
    }
   ],
   "source": [
    "input()"
   ]
  },
  {
   "cell_type": "markdown",
   "id": "5b55c485",
   "metadata": {},
   "source": [
    "5"
   ]
  },
  {
   "cell_type": "code",
   "execution_count": 3,
   "id": "d076332a",
   "metadata": {},
   "outputs": [
    {
     "name": "stdout",
     "output_type": "stream",
     "text": [
      "Enter a number: 5\n",
      "5\n"
     ]
    }
   ],
   "source": [
    "user_input = input('Enter a number: ')\n",
    "print(user_input)"
   ]
  },
  {
   "cell_type": "code",
   "execution_count": 7,
   "id": "8db72cab",
   "metadata": {},
   "outputs": [
    {
     "name": "stdout",
     "output_type": "stream",
     "text": [
      "Enter First Number : 55\n",
      "Enter Second Number: 66\n",
      "5566\n"
     ]
    }
   ],
   "source": [
    "num1 = input('Enter First Number : ')\n",
    "num2 = input('Enter Second Number: ')\n",
    "sum =(num1+num2)\n",
    "print(sum)"
   ]
  },
  {
   "cell_type": "code",
   "execution_count": 8,
   "id": "7400a0de",
   "metadata": {},
   "outputs": [
    {
     "data": {
      "text/plain": [
       "str"
      ]
     },
     "execution_count": 8,
     "metadata": {},
     "output_type": "execute_result"
    }
   ],
   "source": [
    "type(num1)"
   ]
  },
  {
   "cell_type": "markdown",
   "id": "7a301e19",
   "metadata": {},
   "source": [
    "# Type Casting or data type Conversion or type conversion\n",
    "user_input = int(input(\"Enter a number : \"))\n",
    "\n",
    "We use the predefined functions like int(), float(),str(), etc to perform explict "
   ]
  },
  {
   "cell_type": "code",
   "execution_count": 10,
   "id": "2a6c445c",
   "metadata": {},
   "outputs": [
    {
     "name": "stdout",
     "output_type": "stream",
     "text": [
      "Enter First Number :  55\n",
      "Enter Second Number: 22\n",
      "77\n"
     ]
    }
   ],
   "source": [
    "num1 = int(input('Enter First Number :  ')) # converting string value to integer\n",
    "num2 = int(input('Enter Second Number: '))\n",
    "sum =(num1+num2)\n",
    "print(sum)"
   ]
  },
  {
   "cell_type": "code",
   "execution_count": 13,
   "id": "89565e5d",
   "metadata": {},
   "outputs": [
    {
     "name": "stdout",
     "output_type": "stream",
     "text": [
      "Enter First Number :  55j\n",
      "Enter Second Number: 66j\n",
      "121j\n"
     ]
    }
   ],
   "source": [
    "num1 = complex(input('Enter First Number :  ')) # converting string value to integer\n",
    "num2 = complex(input('Enter Second Number: '))\n",
    "sum =(num1+num2)\n",
    "print(sum)"
   ]
  },
  {
   "cell_type": "code",
   "execution_count": null,
   "id": "73b2a0ec",
   "metadata": {},
   "outputs": [],
   "source": []
  }
 ],
 "metadata": {
  "kernelspec": {
   "display_name": "Python 3 (ipykernel)",
   "language": "python",
   "name": "python3"
  },
  "language_info": {
   "codemirror_mode": {
    "name": "ipython",
    "version": 3
   },
   "file_extension": ".py",
   "mimetype": "text/x-python",
   "name": "python",
   "nbconvert_exporter": "python",
   "pygments_lexer": "ipython3",
   "version": "3.8.10"
  }
 },
 "nbformat": 4,
 "nbformat_minor": 5
}
