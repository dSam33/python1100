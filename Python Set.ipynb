{
 "cells": [
  {
   "cell_type": "markdown",
   "id": "846b84a5",
   "metadata": {},
   "source": [
    "# Set\n",
    "* Unordered, unindexed, don't allow duplicates,\n",
    "* mutable data type (allows add and remove"
   ]
  },
  {
   "cell_type": "code",
   "execution_count": 1,
   "id": "eae242c1",
   "metadata": {},
   "outputs": [],
   "source": [
    "fruit={'Orange', 'Pineapple','Mango','banana', 'kiwi'}"
   ]
  },
  {
   "cell_type": "code",
   "execution_count": 9,
   "id": "18795c49",
   "metadata": {},
   "outputs": [
    {
     "data": {
      "text/plain": [
       "2456929197408"
      ]
     },
     "execution_count": 9,
     "metadata": {},
     "output_type": "execute_result"
    }
   ],
   "source": [
    "id(fruit)"
   ]
  },
  {
   "cell_type": "code",
   "execution_count": 3,
   "id": "774f4c5e",
   "metadata": {},
   "outputs": [
    {
     "name": "stdout",
     "output_type": "stream",
     "text": [
      "{'banana', 'Mango', 'Pineapple', 'Orange', 'kiwi'}\n"
     ]
    }
   ],
   "source": [
    "print(fruit) # no order if items is maintainedf"
   ]
  },
  {
   "cell_type": "code",
   "execution_count": 4,
   "id": "fcf11e89",
   "metadata": {},
   "outputs": [
    {
     "ename": "TypeError",
     "evalue": "'set' object is not subscriptable",
     "output_type": "error",
     "traceback": [
      "\u001b[1;31m---------------------------------------------------------------------------\u001b[0m",
      "\u001b[1;31mTypeError\u001b[0m                                 Traceback (most recent call last)",
      "Cell \u001b[1;32mIn[4], line 1\u001b[0m\n\u001b[1;32m----> 1\u001b[0m \u001b[43mfruit\u001b[49m\u001b[43m[\u001b[49m\u001b[38;5;241;43m0\u001b[39;49m\u001b[43m]\u001b[49m\n",
      "\u001b[1;31mTypeError\u001b[0m: 'set' object is not subscriptable"
     ]
    }
   ],
   "source": [
    "fruit[0] # unindexed"
   ]
  },
  {
   "cell_type": "markdown",
   "id": "f453f501",
   "metadata": {},
   "source": [
    "# set is a mutable data type"
   ]
  },
  {
   "cell_type": "code",
   "execution_count": 5,
   "id": "fbcdccde",
   "metadata": {},
   "outputs": [],
   "source": [
    "fruit={'Orange', 'Pineapple','Mango','banana', 'kiwi'}"
   ]
  },
  {
   "cell_type": "code",
   "execution_count": 7,
   "id": "2d3cd94c",
   "metadata": {},
   "outputs": [],
   "source": [
    "fruit.add('avocardo')"
   ]
  },
  {
   "cell_type": "code",
   "execution_count": 8,
   "id": "662ed855",
   "metadata": {},
   "outputs": [
    {
     "data": {
      "text/plain": [
       "{'Mango', 'Orange', 'Pineapple', 'avocardo', 'banana', 'kiwi'}"
      ]
     },
     "execution_count": 8,
     "metadata": {},
     "output_type": "execute_result"
    }
   ],
   "source": [
    "fruit"
   ]
  },
  {
   "cell_type": "code",
   "execution_count": 10,
   "id": "c749e037",
   "metadata": {},
   "outputs": [
    {
     "data": {
      "text/plain": [
       "2456929197408"
      ]
     },
     "execution_count": 10,
     "metadata": {},
     "output_type": "execute_result"
    }
   ],
   "source": [
    "id(fruit)"
   ]
  },
  {
   "cell_type": "code",
   "execution_count": 11,
   "id": "d71ef782",
   "metadata": {},
   "outputs": [],
   "source": [
    "fruit.remove('Orange')"
   ]
  },
  {
   "cell_type": "code",
   "execution_count": 12,
   "id": "11015165",
   "metadata": {},
   "outputs": [
    {
     "data": {
      "text/plain": [
       "{'Mango', 'Pineapple', 'avocardo', 'banana', 'kiwi'}"
      ]
     },
     "execution_count": 12,
     "metadata": {},
     "output_type": "execute_result"
    }
   ],
   "source": [
    "fruit"
   ]
  },
  {
   "cell_type": "code",
   "execution_count": 14,
   "id": "40946b4d",
   "metadata": {},
   "outputs": [],
   "source": [
    "fruit.remove('Mango')"
   ]
  },
  {
   "cell_type": "code",
   "execution_count": 18,
   "id": "21c9cce2",
   "metadata": {},
   "outputs": [],
   "source": [
    "fruit.discard('walnut') # removes available item from set and if don't want error"
   ]
  },
  {
   "cell_type": "code",
   "execution_count": 16,
   "id": "933c7cdf",
   "metadata": {},
   "outputs": [],
   "source": [
    "fruit.discard('Pineapple')"
   ]
  },
  {
   "cell_type": "code",
   "execution_count": 17,
   "id": "f7261ce9",
   "metadata": {},
   "outputs": [
    {
     "data": {
      "text/plain": [
       "{'avocardo', 'banana', 'kiwi'}"
      ]
     },
     "execution_count": 17,
     "metadata": {},
     "output_type": "execute_result"
    }
   ],
   "source": [
    "fruit"
   ]
  },
  {
   "cell_type": "code",
   "execution_count": 19,
   "id": "fc7481a0",
   "metadata": {},
   "outputs": [],
   "source": [
    "fruit={'Orange', 'Pineapple','Mango','banana', 'kiwi'}"
   ]
  },
  {
   "cell_type": "code",
   "execution_count": 20,
   "id": "164f718d",
   "metadata": {},
   "outputs": [
    {
     "data": {
      "text/plain": [
       "{'Mango', 'Orange', 'Pineapple', 'banana', 'kiwi'}"
      ]
     },
     "execution_count": 20,
     "metadata": {},
     "output_type": "execute_result"
    }
   ],
   "source": [
    "fruit"
   ]
  },
  {
   "cell_type": "markdown",
   "id": "5295fdf0",
   "metadata": {},
   "source": [
    "# loop"
   ]
  },
  {
   "cell_type": "code",
   "execution_count": 21,
   "id": "551846a5",
   "metadata": {},
   "outputs": [],
   "source": [
    "fruit={'Orange', 'Pineapple','Mango','banana', 'kiwi'}"
   ]
  },
  {
   "cell_type": "code",
   "execution_count": 22,
   "id": "9ecc870a",
   "metadata": {},
   "outputs": [
    {
     "name": "stdout",
     "output_type": "stream",
     "text": [
      "banana\n",
      "Mango\n",
      "Pineapple\n",
      "Orange\n",
      "kiwi\n"
     ]
    }
   ],
   "source": [
    "for item in fruit:\n",
    "    print(item)"
   ]
  },
  {
   "cell_type": "markdown",
   "id": "e97ea2b0",
   "metadata": {},
   "source": [
    "# Type Casting"
   ]
  },
  {
   "cell_type": "code",
   "execution_count": 23,
   "id": "7cb94dae",
   "metadata": {},
   "outputs": [
    {
     "data": {
      "text/plain": [
       "set"
      ]
     },
     "execution_count": 23,
     "metadata": {},
     "output_type": "execute_result"
    }
   ],
   "source": [
    "type(fruit)"
   ]
  },
  {
   "cell_type": "code",
   "execution_count": 24,
   "id": "39416192",
   "metadata": {},
   "outputs": [],
   "source": [
    "fruits= list(fruit) # type casting set to list"
   ]
  },
  {
   "cell_type": "code",
   "execution_count": 25,
   "id": "aade235b",
   "metadata": {},
   "outputs": [
    {
     "data": {
      "text/plain": [
       "['banana', 'Mango', 'Pineapple', 'Orange', 'kiwi']"
      ]
     },
     "execution_count": 25,
     "metadata": {},
     "output_type": "execute_result"
    }
   ],
   "source": [
    "fruits"
   ]
  },
  {
   "cell_type": "code",
   "execution_count": 27,
   "id": "4492f291",
   "metadata": {},
   "outputs": [
    {
     "data": {
      "text/plain": [
       "list"
      ]
     },
     "execution_count": 27,
     "metadata": {},
     "output_type": "execute_result"
    }
   ],
   "source": [
    "type(fruits)"
   ]
  },
  {
   "cell_type": "markdown",
   "id": "6e6d0e13",
   "metadata": {},
   "source": [
    "# set operation"
   ]
  },
  {
   "cell_type": "code",
   "execution_count": 28,
   "id": "9f5cd967",
   "metadata": {},
   "outputs": [],
   "source": [
    "A = {'apple','banana', 'cherry'}\n",
    "B = {\"google\", 'Cheery', \"apple\"}"
   ]
  },
  {
   "cell_type": "code",
   "execution_count": 29,
   "id": "2c0cc495",
   "metadata": {},
   "outputs": [
    {
     "data": {
      "text/plain": [
       "{'apple'}"
      ]
     },
     "execution_count": 29,
     "metadata": {},
     "output_type": "execute_result"
    }
   ],
   "source": [
    "A.intersection(B)"
   ]
  },
  {
   "cell_type": "code",
   "execution_count": 30,
   "id": "b5b91c81",
   "metadata": {},
   "outputs": [
    {
     "data": {
      "text/plain": [
       "{'Cheery', 'apple', 'banana', 'cherry', 'google'}"
      ]
     },
     "execution_count": 30,
     "metadata": {},
     "output_type": "execute_result"
    }
   ],
   "source": [
    "A.union(B)"
   ]
  },
  {
   "cell_type": "code",
   "execution_count": 31,
   "id": "90ab142c",
   "metadata": {},
   "outputs": [
    {
     "data": {
      "text/plain": [
       "{'apple'}"
      ]
     },
     "execution_count": 31,
     "metadata": {},
     "output_type": "execute_result"
    }
   ],
   "source": [
    "B.intersection(A)"
   ]
  },
  {
   "cell_type": "code",
   "execution_count": 32,
   "id": "6a7ec4a3",
   "metadata": {},
   "outputs": [
    {
     "data": {
      "text/plain": [
       "{'Cheery', 'apple', 'banana', 'cherry', 'google'}"
      ]
     },
     "execution_count": 32,
     "metadata": {},
     "output_type": "execute_result"
    }
   ],
   "source": [
    "B.union(A)"
   ]
  },
  {
   "cell_type": "code",
   "execution_count": 33,
   "id": "80c20077",
   "metadata": {},
   "outputs": [
    {
     "data": {
      "text/plain": [
       "{'banana', 'cherry'}"
      ]
     },
     "execution_count": 33,
     "metadata": {},
     "output_type": "execute_result"
    }
   ],
   "source": [
    "A.difference(B)"
   ]
  },
  {
   "cell_type": "code",
   "execution_count": 34,
   "id": "d3278724",
   "metadata": {},
   "outputs": [
    {
     "data": {
      "text/plain": [
       "{'Cheery', 'google'}"
      ]
     },
     "execution_count": 34,
     "metadata": {},
     "output_type": "execute_result"
    }
   ],
   "source": [
    "B.difference(A)"
   ]
  },
  {
   "cell_type": "code",
   "execution_count": 35,
   "id": "e6e29a7f",
   "metadata": {},
   "outputs": [
    {
     "data": {
      "text/plain": [
       "{'banana', 'cherry'}"
      ]
     },
     "execution_count": 35,
     "metadata": {},
     "output_type": "execute_result"
    }
   ],
   "source": [
    "A-B"
   ]
  },
  {
   "cell_type": "code",
   "execution_count": 36,
   "id": "758e9fb1",
   "metadata": {},
   "outputs": [
    {
     "data": {
      "text/plain": [
       "{'Cheery', 'google'}"
      ]
     },
     "execution_count": 36,
     "metadata": {},
     "output_type": "execute_result"
    }
   ],
   "source": [
    "B-A"
   ]
  },
  {
   "cell_type": "markdown",
   "id": "b35bcd90",
   "metadata": {},
   "source": [
    "# Frozenset  -- immutable version of python set"
   ]
  },
  {
   "cell_type": "code",
   "execution_count": 38,
   "id": "f3fd262c",
   "metadata": {},
   "outputs": [],
   "source": [
    "fruit={'Orange', 'Pineapple','Mango','banana', 'kiwi'}\n",
    "fruits = frozenset(fruit)"
   ]
  },
  {
   "cell_type": "code",
   "execution_count": 39,
   "id": "3aad7d19",
   "metadata": {},
   "outputs": [
    {
     "data": {
      "text/plain": [
       "frozenset({'Mango', 'Orange', 'Pineapple', 'banana', 'kiwi'})"
      ]
     },
     "execution_count": 39,
     "metadata": {},
     "output_type": "execute_result"
    }
   ],
   "source": [
    "fruits"
   ]
  },
  {
   "cell_type": "code",
   "execution_count": 40,
   "id": "b0dd7935",
   "metadata": {},
   "outputs": [
    {
     "ename": "AttributeError",
     "evalue": "'frozenset' object has no attribute 'add'",
     "output_type": "error",
     "traceback": [
      "\u001b[1;31m---------------------------------------------------------------------------\u001b[0m",
      "\u001b[1;31mAttributeError\u001b[0m                            Traceback (most recent call last)",
      "Cell \u001b[1;32mIn[40], line 1\u001b[0m\n\u001b[1;32m----> 1\u001b[0m \u001b[43mfruits\u001b[49m\u001b[38;5;241;43m.\u001b[39;49m\u001b[43madd\u001b[49m(\u001b[38;5;124m\"\u001b[39m\u001b[38;5;124mgrapes\u001b[39m\u001b[38;5;124m\"\u001b[39m)\n",
      "\u001b[1;31mAttributeError\u001b[0m: 'frozenset' object has no attribute 'add'"
     ]
    }
   ],
   "source": [
    "fruits.add(\"grapes\")"
   ]
  },
  {
   "cell_type": "code",
   "execution_count": null,
   "id": "de7b4425",
   "metadata": {},
   "outputs": [],
   "source": []
  }
 ],
 "metadata": {
  "kernelspec": {
   "display_name": "Python 3 (ipykernel)",
   "language": "python",
   "name": "python3"
  },
  "language_info": {
   "codemirror_mode": {
    "name": "ipython",
    "version": 3
   },
   "file_extension": ".py",
   "mimetype": "text/x-python",
   "name": "python",
   "nbconvert_exporter": "python",
   "pygments_lexer": "ipython3",
   "version": "3.8.10"
  }
 },
 "nbformat": 4,
 "nbformat_minor": 5
}
