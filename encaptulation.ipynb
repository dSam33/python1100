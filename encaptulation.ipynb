{
 "cells": [
  {
   "cell_type": "markdown",
   "id": "f5c8a89f",
   "metadata": {},
   "source": [
    "# Are access specifiers used in python? --No but has concept of limiting behavior of variables: private attribute are not inherited"
   ]
  },
  {
   "cell_type": "code",
   "execution_count": 1,
   "id": "6aa1d168",
   "metadata": {},
   "outputs": [],
   "source": [
    "class Instructor:\n",
    "    \n",
    "    # public\n",
    "    name ='Kshitiz'\n",
    "    \n",
    "    # protected\n",
    "    _address = 'Patan'\n",
    "    \n",
    "    # private\n",
    "    __age = 25"
   ]
  },
  {
   "cell_type": "code",
   "execution_count": 2,
   "id": "f96a5db6",
   "metadata": {},
   "outputs": [],
   "source": [
    "ins = Instructor()"
   ]
  },
  {
   "cell_type": "code",
   "execution_count": 3,
   "id": "830944da",
   "metadata": {},
   "outputs": [
    {
     "data": {
      "text/plain": [
       "'Kshitiz'"
      ]
     },
     "execution_count": 3,
     "metadata": {},
     "output_type": "execute_result"
    }
   ],
   "source": [
    "ins.name"
   ]
  },
  {
   "cell_type": "code",
   "execution_count": 4,
   "id": "baf10f7a",
   "metadata": {},
   "outputs": [
    {
     "data": {
      "text/plain": [
       "'Patan'"
      ]
     },
     "execution_count": 4,
     "metadata": {},
     "output_type": "execute_result"
    }
   ],
   "source": [
    "ins._address"
   ]
  },
  {
   "cell_type": "code",
   "execution_count": 5,
   "id": "7fa30c94",
   "metadata": {},
   "outputs": [
    {
     "ename": "AttributeError",
     "evalue": "'Instructor' object has no attribute '__age'",
     "output_type": "error",
     "traceback": [
      "\u001b[1;31m---------------------------------------------------------------------------\u001b[0m",
      "\u001b[1;31mAttributeError\u001b[0m                            Traceback (most recent call last)",
      "Cell \u001b[1;32mIn[5], line 1\u001b[0m\n\u001b[1;32m----> 1\u001b[0m \u001b[43mins\u001b[49m\u001b[38;5;241;43m.\u001b[39;49m\u001b[43m__age\u001b[49m\n",
      "\u001b[1;31mAttributeError\u001b[0m: 'Instructor' object has no attribute '__age'"
     ]
    }
   ],
   "source": [
    "ins.__age"
   ]
  },
  {
   "cell_type": "code",
   "execution_count": null,
   "id": "e831ee01",
   "metadata": {},
   "outputs": [],
   "source": []
  }
 ],
 "metadata": {
  "kernelspec": {
   "display_name": "Python 3 (ipykernel)",
   "language": "python",
   "name": "python3"
  },
  "language_info": {
   "codemirror_mode": {
    "name": "ipython",
    "version": 3
   },
   "file_extension": ".py",
   "mimetype": "text/x-python",
   "name": "python",
   "nbconvert_exporter": "python",
   "pygments_lexer": "ipython3",
   "version": "3.8.10"
  }
 },
 "nbformat": 4,
 "nbformat_minor": 5
}
