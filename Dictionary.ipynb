{
 "cells": [
  {
   "cell_type": "markdown",
   "id": "57d35d5a",
   "metadata": {},
   "source": [
    "# Dictionary\n",
    "\n",
    "``` python\n",
    "{\n",
    "    key1: value1,\n",
    "    key2: value2,\n",
    "    key3: value3\n",
    "}\n",
    "```"
   ]
  },
  {
   "cell_type": "code",
   "execution_count": 2,
   "id": "e759150b",
   "metadata": {},
   "outputs": [],
   "source": [
    "number = {\n",
    "    1: 'one',\n",
    "    2: 'Two',\n",
    "    3: 'Three'\n",
    "}"
   ]
  },
  {
   "cell_type": "code",
   "execution_count": 3,
   "id": "0544dc5c",
   "metadata": {},
   "outputs": [
    {
     "data": {
      "text/plain": [
       "{1: 'one', 2: 'Two', 3: 'Three'}"
      ]
     },
     "execution_count": 3,
     "metadata": {},
     "output_type": "execute_result"
    }
   ],
   "source": [
    "number"
   ]
  },
  {
   "cell_type": "code",
   "execution_count": 4,
   "id": "00532f60",
   "metadata": {},
   "outputs": [
    {
     "data": {
      "text/plain": [
       "dict_keys([1, 2, 3])"
      ]
     },
     "execution_count": 4,
     "metadata": {},
     "output_type": "execute_result"
    }
   ],
   "source": [
    "number.keys()"
   ]
  },
  {
   "cell_type": "code",
   "execution_count": 5,
   "id": "8568a5ee",
   "metadata": {},
   "outputs": [
    {
     "data": {
      "text/plain": [
       "[1, 2, 3]"
      ]
     },
     "execution_count": 5,
     "metadata": {},
     "output_type": "execute_result"
    }
   ],
   "source": [
    "list(number.keys())"
   ]
  },
  {
   "cell_type": "code",
   "execution_count": 6,
   "id": "95a8d5fb",
   "metadata": {},
   "outputs": [
    {
     "data": {
      "text/plain": [
       "['one', 'Two', 'Three']"
      ]
     },
     "execution_count": 6,
     "metadata": {},
     "output_type": "execute_result"
    }
   ],
   "source": [
    "list(number.values())"
   ]
  },
  {
   "cell_type": "markdown",
   "id": "2f3f9fd7",
   "metadata": {},
   "source": [
    "# access values of given key in dictionary"
   ]
  },
  {
   "cell_type": "code",
   "execution_count": 10,
   "id": "9882a428",
   "metadata": {},
   "outputs": [],
   "source": [
    "tutor = {\n",
    "    'name': 'Kshitiz Regmi',\n",
    "    'Teaches': ['Python', 'ML', 'DS','AI','DL'],\n",
    "    'works at': 'Broadway Infosys',\n",
    "    'age': 26\n",
    "}"
   ]
  },
  {
   "cell_type": "code",
   "execution_count": 11,
   "id": "a8966755",
   "metadata": {},
   "outputs": [
    {
     "data": {
      "text/plain": [
       "{'name': 'Kshitiz Regmi',\n",
       " 'Teaches': ['Python', 'ML', 'DS', 'AI', 'DL'],\n",
       " 'works at': 'Broadway Infosys',\n",
       " 'age': 26}"
      ]
     },
     "execution_count": 11,
     "metadata": {},
     "output_type": "execute_result"
    }
   ],
   "source": [
    "tutor"
   ]
  },
  {
   "cell_type": "code",
   "execution_count": 12,
   "id": "38e9bf92",
   "metadata": {},
   "outputs": [
    {
     "data": {
      "text/plain": [
       "'Kshitiz Regmi'"
      ]
     },
     "execution_count": 12,
     "metadata": {},
     "output_type": "execute_result"
    }
   ],
   "source": [
    "tutor.get('name')"
   ]
  },
  {
   "cell_type": "code",
   "execution_count": 13,
   "id": "d727b31f",
   "metadata": {},
   "outputs": [
    {
     "data": {
      "text/plain": [
       "'Kshitiz Regmi'"
      ]
     },
     "execution_count": 13,
     "metadata": {},
     "output_type": "execute_result"
    }
   ],
   "source": [
    "tutor['name']"
   ]
  },
  {
   "cell_type": "code",
   "execution_count": 14,
   "id": "6a50c8bc",
   "metadata": {},
   "outputs": [
    {
     "data": {
      "text/plain": [
       "['Python', 'ML', 'DS', 'AI', 'DL']"
      ]
     },
     "execution_count": 14,
     "metadata": {},
     "output_type": "execute_result"
    }
   ],
   "source": [
    "tutor.get('Teaches')"
   ]
  },
  {
   "cell_type": "code",
   "execution_count": 15,
   "id": "f56a4831",
   "metadata": {},
   "outputs": [
    {
     "data": {
      "text/plain": [
       "['Python', 'ML', 'DS', 'AI', 'DL']"
      ]
     },
     "execution_count": 15,
     "metadata": {},
     "output_type": "execute_result"
    }
   ],
   "source": [
    "tutor['Teaches']"
   ]
  },
  {
   "cell_type": "markdown",
   "id": "8b19c886",
   "metadata": {},
   "source": [
    "# updating value of a key"
   ]
  },
  {
   "cell_type": "code",
   "execution_count": 16,
   "id": "a727deab",
   "metadata": {},
   "outputs": [],
   "source": [
    "tutor = {\n",
    "    'name': 'Kshitiz Regmi',\n",
    "    'Teaches': ['Python', 'ML', 'DS','AI','DL'],\n",
    "    'works at': 'Broadway Infosys',\n",
    "    'age': 26\n",
    "}"
   ]
  },
  {
   "cell_type": "code",
   "execution_count": 18,
   "id": "7c764ddf",
   "metadata": {},
   "outputs": [],
   "source": [
    "tutor['age'] = 25"
   ]
  },
  {
   "cell_type": "code",
   "execution_count": 20,
   "id": "aa463fd6",
   "metadata": {},
   "outputs": [
    {
     "data": {
      "text/plain": [
       "{'name': 'Kshitiz Regmi',\n",
       " 'Teaches': ['Python', 'ML', 'DS', 'AI', 'DL'],\n",
       " 'works at': 'Broadway Infosys',\n",
       " 'age': 25}"
      ]
     },
     "execution_count": 20,
     "metadata": {},
     "output_type": "execute_result"
    }
   ],
   "source": [
    "tutor"
   ]
  },
  {
   "cell_type": "code",
   "execution_count": 21,
   "id": "c72b0fad",
   "metadata": {},
   "outputs": [],
   "source": [
    "tutor.update({'Teaches': 'Python'})"
   ]
  },
  {
   "cell_type": "code",
   "execution_count": 22,
   "id": "9bc6d199",
   "metadata": {},
   "outputs": [
    {
     "data": {
      "text/plain": [
       "{'name': 'Kshitiz Regmi',\n",
       " 'Teaches': 'Python',\n",
       " 'works at': 'Broadway Infosys',\n",
       " 'age': 25}"
      ]
     },
     "execution_count": 22,
     "metadata": {},
     "output_type": "execute_result"
    }
   ],
   "source": [
    "tutor"
   ]
  },
  {
   "cell_type": "code",
   "execution_count": 23,
   "id": "fa84de82",
   "metadata": {},
   "outputs": [],
   "source": [
    "tutor.update({'Teaches':['Python', 'ML', 'DS','AI','DL']})"
   ]
  },
  {
   "cell_type": "code",
   "execution_count": 24,
   "id": "a7f4ce72",
   "metadata": {},
   "outputs": [
    {
     "data": {
      "text/plain": [
       "{'name': 'Kshitiz Regmi',\n",
       " 'Teaches': ['Python', 'ML', 'DS', 'AI', 'DL'],\n",
       " 'works at': 'Broadway Infosys',\n",
       " 'age': 25}"
      ]
     },
     "execution_count": 24,
     "metadata": {},
     "output_type": "execute_result"
    }
   ],
   "source": [
    "tutor"
   ]
  },
  {
   "cell_type": "code",
   "execution_count": 25,
   "id": "e1837b57",
   "metadata": {},
   "outputs": [],
   "source": [
    "tutor.update({'lives_at': \"Patan\"})"
   ]
  },
  {
   "cell_type": "code",
   "execution_count": 26,
   "id": "56c7f94b",
   "metadata": {},
   "outputs": [
    {
     "data": {
      "text/plain": [
       "{'name': 'Kshitiz Regmi',\n",
       " 'Teaches': ['Python', 'ML', 'DS', 'AI', 'DL'],\n",
       " 'works at': 'Broadway Infosys',\n",
       " 'age': 25,\n",
       " 'lives_at': 'Patan'}"
      ]
     },
     "execution_count": 26,
     "metadata": {},
     "output_type": "execute_result"
    }
   ],
   "source": [
    "tutor"
   ]
  },
  {
   "cell_type": "code",
   "execution_count": 27,
   "id": "5351b7c9",
   "metadata": {},
   "outputs": [],
   "source": [
    "tutor['arrives at']=7"
   ]
  },
  {
   "cell_type": "code",
   "execution_count": 28,
   "id": "d1d0882d",
   "metadata": {},
   "outputs": [
    {
     "data": {
      "text/plain": [
       "{'name': 'Kshitiz Regmi',\n",
       " 'Teaches': ['Python', 'ML', 'DS', 'AI', 'DL'],\n",
       " 'works at': 'Broadway Infosys',\n",
       " 'age': 25,\n",
       " 'lives_at': 'Patan',\n",
       " 'arrives at': 7}"
      ]
     },
     "execution_count": 28,
     "metadata": {},
     "output_type": "execute_result"
    }
   ],
   "source": [
    "tutor"
   ]
  },
  {
   "cell_type": "markdown",
   "id": "a646bc54",
   "metadata": {},
   "source": [
    "# pop"
   ]
  },
  {
   "cell_type": "code",
   "execution_count": 29,
   "id": "1130b812",
   "metadata": {},
   "outputs": [
    {
     "data": {
      "text/plain": [
       "{'name': 'Kshitiz Regmi',\n",
       " 'Teaches': ['Python', 'ML', 'DS', 'AI', 'DL'],\n",
       " 'works at': 'Broadway Infosys',\n",
       " 'age': 25,\n",
       " 'lives_at': 'Patan',\n",
       " 'arrives at': 7}"
      ]
     },
     "execution_count": 29,
     "metadata": {},
     "output_type": "execute_result"
    }
   ],
   "source": [
    "tutor"
   ]
  },
  {
   "cell_type": "code",
   "execution_count": 30,
   "id": "b89b36cd",
   "metadata": {},
   "outputs": [
    {
     "data": {
      "text/plain": [
       "'Patan'"
      ]
     },
     "execution_count": 30,
     "metadata": {},
     "output_type": "execute_result"
    }
   ],
   "source": [
    "tutor.pop('lives_at')"
   ]
  },
  {
   "cell_type": "code",
   "execution_count": 31,
   "id": "a6a11cb2",
   "metadata": {},
   "outputs": [
    {
     "data": {
      "text/plain": [
       "{'name': 'Kshitiz Regmi',\n",
       " 'Teaches': ['Python', 'ML', 'DS', 'AI', 'DL'],\n",
       " 'works at': 'Broadway Infosys',\n",
       " 'age': 25,\n",
       " 'arrives at': 7}"
      ]
     },
     "execution_count": 31,
     "metadata": {},
     "output_type": "execute_result"
    }
   ],
   "source": [
    "tutor"
   ]
  },
  {
   "cell_type": "code",
   "execution_count": 32,
   "id": "5c4e5fc2",
   "metadata": {},
   "outputs": [
    {
     "data": {
      "text/plain": [
       "7"
      ]
     },
     "execution_count": 32,
     "metadata": {},
     "output_type": "execute_result"
    }
   ],
   "source": [
    "tutor.pop('arrives at')"
   ]
  },
  {
   "cell_type": "code",
   "execution_count": 33,
   "id": "9b5c685a",
   "metadata": {},
   "outputs": [
    {
     "data": {
      "text/plain": [
       "{'name': 'Kshitiz Regmi',\n",
       " 'Teaches': ['Python', 'ML', 'DS', 'AI', 'DL'],\n",
       " 'works at': 'Broadway Infosys',\n",
       " 'age': 25}"
      ]
     },
     "execution_count": 33,
     "metadata": {},
     "output_type": "execute_result"
    }
   ],
   "source": [
    "tutor"
   ]
  },
  {
   "cell_type": "markdown",
   "id": "a4e89f6e",
   "metadata": {},
   "source": [
    "# looping in dictionary"
   ]
  },
  {
   "cell_type": "code",
   "execution_count": 35,
   "id": "9a139bd2",
   "metadata": {},
   "outputs": [],
   "source": [
    "tutor = {'name': 'Kshitiz Regmi',\n",
    " 'Teaches': ['Python', 'ML', 'DS', 'AI', 'DL'],\n",
    " 'works at': 'Broadway Infosys',\n",
    " 'age': 25,\n",
    " 'arrives at': 7}"
   ]
  },
  {
   "cell_type": "code",
   "execution_count": 36,
   "id": "101935d6",
   "metadata": {},
   "outputs": [
    {
     "data": {
      "text/plain": [
       "{'name': 'Kshitiz Regmi',\n",
       " 'Teaches': ['Python', 'ML', 'DS', 'AI', 'DL'],\n",
       " 'works at': 'Broadway Infosys',\n",
       " 'age': 25,\n",
       " 'arrives at': 7}"
      ]
     },
     "execution_count": 36,
     "metadata": {},
     "output_type": "execute_result"
    }
   ],
   "source": [
    "tutor"
   ]
  },
  {
   "cell_type": "code",
   "execution_count": 37,
   "id": "900ac53e",
   "metadata": {},
   "outputs": [
    {
     "data": {
      "text/plain": [
       "dict_items([('name', 'Kshitiz Regmi'), ('Teaches', ['Python', 'ML', 'DS', 'AI', 'DL']), ('works at', 'Broadway Infosys'), ('age', 25), ('arrives at', 7)])"
      ]
     },
     "execution_count": 37,
     "metadata": {},
     "output_type": "execute_result"
    }
   ],
   "source": [
    "tutor.items()"
   ]
  },
  {
   "cell_type": "code",
   "execution_count": 38,
   "id": "152f2389",
   "metadata": {},
   "outputs": [],
   "source": [
    "# tuple unpacking"
   ]
  },
  {
   "cell_type": "code",
   "execution_count": 39,
   "id": "664b056f",
   "metadata": {},
   "outputs": [],
   "source": [
    "a,b = (5,3)"
   ]
  },
  {
   "cell_type": "code",
   "execution_count": 40,
   "id": "835d25b0",
   "metadata": {},
   "outputs": [
    {
     "data": {
      "text/plain": [
       "5"
      ]
     },
     "execution_count": 40,
     "metadata": {},
     "output_type": "execute_result"
    }
   ],
   "source": [
    "a"
   ]
  },
  {
   "cell_type": "code",
   "execution_count": 41,
   "id": "5907bc41",
   "metadata": {},
   "outputs": [
    {
     "data": {
      "text/plain": [
       "3"
      ]
     },
     "execution_count": 41,
     "metadata": {},
     "output_type": "execute_result"
    }
   ],
   "source": [
    "b"
   ]
  },
  {
   "cell_type": "code",
   "execution_count": 42,
   "id": "fe8de2e3",
   "metadata": {},
   "outputs": [
    {
     "name": "stdout",
     "output_type": "stream",
     "text": [
      "('name', 'Kshitiz Regmi')\n",
      "('Teaches', ['Python', 'ML', 'DS', 'AI', 'DL'])\n",
      "('works at', 'Broadway Infosys')\n",
      "('age', 25)\n",
      "('arrives at', 7)\n"
     ]
    }
   ],
   "source": [
    "for items in tutor.items():\n",
    "    print(items)"
   ]
  },
  {
   "cell_type": "code",
   "execution_count": 43,
   "id": "8d975516",
   "metadata": {},
   "outputs": [
    {
     "name": "stdout",
     "output_type": "stream",
     "text": [
      "The key is name and the value is Kshitiz Regmi\n",
      "The key is Teaches and the value is ['Python', 'ML', 'DS', 'AI', 'DL']\n",
      "The key is works at and the value is Broadway Infosys\n",
      "The key is age and the value is 25\n",
      "The key is arrives at and the value is 7\n"
     ]
    }
   ],
   "source": [
    "for key, val in tutor.items():\n",
    "    print(f\"The key is {key} and the value is {val}\")"
   ]
  },
  {
   "cell_type": "markdown",
   "id": "9a17b5e0",
   "metadata": {},
   "source": [
    "# Dictionary Comprehension\n",
    "\n",
    "Swap key valye pair in given dictionary"
   ]
  },
  {
   "cell_type": "code",
   "execution_count": 48,
   "id": "98d88f20",
   "metadata": {},
   "outputs": [],
   "source": [
    "data = {1: 'one', 2:'two', 3:'three'}"
   ]
  },
  {
   "cell_type": "code",
   "execution_count": 50,
   "id": "d838eebb",
   "metadata": {},
   "outputs": [
    {
     "data": {
      "text/plain": [
       "{'one': 1, 'two': 2, 'three': 3}"
      ]
     },
     "execution_count": 50,
     "metadata": {},
     "output_type": "execute_result"
    }
   ],
   "source": [
    "{val: key for key , val in data.items()}"
   ]
  },
  {
   "cell_type": "markdown",
   "id": "5256dcf7",
   "metadata": {},
   "source": [
    "# Creating empty dictionary"
   ]
  },
  {
   "cell_type": "code",
   "execution_count": 51,
   "id": "21a82533",
   "metadata": {},
   "outputs": [],
   "source": [
    "d = {}"
   ]
  },
  {
   "cell_type": "code",
   "execution_count": 52,
   "id": "d0be3574",
   "metadata": {},
   "outputs": [
    {
     "data": {
      "text/plain": [
       "dict"
      ]
     },
     "execution_count": 52,
     "metadata": {},
     "output_type": "execute_result"
    }
   ],
   "source": [
    "type(d)"
   ]
  },
  {
   "cell_type": "code",
   "execution_count": 53,
   "id": "19b8181f",
   "metadata": {},
   "outputs": [],
   "source": [
    "d = dict()"
   ]
  },
  {
   "cell_type": "code",
   "execution_count": 54,
   "id": "f1a046de",
   "metadata": {},
   "outputs": [
    {
     "data": {
      "text/plain": [
       "dict"
      ]
     },
     "execution_count": 54,
     "metadata": {},
     "output_type": "execute_result"
    }
   ],
   "source": [
    "type(d)"
   ]
  },
  {
   "cell_type": "code",
   "execution_count": 55,
   "id": "7f08e9ba",
   "metadata": {},
   "outputs": [],
   "source": [
    "d['name'] = 'Kshitiz'"
   ]
  },
  {
   "cell_type": "code",
   "execution_count": 56,
   "id": "e53c2911",
   "metadata": {},
   "outputs": [
    {
     "data": {
      "text/plain": [
       "{'name': 'Kshitiz'}"
      ]
     },
     "execution_count": 56,
     "metadata": {},
     "output_type": "execute_result"
    }
   ],
   "source": [
    "d"
   ]
  },
  {
   "cell_type": "code",
   "execution_count": 58,
   "id": "61b116ff",
   "metadata": {},
   "outputs": [],
   "source": [
    "d.update({'age': 26})"
   ]
  },
  {
   "cell_type": "code",
   "execution_count": 59,
   "id": "da01e4d2",
   "metadata": {},
   "outputs": [
    {
     "data": {
      "text/plain": [
       "{'name': 'Kshitiz', 'age': 26}"
      ]
     },
     "execution_count": 59,
     "metadata": {},
     "output_type": "execute_result"
    }
   ],
   "source": [
    "d"
   ]
  },
  {
   "cell_type": "markdown",
   "id": "2cbe693b",
   "metadata": {},
   "source": [
    "# Nested Dictionary"
   ]
  },
  {
   "cell_type": "code",
   "execution_count": 60,
   "id": "e8cb59ee",
   "metadata": {},
   "outputs": [],
   "source": [
    "child ={\n",
    "    'child1': {'name': 'Ram'},\n",
    "    'child2': {'name': 'Bharat'},\n",
    "    'child3': {'name': 'Laxman'}\n",
    "}"
   ]
  },
  {
   "cell_type": "code",
   "execution_count": 61,
   "id": "0f8f6107",
   "metadata": {},
   "outputs": [
    {
     "data": {
      "text/plain": [
       "{'child1': {'name': 'Ram'},\n",
       " 'child2': {'name': 'Bharat'},\n",
       " 'child3': {'name': 'Laxman'}}"
      ]
     },
     "execution_count": 61,
     "metadata": {},
     "output_type": "execute_result"
    }
   ],
   "source": [
    "child"
   ]
  },
  {
   "cell_type": "code",
   "execution_count": 62,
   "id": "8bd75d2a",
   "metadata": {},
   "outputs": [
    {
     "data": {
      "text/plain": [
       "'Bharat'"
      ]
     },
     "execution_count": 62,
     "metadata": {},
     "output_type": "execute_result"
    }
   ],
   "source": [
    "child['child2']['name']"
   ]
  },
  {
   "cell_type": "code",
   "execution_count": 72,
   "id": "349747fc",
   "metadata": {},
   "outputs": [
    {
     "name": "stdout",
     "output_type": "stream",
     "text": [
      "Ram\n",
      "{'name': 'Ram'}\n",
      "Bharat\n",
      "{'name': 'Bharat'}\n",
      "Laxman\n",
      "{'name': 'Laxman'}\n"
     ]
    }
   ],
   "source": [
    "for key, val in child.items():\n",
    "    print(child[key]['name'])\n",
    "    print(val)"
   ]
  },
  {
   "cell_type": "code",
   "execution_count": null,
   "id": "48b1df9f",
   "metadata": {},
   "outputs": [],
   "source": [
    "for key, \n"
   ]
  }
 ],
 "metadata": {
  "kernelspec": {
   "display_name": "Python 3 (ipykernel)",
   "language": "python",
   "name": "python3"
  },
  "language_info": {
   "codemirror_mode": {
    "name": "ipython",
    "version": 3
   },
   "file_extension": ".py",
   "mimetype": "text/x-python",
   "name": "python",
   "nbconvert_exporter": "python",
   "pygments_lexer": "ipython3",
   "version": "3.8.10"
  }
 },
 "nbformat": 4,
 "nbformat_minor": 5
}
