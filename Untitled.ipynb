{
 "cells": [
  {
   "cell_type": "markdown",
   "id": "65d56de2",
   "metadata": {},
   "source": [
    "# Greates number among three"
   ]
  },
  {
   "cell_type": "code",
   "execution_count": 5,
   "id": "bb16e9b3",
   "metadata": {},
   "outputs": [
    {
     "name": "stdout",
     "output_type": "stream",
     "text": [
      "13\n"
     ]
    }
   ],
   "source": [
    "first_num = 11\n",
    "second_num = 12\n",
    "third_num = 13\n",
    "\n",
    "if first_num > second_num and first_num>third_num:\n",
    "    print (frist_num)\n",
    "elif second_num > first_num and second_num > third_num:\n",
    "    print (second_num)\n",
    "else:\n",
    "    print (third_num)"
   ]
  },
  {
   "cell_type": "code",
   "execution_count": null,
   "id": "0c014de7",
   "metadata": {},
   "outputs": [],
   "source": []
  }
 ],
 "metadata": {
  "kernelspec": {
   "display_name": "Python 3 (ipykernel)",
   "language": "python",
   "name": "python3"
  },
  "language_info": {
   "codemirror_mode": {
    "name": "ipython",
    "version": 3
   },
   "file_extension": ".py",
   "mimetype": "text/x-python",
   "name": "python",
   "nbconvert_exporter": "python",
   "pygments_lexer": "ipython3",
   "version": "3.8.10"
  }
 },
 "nbformat": 4,
 "nbformat_minor": 5
}
