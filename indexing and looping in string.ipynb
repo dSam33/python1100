{
 "cells": [
  {
   "cell_type": "code",
   "execution_count": null,
   "id": "d4b02bef",
   "metadata": {},
   "outputs": [],
   "source": [
    "s = 'Hello World'\n",
    "len(s)"
   ]
  },
  {
   "cell_type": "code",
   "execution_count": null,
   "id": "889c2264",
   "metadata": {},
   "outputs": [],
   "source": [
    "s[1]  # indexing always starts from zero"
   ]
  },
  {
   "cell_type": "code",
   "execution_count": null,
   "id": "34a3ab1f",
   "metadata": {},
   "outputs": [],
   "source": [
    "s[1]"
   ]
  },
  {
   "cell_type": "code",
   "execution_count": null,
   "id": "0a99e20a",
   "metadata": {},
   "outputs": [],
   "source": [
    "s ='hello world'\n",
    "len(s)"
   ]
  },
  {
   "cell_type": "code",
   "execution_count": null,
   "id": "d195c508",
   "metadata": {},
   "outputs": [],
   "source": [
    "range(0,5)"
   ]
  },
  {
   "cell_type": "code",
   "execution_count": null,
   "id": "0112308e",
   "metadata": {},
   "outputs": [],
   "source": [
    "for index in range(0,5,1):\n",
    "    print(index)\n",
    "    "
   ]
  },
  {
   "cell_type": "code",
   "execution_count": null,
   "id": "6da096e9",
   "metadata": {},
   "outputs": [],
   "source": [
    "for index in range(0,len(s),1):\n",
    "    letter = s[index]\n",
    "    print(letter)\n",
    "    print(f\" index ={index} and letter = {letter}\")\n",
    "    "
   ]
  },
  {
   "cell_type": "code",
   "execution_count": 47,
   "id": "3d0f035d",
   "metadata": {},
   "outputs": [
    {
     "name": "stdout",
     "output_type": "stream",
     "text": [
      "index =10 and letter =d\n",
      "index =9 and letter =l\n",
      "index =8 and letter =r\n",
      "index =7 and letter =o\n",
      "index =6 and letter =w\n",
      "index =5 and letter = \n",
      "index =4 and letter =o\n",
      "index =3 and letter =l\n",
      "index =2 and letter =l\n",
      "index =1 and letter =e\n",
      "index =0 and letter =h\n",
      "0\n"
     ]
    }
   ],
   "source": [
    "s ='hello world'\n",
    "start = len(s)-1\n",
    "end = -1\n",
    "step = -1\n",
    "for index in range (start, end, step):\n",
    "    letter = s[index]\n",
    "    print(f\"index ={index} and letter ={letter}\")\n",
    "if (\n",
    "    (letter  == \"a\")\n",
    "or (letter  == \"e\")\n",
    "):\n",
    "    count += 1\n",
    "print(count)"
   ]
  },
  {
   "cell_type": "code",
   "execution_count": 35,
   "id": "5f7ebe06",
   "metadata": {},
   "outputs": [
    {
     "name": "stdout",
     "output_type": "stream",
     "text": [
      "9\n"
     ]
    }
   ],
   "source": [
    "st= 'I am a girl. I need pencil'\n",
    "count = 0\n",
    "for index in range(0,len(st),1):\n",
    "    if (\n",
    "        (st[index] ==\"a\")\n",
    "        or (st[index] == \"e\")\n",
    "        or (st[index]== \"i\")\n",
    "        or (st[index] == \"o\")\n",
    "        or (st[index] == \"u\")\n",
    "        or (st[index] == \"I\")\n",
    "        or (st[index] == \"A\")\n",
    "        or (st[index] == \"E\")\n",
    "        or (st[index] == \"O\")\n",
    "        or (st[index] == \"U\")\n",
    "  ):\n",
    "        count += 1\n",
    "    \n",
    "print(count)\n",
    "      "
   ]
  },
  {
   "cell_type": "code",
   "execution_count": 5,
   "id": "7cf99541",
   "metadata": {},
   "outputs": [
    {
     "name": "stdout",
     "output_type": "stream",
     "text": [
      "vowel\n",
      "10\n"
     ]
    }
   ],
   "source": [
    "st= 'I am a girl. I need to work hard'\n",
    "count = 0\n",
    "for index in range(0,len(st),1):\n",
    "    letter = st[index]\n",
    "    if (\n",
    "        (letter ==\"a\")\n",
    "        or (letter == \"e\")\n",
    "        or (letter== \"i\")\n",
    "        or (letter == \"o\")\n",
    "        or (st[index] == \"u\")\n",
    "        or (st[index] == \"I\")\n",
    "        or (st[index] == \"A\")\n",
    "        or (st[index] == \"E\")\n",
    "        or (st[index] == \"O\")\n",
    "        or (st[index] == \"U\")\n",
    "  ):\n",
    "        count += 1\n",
    "print(\"vowel\")\n",
    "print(count)\n"
   ]
  },
  {
   "cell_type": "code",
   "execution_count": 19,
   "id": "f52c9264",
   "metadata": {},
   "outputs": [
    {
     "name": "stdout",
     "output_type": "stream",
     "text": [
      "The letter H is consonant\n",
      "The letter e is vowel\n",
      "The letter l is consonant\n",
      "The letter l is consonant\n",
      "The letter o is vowel\n",
      "The letter t is consonant\n",
      "The letter e is vowel\n",
      "The letter x is consonant\n",
      "The letter t is consonant\n",
      "The letter m is consonant\n",
      "The letter e is vowel\n",
      "The letter b is consonant\n",
      "The letter a is vowel\n",
      "The letter c is consonant\n",
      "The letter k is consonant\n"
     ]
    }
   ],
   "source": [
    " s=\"Hello text me back\"\n",
    "for index in range(0, len(s),1):\n",
    "    letter = s[index]\n",
    "    if letter ==\"a\" or letter =='e' or letter == 'i' or letter == 'o' or letter =='u':\n",
    "        print(f\"The letter {letter} is vowel\")\n",
    "    elif letter == ' ':\n",
    "        continue\n",
    "        #break\n",
    "        print (Index)\n",
    "    else:\n",
    "        print(f'The letter {letter} is consonant')"
   ]
  },
  {
   "cell_type": "markdown",
   "id": "070f0d38",
   "metadata": {},
   "source": [
    "# Break Vs Continue"
   ]
  },
  {
   "cell_type": "code",
   "execution_count": 14,
   "id": "ba11890d",
   "metadata": {},
   "outputs": [
    {
     "name": "stdout",
     "output_type": "stream",
     "text": [
      "0\n",
      "1\n",
      "2\n"
     ]
    }
   ],
   "source": [
    "for index in range(5):\n",
    "    if index == 3:\n",
    "        break # break exit loop\n",
    "    print(index)"
   ]
  },
  {
   "cell_type": "code",
   "execution_count": 15,
   "id": "98430c0d",
   "metadata": {},
   "outputs": [
    {
     "name": "stdout",
     "output_type": "stream",
     "text": [
      "0\n",
      "1\n",
      "2\n",
      "4\n"
     ]
    }
   ],
   "source": [
    "for index in range(5):\n",
    "    if index == 3:\n",
    "        continue\n",
    "    print(index)"
   ]
  },
  {
   "cell_type": "code",
   "execution_count": 16,
   "id": "9721e702",
   "metadata": {},
   "outputs": [
    {
     "name": "stdout",
     "output_type": "stream",
     "text": [
      "0\n",
      "1\n",
      "2\n",
      "3\n",
      "4\n"
     ]
    }
   ],
   "source": [
    "for index in range(5):\n",
    "    if index == 3:\n",
    "        pass \n",
    "    print(index)"
   ]
  },
  {
   "cell_type": "code",
   "execution_count": null,
   "id": "41f5af47",
   "metadata": {},
   "outputs": [],
   "source": []
  },
  {
   "cell_type": "code",
   "execution_count": null,
   "id": "738d7f52",
   "metadata": {},
   "outputs": [],
   "source": []
  },
  {
   "cell_type": "code",
   "execution_count": null,
   "id": "2d439391",
   "metadata": {},
   "outputs": [],
   "source": []
  }
 ],
 "metadata": {
  "kernelspec": {
   "display_name": "Python 3 (ipykernel)",
   "language": "python",
   "name": "python3"
  },
  "language_info": {
   "codemirror_mode": {
    "name": "ipython",
    "version": 3
   },
   "file_extension": ".py",
   "mimetype": "text/x-python",
   "name": "python",
   "nbconvert_exporter": "python",
   "pygments_lexer": "ipython3",
   "version": "3.8.10"
  }
 },
 "nbformat": 4,
 "nbformat_minor": 5
}
