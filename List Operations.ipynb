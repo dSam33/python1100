{
 "cells": [
  {
   "cell_type": "code",
   "execution_count": null,
   "id": "748bdfe7",
   "metadata": {},
   "outputs": [],
   "source": [
    "# list are ordered, indexed, alows duplicate value, mutable\n",
    "#------ collection of items under one variable name"
   ]
  },
  {
   "cell_type": "code",
   "execution_count": 8,
   "id": "75266d5c",
   "metadata": {},
   "outputs": [
    {
     "data": {
      "text/plain": [
       "['Audi', 'Tesla', 'Mercedes', 'BMW', 'BMW']"
      ]
     },
     "execution_count": 8,
     "metadata": {},
     "output_type": "execute_result"
    }
   ],
   "source": [
    "cars =['Audi','Tesla','Mercedes','BMW','BMW']\n",
    "cars"
   ]
  },
  {
   "cell_type": "code",
   "execution_count": 5,
   "id": "e5815947",
   "metadata": {},
   "outputs": [
    {
     "data": {
      "text/plain": [
       "1966672747648"
      ]
     },
     "execution_count": 5,
     "metadata": {},
     "output_type": "execute_result"
    }
   ],
   "source": [
    "id(cars)"
   ]
  },
  {
   "cell_type": "code",
   "execution_count": 2,
   "id": "7c2ff352",
   "metadata": {},
   "outputs": [
    {
     "data": {
      "text/plain": [
       "'Tesla'"
      ]
     },
     "execution_count": 2,
     "metadata": {},
     "output_type": "execute_result"
    }
   ],
   "source": [
    "cars[1]"
   ]
  },
  {
   "cell_type": "code",
   "execution_count": 4,
   "id": "d7cfc8fd",
   "metadata": {},
   "outputs": [],
   "source": [
    "cars[1] ='Bently' # list are mutable"
   ]
  },
  {
   "cell_type": "code",
   "execution_count": 6,
   "id": "0307233a",
   "metadata": {},
   "outputs": [
    {
     "data": {
      "text/plain": [
       "1966672747648"
      ]
     },
     "execution_count": 6,
     "metadata": {},
     "output_type": "execute_result"
    }
   ],
   "source": [
    "id(cars)"
   ]
  },
  {
   "cell_type": "code",
   "execution_count": 7,
   "id": "ab307fc7",
   "metadata": {},
   "outputs": [
    {
     "data": {
      "text/plain": [
       "['Audi', 'Bently', 'Mercedes', 'BMW']"
      ]
     },
     "execution_count": 7,
     "metadata": {},
     "output_type": "execute_result"
    }
   ],
   "source": [
    "cars"
   ]
  },
  {
   "cell_type": "code",
   "execution_count": 9,
   "id": "bb0f75a3",
   "metadata": {},
   "outputs": [
    {
     "name": "stdout",
     "output_type": "stream",
     "text": [
      "['Apple', 'blackcurrant', 'watermelon', 'orange', 'banana']\n"
     ]
    }
   ],
   "source": [
    "fruit =['Apple', 'pineapple', 'grape', 'orange', 'banana']\n",
    "fruit[1:3] = ['blackcurrant','watermelon']\n",
    "print(fruit)"
   ]
  },
  {
   "cell_type": "markdown",
   "id": "69c5a412",
   "metadata": {},
   "source": [
    "# .insert()"
   ]
  },
  {
   "cell_type": "code",
   "execution_count": 10,
   "id": "cb7c658f",
   "metadata": {},
   "outputs": [],
   "source": [
    "fruit =['Apple', 'pineapple', 'grape', 'orange', 'banana']"
   ]
  },
  {
   "cell_type": "code",
   "execution_count": 11,
   "id": "3e23f58a",
   "metadata": {},
   "outputs": [],
   "source": [
    "fruit.insert(1,\"kiwi\")"
   ]
  },
  {
   "cell_type": "code",
   "execution_count": 12,
   "id": "9c825185",
   "metadata": {},
   "outputs": [
    {
     "data": {
      "text/plain": [
       "['Apple', 'kiwi', 'pineapple', 'grape', 'orange', 'banana']"
      ]
     },
     "execution_count": 12,
     "metadata": {},
     "output_type": "execute_result"
    }
   ],
   "source": [
    "fruit"
   ]
  },
  {
   "cell_type": "markdown",
   "id": "fbcb5a4b",
   "metadata": {},
   "source": [
    "# Append"
   ]
  },
  {
   "cell_type": "code",
   "execution_count": 13,
   "id": "36fd3671",
   "metadata": {},
   "outputs": [],
   "source": [
    "gift =[]"
   ]
  },
  {
   "cell_type": "code",
   "execution_count": 14,
   "id": "7de9349e",
   "metadata": {},
   "outputs": [],
   "source": [
    "gift.append(\"watch\")"
   ]
  },
  {
   "cell_type": "code",
   "execution_count": 15,
   "id": "9c18acc4",
   "metadata": {},
   "outputs": [
    {
     "data": {
      "text/plain": [
       "['watch']"
      ]
     },
     "execution_count": 15,
     "metadata": {},
     "output_type": "execute_result"
    }
   ],
   "source": [
    "gift"
   ]
  },
  {
   "cell_type": "code",
   "execution_count": 16,
   "id": "e162a2b9",
   "metadata": {},
   "outputs": [],
   "source": [
    "gift.append(\"shirt\")"
   ]
  },
  {
   "cell_type": "code",
   "execution_count": 17,
   "id": "6268fd98",
   "metadata": {},
   "outputs": [
    {
     "data": {
      "text/plain": [
       "['watch', 'shirt']"
      ]
     },
     "execution_count": 17,
     "metadata": {},
     "output_type": "execute_result"
    }
   ],
   "source": [
    "gift"
   ]
  },
  {
   "cell_type": "code",
   "execution_count": 18,
   "id": "54525537",
   "metadata": {},
   "outputs": [],
   "source": [
    "gift.insert(0,\"paint\")"
   ]
  },
  {
   "cell_type": "code",
   "execution_count": 19,
   "id": "3cf20f56",
   "metadata": {},
   "outputs": [
    {
     "data": {
      "text/plain": [
       "['paint', 'watch', 'shirt']"
      ]
     },
     "execution_count": 19,
     "metadata": {},
     "output_type": "execute_result"
    }
   ],
   "source": [
    "gift"
   ]
  },
  {
   "cell_type": "markdown",
   "id": "3d7f09e9",
   "metadata": {},
   "source": [
    "# . Extend()"
   ]
  },
  {
   "cell_type": "code",
   "execution_count": 20,
   "id": "33ca0203",
   "metadata": {},
   "outputs": [],
   "source": [
    "l1 =[3,4]\n",
    "l2 = [9,8]"
   ]
  },
  {
   "cell_type": "code",
   "execution_count": 21,
   "id": "c7cc8bad",
   "metadata": {},
   "outputs": [],
   "source": [
    "l1.extend(l2)"
   ]
  },
  {
   "cell_type": "code",
   "execution_count": 22,
   "id": "a7bc9385",
   "metadata": {},
   "outputs": [
    {
     "data": {
      "text/plain": [
       "[3, 4, 9, 8]"
      ]
     },
     "execution_count": 22,
     "metadata": {},
     "output_type": "execute_result"
    }
   ],
   "source": [
    "l1"
   ]
  },
  {
   "cell_type": "code",
   "execution_count": 23,
   "id": "845d23b6",
   "metadata": {},
   "outputs": [],
   "source": [
    "l1.append(l2)"
   ]
  },
  {
   "cell_type": "code",
   "execution_count": 24,
   "id": "be1889a8",
   "metadata": {},
   "outputs": [
    {
     "data": {
      "text/plain": [
       "[3, 4, 9, 8, [9, 8]]"
      ]
     },
     "execution_count": 24,
     "metadata": {},
     "output_type": "execute_result"
    }
   ],
   "source": [
    "l1"
   ]
  },
  {
   "cell_type": "code",
   "execution_count": 25,
   "id": "69361907",
   "metadata": {},
   "outputs": [],
   "source": [
    "l1 =[3,4]\n",
    "l2 = [9,8]"
   ]
  },
  {
   "cell_type": "code",
   "execution_count": 26,
   "id": "71dbaf19",
   "metadata": {},
   "outputs": [
    {
     "data": {
      "text/plain": [
       "[3, 4, 9, 8]"
      ]
     },
     "execution_count": 26,
     "metadata": {},
     "output_type": "execute_result"
    }
   ],
   "source": [
    "l1 + l2 # concatination"
   ]
  },
  {
   "cell_type": "markdown",
   "id": "d5b2c711",
   "metadata": {},
   "source": [
    "# Remove"
   ]
  },
  {
   "cell_type": "code",
   "execution_count": 27,
   "id": "c083565f",
   "metadata": {},
   "outputs": [],
   "source": [
    "num1 =[3, 4, 9, 8,9]\n"
   ]
  },
  {
   "cell_type": "code",
   "execution_count": 28,
   "id": "26cb652d",
   "metadata": {},
   "outputs": [
    {
     "data": {
      "text/plain": [
       "[3, 4, 9, 8, 9]"
      ]
     },
     "execution_count": 28,
     "metadata": {},
     "output_type": "execute_result"
    }
   ],
   "source": [
    "num1"
   ]
  },
  {
   "cell_type": "code",
   "execution_count": 31,
   "id": "b4c98db6",
   "metadata": {},
   "outputs": [],
   "source": [
    "num1.remove(9) # remove first similar value"
   ]
  },
  {
   "cell_type": "code",
   "execution_count": 30,
   "id": "78e617ca",
   "metadata": {},
   "outputs": [
    {
     "data": {
      "text/plain": [
       "[3, 4, 8, 9]"
      ]
     },
     "execution_count": 30,
     "metadata": {},
     "output_type": "execute_result"
    }
   ],
   "source": [
    "num1"
   ]
  },
  {
   "cell_type": "markdown",
   "id": "acab439a",
   "metadata": {},
   "source": [
    "# .pop()"
   ]
  },
  {
   "cell_type": "code",
   "execution_count": 32,
   "id": "15d0bd5b",
   "metadata": {},
   "outputs": [],
   "source": [
    "cars =['Audi','Tesla','Mercedes','BMW','BMW']\n"
   ]
  },
  {
   "cell_type": "code",
   "execution_count": 33,
   "id": "116e7f41",
   "metadata": {},
   "outputs": [
    {
     "data": {
      "text/plain": [
       "'BMW'"
      ]
     },
     "execution_count": 33,
     "metadata": {},
     "output_type": "execute_result"
    }
   ],
   "source": [
    "cars.pop()"
   ]
  },
  {
   "cell_type": "code",
   "execution_count": 34,
   "id": "1d802507",
   "metadata": {},
   "outputs": [
    {
     "data": {
      "text/plain": [
       "['Audi', 'Tesla', 'Mercedes', 'BMW']"
      ]
     },
     "execution_count": 34,
     "metadata": {},
     "output_type": "execute_result"
    }
   ],
   "source": [
    "cars"
   ]
  },
  {
   "cell_type": "code",
   "execution_count": 35,
   "id": "dc03bb5a",
   "metadata": {},
   "outputs": [
    {
     "data": {
      "text/plain": [
       "'BMW'"
      ]
     },
     "execution_count": 35,
     "metadata": {},
     "output_type": "execute_result"
    }
   ],
   "source": [
    "cars.pop()"
   ]
  },
  {
   "cell_type": "code",
   "execution_count": 36,
   "id": "0903d716",
   "metadata": {},
   "outputs": [],
   "source": [
    "a = cars.pop()"
   ]
  },
  {
   "cell_type": "code",
   "execution_count": 37,
   "id": "b9f8b2ed",
   "metadata": {},
   "outputs": [
    {
     "data": {
      "text/plain": [
       "'Mercedes'"
      ]
     },
     "execution_count": 37,
     "metadata": {},
     "output_type": "execute_result"
    }
   ],
   "source": [
    "a"
   ]
  },
  {
   "cell_type": "code",
   "execution_count": 38,
   "id": "e9471777",
   "metadata": {},
   "outputs": [],
   "source": [
    "cars =['Audi','Tesla','Mercedes','BMW','BMW']\n"
   ]
  },
  {
   "cell_type": "code",
   "execution_count": 39,
   "id": "ebdaebd2",
   "metadata": {},
   "outputs": [
    {
     "data": {
      "text/plain": [
       "'BMW'"
      ]
     },
     "execution_count": 39,
     "metadata": {},
     "output_type": "execute_result"
    }
   ],
   "source": [
    "cars.pop(3)"
   ]
  },
  {
   "cell_type": "code",
   "execution_count": 40,
   "id": "76ed6c09",
   "metadata": {},
   "outputs": [
    {
     "data": {
      "text/plain": [
       "['Audi', 'Tesla', 'Mercedes', 'BMW']"
      ]
     },
     "execution_count": 40,
     "metadata": {},
     "output_type": "execute_result"
    }
   ],
   "source": [
    "cars"
   ]
  },
  {
   "cell_type": "markdown",
   "id": "cdb4590c",
   "metadata": {},
   "source": [
    "# list as stack and queue"
   ]
  },
  {
   "cell_type": "markdown",
   "id": "a60d2824",
   "metadata": {},
   "source": [
    "# sorting in list"
   ]
  },
  {
   "cell_type": "code",
   "execution_count": 41,
   "id": "46023a5b",
   "metadata": {},
   "outputs": [],
   "source": [
    "cars =['Audi','Tesla','Mercedes','BMW','BMW']"
   ]
  },
  {
   "cell_type": "code",
   "execution_count": 44,
   "id": "b5f70444",
   "metadata": {},
   "outputs": [],
   "source": [
    "cars.sort() # ascending order"
   ]
  },
  {
   "cell_type": "code",
   "execution_count": 43,
   "id": "2a19be04",
   "metadata": {},
   "outputs": [
    {
     "data": {
      "text/plain": [
       "['Audi', 'BMW', 'BMW', 'Mercedes', 'Tesla']"
      ]
     },
     "execution_count": 43,
     "metadata": {},
     "output_type": "execute_result"
    }
   ],
   "source": [
    "cars"
   ]
  },
  {
   "cell_type": "code",
   "execution_count": 45,
   "id": "b33601d1",
   "metadata": {},
   "outputs": [],
   "source": [
    "cars =['Audi','Tesla','Mercedes','BMW','BMW']"
   ]
  },
  {
   "cell_type": "code",
   "execution_count": 46,
   "id": "38a79915",
   "metadata": {},
   "outputs": [],
   "source": [
    "cars.sort(reverse  = True)"
   ]
  },
  {
   "cell_type": "code",
   "execution_count": 47,
   "id": "ad7cf5b9",
   "metadata": {},
   "outputs": [
    {
     "data": {
      "text/plain": [
       "['Tesla', 'Mercedes', 'BMW', 'BMW', 'Audi']"
      ]
     },
     "execution_count": 47,
     "metadata": {},
     "output_type": "execute_result"
    }
   ],
   "source": [
    "cars"
   ]
  },
  {
   "cell_type": "code",
   "execution_count": 48,
   "id": "c8f93ec8",
   "metadata": {},
   "outputs": [],
   "source": [
    "cars.sort(reverse = 1)"
   ]
  },
  {
   "cell_type": "code",
   "execution_count": 49,
   "id": "62eb5ea9",
   "metadata": {},
   "outputs": [
    {
     "data": {
      "text/plain": [
       "['Tesla', 'Mercedes', 'BMW', 'BMW', 'Audi']"
      ]
     },
     "execution_count": 49,
     "metadata": {},
     "output_type": "execute_result"
    }
   ],
   "source": [
    "cars"
   ]
  },
  {
   "cell_type": "code",
   "execution_count": 50,
   "id": "795c9ddf",
   "metadata": {},
   "outputs": [],
   "source": [
    "cars.sort()"
   ]
  },
  {
   "cell_type": "code",
   "execution_count": 51,
   "id": "9c39f573",
   "metadata": {},
   "outputs": [
    {
     "data": {
      "text/plain": [
       "['Audi', 'BMW', 'BMW', 'Mercedes', 'Tesla']"
      ]
     },
     "execution_count": 51,
     "metadata": {},
     "output_type": "execute_result"
    }
   ],
   "source": [
    "cars"
   ]
  },
  {
   "cell_type": "code",
   "execution_count": 55,
   "id": "989f0701",
   "metadata": {},
   "outputs": [],
   "source": [
    "cars.sort(reverse = 1) # descending"
   ]
  },
  {
   "cell_type": "code",
   "execution_count": 56,
   "id": "9d7f3b56",
   "metadata": {},
   "outputs": [
    {
     "data": {
      "text/plain": [
       "['Tesla', 'Mercedes', 'BMW', 'BMW', 'Audi']"
      ]
     },
     "execution_count": 56,
     "metadata": {},
     "output_type": "execute_result"
    }
   ],
   "source": [
    "cars"
   ]
  },
  {
   "cell_type": "code",
   "execution_count": 58,
   "id": "c845d4b7",
   "metadata": {},
   "outputs": [],
   "source": [
    "cars.append(1)"
   ]
  },
  {
   "cell_type": "code",
   "execution_count": 59,
   "id": "e144fa82",
   "metadata": {},
   "outputs": [
    {
     "data": {
      "text/plain": [
       "['Tesla', 'Mercedes', 'BMW', 'BMW', 'Audi', 1]"
      ]
     },
     "execution_count": 59,
     "metadata": {},
     "output_type": "execute_result"
    }
   ],
   "source": [
    "cars"
   ]
  },
  {
   "cell_type": "code",
   "execution_count": 60,
   "id": "d0877d1b",
   "metadata": {},
   "outputs": [
    {
     "ename": "TypeError",
     "evalue": "'<' not supported between instances of 'int' and 'str'",
     "output_type": "error",
     "traceback": [
      "\u001b[1;31m---------------------------------------------------------------------------\u001b[0m",
      "\u001b[1;31mTypeError\u001b[0m                                 Traceback (most recent call last)",
      "Cell \u001b[1;32mIn[60], line 1\u001b[0m\n\u001b[1;32m----> 1\u001b[0m \u001b[43mcars\u001b[49m\u001b[38;5;241;43m.\u001b[39;49m\u001b[43msort\u001b[49m\u001b[43m(\u001b[49m\u001b[43m)\u001b[49m\n",
      "\u001b[1;31mTypeError\u001b[0m: '<' not supported between instances of 'int' and 'str'"
     ]
    }
   ],
   "source": [
    "cars.sort()"
   ]
  },
  {
   "cell_type": "code",
   "execution_count": null,
   "id": "c43fb3fe",
   "metadata": {},
   "outputs": [],
   "source": []
  }
 ],
 "metadata": {
  "kernelspec": {
   "display_name": "Python 3 (ipykernel)",
   "language": "python",
   "name": "python3"
  },
  "language_info": {
   "codemirror_mode": {
    "name": "ipython",
    "version": 3
   },
   "file_extension": ".py",
   "mimetype": "text/x-python",
   "name": "python",
   "nbconvert_exporter": "python",
   "pygments_lexer": "ipython3",
   "version": "3.8.10"
  }
 },
 "nbformat": 4,
 "nbformat_minor": 5
}
