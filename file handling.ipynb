{
 "cells": [
  {
   "cell_type": "markdown",
   "id": "578a8181",
   "metadata": {},
   "source": [
    "# file handling\n",
    "\n",
    "* open()\n",
    "* read()\n",
    "* write()\n",
    "* close()"
   ]
  },
  {
   "cell_type": "markdown",
   "id": "4a71035c",
   "metadata": {},
   "source": [
    "# different mode to open a file\n",
    "\n",
    "* read : `'r'`\n",
    "* write: `'w'`\n",
    "* append: `'a'`\n",
    "* create: `'x'`"
   ]
  },
  {
   "cell_type": "markdown",
   "id": "00c0a94d",
   "metadata": {},
   "source": [
    "# how to open a file\n",
    " ``` open(filepath, mode)"
   ]
  },
  {
   "cell_type": "code",
   "execution_count": 1,
   "id": "d0cd4304",
   "metadata": {},
   "outputs": [
    {
     "ename": "FileNotFoundError",
     "evalue": "[Errno 2] No such file or directory: 'some_file.txt'",
     "output_type": "error",
     "traceback": [
      "\u001b[1;31m---------------------------------------------------------------------------\u001b[0m",
      "\u001b[1;31mFileNotFoundError\u001b[0m                         Traceback (most recent call last)",
      "Cell \u001b[1;32mIn[1], line 1\u001b[0m\n\u001b[1;32m----> 1\u001b[0m \u001b[38;5;28;43mopen\u001b[39;49m\u001b[43m(\u001b[49m\u001b[38;5;124;43m'\u001b[39;49m\u001b[38;5;124;43msome_file.txt\u001b[39;49m\u001b[38;5;124;43m'\u001b[39;49m\u001b[43m,\u001b[49m\u001b[43m \u001b[49m\u001b[38;5;124;43m'\u001b[39;49m\u001b[38;5;124;43mr\u001b[39;49m\u001b[38;5;124;43m'\u001b[39;49m\u001b[43m)\u001b[49m\n",
      "File \u001b[1;32mc:\\users\\sam\\appdata\\local\\programs\\python\\python38\\lib\\site-packages\\IPython\\core\\interactiveshell.py:282\u001b[0m, in \u001b[0;36m_modified_open\u001b[1;34m(file, *args, **kwargs)\u001b[0m\n\u001b[0;32m    275\u001b[0m \u001b[38;5;28;01mif\u001b[39;00m file \u001b[38;5;129;01min\u001b[39;00m {\u001b[38;5;241m0\u001b[39m, \u001b[38;5;241m1\u001b[39m, \u001b[38;5;241m2\u001b[39m}:\n\u001b[0;32m    276\u001b[0m     \u001b[38;5;28;01mraise\u001b[39;00m \u001b[38;5;167;01mValueError\u001b[39;00m(\n\u001b[0;32m    277\u001b[0m         \u001b[38;5;124mf\u001b[39m\u001b[38;5;124m\"\u001b[39m\u001b[38;5;124mIPython won\u001b[39m\u001b[38;5;124m'\u001b[39m\u001b[38;5;124mt let you open fd=\u001b[39m\u001b[38;5;132;01m{\u001b[39;00mfile\u001b[38;5;132;01m}\u001b[39;00m\u001b[38;5;124m by default \u001b[39m\u001b[38;5;124m\"\u001b[39m\n\u001b[0;32m    278\u001b[0m         \u001b[38;5;124m\"\u001b[39m\u001b[38;5;124mas it is likely to crash IPython. If you know what you are doing, \u001b[39m\u001b[38;5;124m\"\u001b[39m\n\u001b[0;32m    279\u001b[0m         \u001b[38;5;124m\"\u001b[39m\u001b[38;5;124myou can use builtins\u001b[39m\u001b[38;5;124m'\u001b[39m\u001b[38;5;124m open.\u001b[39m\u001b[38;5;124m\"\u001b[39m\n\u001b[0;32m    280\u001b[0m     )\n\u001b[1;32m--> 282\u001b[0m \u001b[38;5;28;01mreturn\u001b[39;00m \u001b[43mio_open\u001b[49m\u001b[43m(\u001b[49m\u001b[43mfile\u001b[49m\u001b[43m,\u001b[49m\u001b[43m \u001b[49m\u001b[38;5;241;43m*\u001b[39;49m\u001b[43margs\u001b[49m\u001b[43m,\u001b[49m\u001b[43m \u001b[49m\u001b[38;5;241;43m*\u001b[39;49m\u001b[38;5;241;43m*\u001b[39;49m\u001b[43mkwargs\u001b[49m\u001b[43m)\u001b[49m\n",
      "\u001b[1;31mFileNotFoundError\u001b[0m: [Errno 2] No such file or directory: 'some_file.txt'"
     ]
    }
   ],
   "source": [
    "open('some_file.txt', 'r')"
   ]
  },
  {
   "cell_type": "markdown",
   "id": "879d4608",
   "metadata": {},
   "source": [
    "## use try.....except.... to handle exception"
   ]
  },
  {
   "cell_type": "code",
   "execution_count": 2,
   "id": "0f6b81e8",
   "metadata": {},
   "outputs": [
    {
     "name": "stdout",
     "output_type": "stream",
     "text": [
      "[Errno 2] No such file or directory: 'some_file.txt'\n"
     ]
    }
   ],
   "source": [
    "try:\n",
    "    file = open('some_file.txt','r')\n",
    "    \n",
    "except FileNotFoundError as e:\n",
    "    print(e)"
   ]
  },
  {
   "cell_type": "code",
   "execution_count": 5,
   "id": "edd180e2",
   "metadata": {},
   "outputs": [
    {
     "name": "stdout",
     "output_type": "stream",
     "text": [
      "[Errno 2] No such file or directory: 'some_file.txt'\n"
     ]
    }
   ],
   "source": [
    "try:\n",
    "    file = open('some_file.txt','r')\n",
    "    \n",
    "except Exception as e: # use Exception to handle any kind of exceptions\n",
    "    print(e)"
   ]
  },
  {
   "cell_type": "code",
   "execution_count": 6,
   "id": "39e75523",
   "metadata": {},
   "outputs": [],
   "source": [
    "try:\n",
    "    file = open('some_file.txt','r')\n",
    "    \n",
    "except: # use Exception to handle any kind of exceptions\n",
    "    pass"
   ]
  },
  {
   "cell_type": "code",
   "execution_count": 8,
   "id": "972c64bc",
   "metadata": {},
   "outputs": [],
   "source": [
    "file = open('mission.txt','r')\n",
    "txt = file.read()\n",
    "file.close()"
   ]
  },
  {
   "cell_type": "code",
   "execution_count": 11,
   "id": "b1991b08",
   "metadata": {},
   "outputs": [
    {
     "name": "stdout",
     "output_type": "stream",
     "text": [
      "Our mission is to learn Python with AI. We are learning it.\n",
      "We will work for our mission.\n"
     ]
    }
   ],
   "source": [
    "print(txt)"
   ]
  },
  {
   "cell_type": "markdown",
   "id": "3ddf6d3e",
   "metadata": {},
   "source": [
    "# Alternative"
   ]
  },
  {
   "cell_type": "code",
   "execution_count": 12,
   "id": "877f7049",
   "metadata": {},
   "outputs": [
    {
     "name": "stdout",
     "output_type": "stream",
     "text": [
      "Our mission is to learn Python with AI. We are learning it.\n",
      "We will work for our mission.\n"
     ]
    }
   ],
   "source": [
    "with open ('mission.txt','r') as file:\n",
    "    txt =file.read()\n",
    "\n",
    "print(txt)"
   ]
  },
  {
   "cell_type": "code",
   "execution_count": 14,
   "id": "b2869914",
   "metadata": {},
   "outputs": [
    {
     "name": "stdout",
     "output_type": "stream",
     "text": [
      "['Our mission is to learn Python with AI. We are learning it.\\n', 'We will work for our mission.']\n",
      "2\n"
     ]
    }
   ],
   "source": [
    "with open ('mission.txt','r') as file:\n",
    "    txt = file.readlines()\n",
    "    \n",
    "\n",
    "print(txt)\n",
    "print(len(txt))"
   ]
  },
  {
   "cell_type": "code",
   "execution_count": 15,
   "id": "d81f243c",
   "metadata": {},
   "outputs": [
    {
     "name": "stdout",
     "output_type": "stream",
     "text": [
      "Our mission is to learn Python with AI. We are learning it.\n",
      "\n",
      "60\n"
     ]
    }
   ],
   "source": [
    "with open ('mission.txt','r') as file:\n",
    "    txt = file.readline()\n",
    "    \n",
    "\n",
    "print(txt)\n",
    "print(len(txt))"
   ]
  },
  {
   "cell_type": "markdown",
   "id": "ca9fde71",
   "metadata": {},
   "source": [
    "# write"
   ]
  },
  {
   "cell_type": "code",
   "execution_count": 26,
   "id": "6ab48277",
   "metadata": {},
   "outputs": [],
   "source": [
    "with open('navakofile.txt','w') as file:\n",
    "    file.write('yo naya file ho maile esma guff lekhe.')\n"
   ]
  },
  {
   "cell_type": "code",
   "execution_count": 27,
   "id": "c0924823",
   "metadata": {},
   "outputs": [
    {
     "name": "stdout",
     "output_type": "stream",
     "text": [
      "yo naya file ho maile esma guff lekhe.\n"
     ]
    }
   ],
   "source": [
    "with open('navakofile.txt','r') as file:\n",
    "    txt=file.read()\n",
    "\n",
    "print(txt)"
   ]
  },
  {
   "cell_type": "code",
   "execution_count": 28,
   "id": "be45d8d0",
   "metadata": {},
   "outputs": [
    {
     "data": {
      "text/plain": [
       "True"
      ]
     },
     "execution_count": 28,
     "metadata": {},
     "output_type": "execute_result"
    }
   ],
   "source": [
    "import os\n",
    "os.path.exists('navakofile.txt') #true if file exist in current directory"
   ]
  },
  {
   "cell_type": "code",
   "execution_count": 29,
   "id": "623a00c2",
   "metadata": {},
   "outputs": [],
   "source": [
    "with open('navakofile.txt','w') as file:\n",
    "    file.write('yo  file already exist garcha ma naya kura lekhachu ra sabai lai sunaucu.')\n"
   ]
  },
  {
   "cell_type": "code",
   "execution_count": 30,
   "id": "3d5fb369",
   "metadata": {},
   "outputs": [
    {
     "name": "stdout",
     "output_type": "stream",
     "text": [
      "yo  file already exist garcha ma naya kura lekhachu ra sabai lai sunaucu.\n"
     ]
    }
   ],
   "source": [
    "with open('navakofile.txt','r') as file:\n",
    "    txt = file.read()\n",
    "    \n",
    "print(txt)"
   ]
  },
  {
   "cell_type": "markdown",
   "id": "c1131ac1",
   "metadata": {},
   "source": [
    "# Append mode"
   ]
  },
  {
   "cell_type": "code",
   "execution_count": 31,
   "id": "0782b8c5",
   "metadata": {},
   "outputs": [],
   "source": [
    "with open('kahani.txt','a') as f:\n",
    "    f.write('yo mero kahani ho.')"
   ]
  },
  {
   "cell_type": "code",
   "execution_count": 32,
   "id": "a0aabcde",
   "metadata": {},
   "outputs": [
    {
     "name": "stdout",
     "output_type": "stream",
     "text": [
      "yo mero kahani ho.\n"
     ]
    }
   ],
   "source": [
    "with open ('kahani.txt','r') as f:\n",
    "    txt = f.read()\n",
    "    \n",
    "print(txt)"
   ]
  },
  {
   "cell_type": "code",
   "execution_count": 33,
   "id": "2df71023",
   "metadata": {},
   "outputs": [],
   "source": [
    "with open ('kahani.txt','a') as f:\n",
    "    f.write('aruko jeevan sanga mel khaye maphi pau.')"
   ]
  },
  {
   "cell_type": "code",
   "execution_count": 35,
   "id": "a8b53062",
   "metadata": {},
   "outputs": [
    {
     "name": "stdout",
     "output_type": "stream",
     "text": [
      "yo mero kahani ho.aruko jeevan sanga mel khaye maphi pau.\n"
     ]
    }
   ],
   "source": [
    "with open ('kahani.txt','r') as f:\n",
    "    txt = f.read()\n",
    "\n",
    "print(txt)"
   ]
  },
  {
   "cell_type": "code",
   "execution_count": null,
   "id": "b8188156",
   "metadata": {},
   "outputs": [],
   "source": []
  }
 ],
 "metadata": {
  "kernelspec": {
   "display_name": "Python 3 (ipykernel)",
   "language": "python",
   "name": "python3"
  },
  "language_info": {
   "codemirror_mode": {
    "name": "ipython",
    "version": 3
   },
   "file_extension": ".py",
   "mimetype": "text/x-python",
   "name": "python",
   "nbconvert_exporter": "python",
   "pygments_lexer": "ipython3",
   "version": "3.8.10"
  }
 },
 "nbformat": 4,
 "nbformat_minor": 5
}
