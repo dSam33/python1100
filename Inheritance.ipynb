{
 "cells": [
  {
   "cell_type": "markdown",
   "id": "24524114",
   "metadata": {},
   "source": [
    "# Single Inheritance"
   ]
  },
  {
   "cell_type": "code",
   "execution_count": null,
   "id": "87a4757e",
   "metadata": {},
   "outputs": [],
   "source": [
    "class Computer:\n",
    "    def __init__(self, model_name):\n",
    "        self.model_name = model_name\n",
    "        \n",
    "class Mobile:\n",
    "    def __init__(self, has_flash):\n",
    "        self.has_falsh = True\n",
    "    "
   ]
  },
  {
   "cell_type": "code",
   "execution_count": null,
   "id": "cb3c6aea",
   "metadata": {},
   "outputs": [],
   "source": [
    "mobile =Mobile(has_flash=True)"
   ]
  },
  {
   "cell_type": "code",
   "execution_count": null,
   "id": "226c6f43",
   "metadata": {},
   "outputs": [],
   "source": [
    "mobile.model_name"
   ]
  },
  {
   "cell_type": "markdown",
   "id": "411cb51f",
   "metadata": {},
   "source": [
    "# Inheritance"
   ]
  },
  {
   "cell_type": "code",
   "execution_count": null,
   "id": "98e964dd",
   "metadata": {},
   "outputs": [],
   "source": [
    "class Computer:   # parent class, base class, super class\n",
    "    def __init__(self, model_name):\n",
    "        self.model_name = model_name\n",
    "        \n",
    "class Mobile(Computer): # child class, subclass, derived class\n",
    "    def __init__(self, has_flash, model_name):\n",
    "        self.has_flash = True\n",
    "        super().__init__(model_name) "
   ]
  },
  {
   "cell_type": "code",
   "execution_count": null,
   "id": "996d678e",
   "metadata": {},
   "outputs": [],
   "source": [
    "mobile = Mobile(has_flash=True, model_name='iphone')"
   ]
  },
  {
   "cell_type": "code",
   "execution_count": null,
   "id": "9f6e0157",
   "metadata": {},
   "outputs": [],
   "source": [
    "mobile.model_name"
   ]
  },
  {
   "cell_type": "markdown",
   "id": "dea24d49",
   "metadata": {},
   "source": [
    "# Multiple inheritance"
   ]
  },
  {
   "cell_type": "code",
   "execution_count": 12,
   "id": "b2e84562",
   "metadata": {},
   "outputs": [],
   "source": [
    "class Father:\n",
    "    def __init__(self, fname):\n",
    "        self.fname = fname\n",
    "    \n",
    "class Mother:\n",
    "    def __init__(self, mother_name):\n",
    "        self.mname = mother_name\n",
    "        \n",
    "class Child(Father, Mother):\n",
    "    def __init__(self,name,fname,mother_name):\n",
    "        self.name = name\n",
    "        Father.__init__(self, fname)\n",
    "        Mother.__init__(self, mother_name)"
   ]
  },
  {
   "cell_type": "code",
   "execution_count": 13,
   "id": "e9cbe308",
   "metadata": {},
   "outputs": [],
   "source": [
    "c1 = Child(name='Love-kush',fname='Ram', mother_name ='Sita')"
   ]
  },
  {
   "cell_type": "code",
   "execution_count": 18,
   "id": "f105ec04",
   "metadata": {},
   "outputs": [
    {
     "data": {
      "text/plain": [
       "'Sita'"
      ]
     },
     "execution_count": 18,
     "metadata": {},
     "output_type": "execute_result"
    }
   ],
   "source": [
    "c1.mname"
   ]
  },
  {
   "cell_type": "markdown",
   "id": "8b03570c",
   "metadata": {},
   "source": [
    "# Multilevel inheritance"
   ]
  },
  {
   "cell_type": "code",
   "execution_count": 24,
   "id": "6d731f18",
   "metadata": {},
   "outputs": [],
   "source": [
    "class GrandFather:\n",
    "    def __init__(self, g_name):\n",
    "        self.g_name = g_name\n",
    "        \n",
    "class Father(GrandFather):\n",
    "    def __init__(self,f_name, g_name):\n",
    "        self.f_name=f_name\n",
    "        GrandFather.__init__(self,g_name)\n",
    "\n",
    "class Me(Father):\n",
    "    def __init__(self,name, g_name,f_name):\n",
    "        self.name = name\n",
    "        Father.__init__(self,f_name,g_name)"
   ]
  },
  {
   "cell_type": "code",
   "execution_count": 25,
   "id": "c9edc75a",
   "metadata": {},
   "outputs": [],
   "source": [
    "me = Me(name='luv kush', g_name ='Dasarath' , f_name='Ram')"
   ]
  },
  {
   "cell_type": "code",
   "execution_count": 26,
   "id": "139623c0",
   "metadata": {},
   "outputs": [
    {
     "data": {
      "text/plain": [
       "'Ram'"
      ]
     },
     "execution_count": 26,
     "metadata": {},
     "output_type": "execute_result"
    }
   ],
   "source": [
    "me.f_name"
   ]
  },
  {
   "cell_type": "code",
   "execution_count": 27,
   "id": "ca4f3f15",
   "metadata": {},
   "outputs": [
    {
     "data": {
      "text/plain": [
       "'Dasarath'"
      ]
     },
     "execution_count": 27,
     "metadata": {},
     "output_type": "execute_result"
    }
   ],
   "source": [
    "me.g_name"
   ]
  },
  {
   "cell_type": "code",
   "execution_count": null,
   "id": "0b25a3ec",
   "metadata": {},
   "outputs": [],
   "source": []
  }
 ],
 "metadata": {
  "kernelspec": {
   "display_name": "Python 3 (ipykernel)",
   "language": "python",
   "name": "python3"
  },
  "language_info": {
   "codemirror_mode": {
    "name": "ipython",
    "version": 3
   },
   "file_extension": ".py",
   "mimetype": "text/x-python",
   "name": "python",
   "nbconvert_exporter": "python",
   "pygments_lexer": "ipython3",
   "version": "3.8.10"
  }
 },
 "nbformat": 4,
 "nbformat_minor": 5
}
