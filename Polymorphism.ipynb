{
 "cells": [
  {
   "cell_type": "markdown",
   "id": "e8fb1e4a",
   "metadata": {},
   "source": [
    "# Operator Overloading gives extended meaning beond their predefined operational meaning ---- Polymorphism"
   ]
  },
  {
   "cell_type": "code",
   "execution_count": 1,
   "id": "96ba3650",
   "metadata": {},
   "outputs": [
    {
     "data": {
      "text/plain": [
       "5"
      ]
     },
     "execution_count": 1,
     "metadata": {},
     "output_type": "execute_result"
    }
   ],
   "source": [
    "2 + 3"
   ]
  },
  {
   "cell_type": "code",
   "execution_count": 2,
   "id": "58ea7b4a",
   "metadata": {},
   "outputs": [
    {
     "data": {
      "text/plain": [
       "'radheRadhe'"
      ]
     },
     "execution_count": 2,
     "metadata": {},
     "output_type": "execute_result"
    }
   ],
   "source": [
    "\"radhe\" + \"Radhe\""
   ]
  },
  {
   "cell_type": "code",
   "execution_count": 3,
   "id": "d2e40c79",
   "metadata": {},
   "outputs": [
    {
     "data": {
      "text/plain": [
       "[5, 6, 1, 0]"
      ]
     },
     "execution_count": 3,
     "metadata": {},
     "output_type": "execute_result"
    }
   ],
   "source": [
    "[5,6] + [1, 0]"
   ]
  },
  {
   "cell_type": "markdown",
   "id": "0b948f57",
   "metadata": {},
   "source": [
    "# Operator overloading example"
   ]
  },
  {
   "cell_type": "code",
   "execution_count": 4,
   "id": "43ebffc8",
   "metadata": {},
   "outputs": [],
   "source": [
    "class Account:\n",
    "    def __init__(self, name, balance):\n",
    "        self.name = name\n",
    "        self.balance = balance\n",
    "\n",
    "ac1 = Account(\"Prem\", 555445)\n",
    "ac2 = Account(\"Sunny\", 59756258)"
   ]
  },
  {
   "cell_type": "code",
   "execution_count": 5,
   "id": "e9c725f5",
   "metadata": {
    "scrolled": true
   },
   "outputs": [
    {
     "ename": "NameError",
     "evalue": "name 'ac1' is not defined",
     "output_type": "error",
     "traceback": [
      "\u001b[1;31m---------------------------------------------------------------------------\u001b[0m",
      "\u001b[1;31mNameError\u001b[0m                                 Traceback (most recent call last)",
      "Cell \u001b[1;32mIn[5], line 1\u001b[0m\n\u001b[1;32m----> 1\u001b[0m \u001b[43mac1\u001b[49m \u001b[38;5;241m+\u001b[39m ac2\n",
      "\u001b[1;31mNameError\u001b[0m: name 'ac1' is not defined"
     ]
    }
   ],
   "source": [
    "ac1 + ac2"
   ]
  },
  {
   "cell_type": "code",
   "execution_count": 6,
   "id": "3cf534ed",
   "metadata": {},
   "outputs": [],
   "source": [
    "class Account:\n",
    "    def __init__(self, name, balance):\n",
    "        self.name = name\n",
    "        self.balance = balance\n",
    "    \n",
    "    def __add__(self, otherobj):\n",
    "        return self.balance + otherobj.balance\n",
    "    \n",
    "ac1 = Account(\"Prem\", 555445)\n",
    "ac2 = Account(\"Sunny\", 59756258)"
   ]
  },
  {
   "cell_type": "code",
   "execution_count": 7,
   "id": "bdf8a311",
   "metadata": {},
   "outputs": [
    {
     "data": {
      "text/plain": [
       "60311703"
      ]
     },
     "execution_count": 7,
     "metadata": {},
     "output_type": "execute_result"
    }
   ],
   "source": [
    "ac1 + ac2"
   ]
  },
  {
   "cell_type": "code",
   "execution_count": 10,
   "id": "8dcdf43c",
   "metadata": {},
   "outputs": [],
   "source": [
    "class Account:\n",
    "    def __init__(self, name, balance):\n",
    "        self.name = name\n",
    "        self.balance = balance\n",
    "    \n",
    "    def __add__(self, otherobj):\n",
    "        return self.balance + otherobj.balance\n",
    "    \n",
    "    def __gt__(self, otherobj):\n",
    "        if self.balance> otherobj.balance:\n",
    "            print(f\"{self.name} is Rich\")\n",
    "        elif self.balance == otherobj.balance:\n",
    "            print(f\"{self.name} and {otherobj.name} is equally rich\")\n",
    "        else:\n",
    "            print(f\"{otherobj.name} is Rich\")\n",
    "    \n",
    "ac1 = Account(\"Prem\", 555445)\n",
    "ac2 = Account(\"Sunny\", 59756258)"
   ]
  },
  {
   "cell_type": "code",
   "execution_count": 11,
   "id": "1385a3f5",
   "metadata": {},
   "outputs": [
    {
     "name": "stdout",
     "output_type": "stream",
     "text": [
      "Sunny is Rich\n"
     ]
    }
   ],
   "source": [
    "ac1>ac2"
   ]
  },
  {
   "cell_type": "code",
   "execution_count": 12,
   "id": "4ca9e86b",
   "metadata": {},
   "outputs": [],
   "source": [
    "class Person:\n",
    "    def __init__(self, weight, height):\n",
    "        self.weight = weight\n",
    "        self.height = height\n",
    "    def calculate_bmi(self):\n",
    "        return self.weight/(self.height**2)"
   ]
  },
  {
   "cell_type": "code",
   "execution_count": 13,
   "id": "c0c21907",
   "metadata": {},
   "outputs": [],
   "source": [
    "p1 = Person(75,1.7)"
   ]
  },
  {
   "cell_type": "code",
   "execution_count": 14,
   "id": "76e6bf05",
   "metadata": {},
   "outputs": [
    {
     "data": {
      "text/plain": [
       "25.95155709342561"
      ]
     },
     "execution_count": 14,
     "metadata": {},
     "output_type": "execute_result"
    }
   ],
   "source": [
    "p1.calculate_bmi()"
   ]
  },
  {
   "cell_type": "code",
   "execution_count": null,
   "id": "208ba9e7",
   "metadata": {},
   "outputs": [],
   "source": []
  }
 ],
 "metadata": {
  "kernelspec": {
   "display_name": "Python 3 (ipykernel)",
   "language": "python",
   "name": "python3"
  },
  "language_info": {
   "codemirror_mode": {
    "name": "ipython",
    "version": 3
   },
   "file_extension": ".py",
   "mimetype": "text/x-python",
   "name": "python",
   "nbconvert_exporter": "python",
   "pygments_lexer": "ipython3",
   "version": "3.8.10"
  }
 },
 "nbformat": 4,
 "nbformat_minor": 5
}
