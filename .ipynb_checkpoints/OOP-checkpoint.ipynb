{
 "cells": [
  {
   "cell_type": "markdown",
   "id": "0dad30f5",
   "metadata": {},
   "source": [
    "# Object Oriented Programming (OOP)\n",
    "## Creating Empty class"
   ]
  },
  {
   "cell_type": "code",
   "execution_count": null,
   "id": "3cf3f014",
   "metadata": {},
   "outputs": [],
   "source": [
    "class  Person: # class is a blurprint to create object\n",
    "    pass"
   ]
  },
  {
   "cell_type": "code",
   "execution_count": null,
   "id": "e3791676",
   "metadata": {},
   "outputs": [],
   "source": [
    "obj = Person() # object is a instance of a class"
   ]
  },
  {
   "cell_type": "code",
   "execution_count": null,
   "id": "fe5ea36e",
   "metadata": {},
   "outputs": [],
   "source": [
    "print(type(obj))"
   ]
  },
  {
   "cell_type": "code",
   "execution_count": null,
   "id": "7baf39e2",
   "metadata": {},
   "outputs": [],
   "source": [
    "if __name__ == \"__main__\": # Main is the entry point of the python class\n",
    "    obj = Person()\n",
    "    print(type(obj))"
   ]
  },
  {
   "cell_type": "code",
   "execution_count": null,
   "id": "8c9942ff",
   "metadata": {},
   "outputs": [],
   "source": [
    "__name__"
   ]
  },
  {
   "cell_type": "markdown",
   "id": "270f5af8",
   "metadata": {},
   "source": [
    "# class attribute and instance atrribute\n",
    "\n",
    "## class attribute"
   ]
  },
  {
   "cell_type": "code",
   "execution_count": null,
   "id": "16db92f8",
   "metadata": {},
   "outputs": [],
   "source": [
    "class Mammal:\n",
    "    has_hair = True  # class attribute is same for all object"
   ]
  },
  {
   "cell_type": "code",
   "execution_count": null,
   "id": "dc5cb168",
   "metadata": {},
   "outputs": [],
   "source": [
    "human = Mammal()\n",
    "human.has_hair"
   ]
  },
  {
   "cell_type": "code",
   "execution_count": null,
   "id": "32748008",
   "metadata": {},
   "outputs": [],
   "source": [
    "cow = Mammal()\n",
    "cow.has_hair"
   ]
  },
  {
   "cell_type": "markdown",
   "id": "5a517970",
   "metadata": {},
   "source": [
    "### Instance attribute/object attribute"
   ]
  },
  {
   "cell_type": "code",
   "execution_count": null,
   "id": "68cae2ec",
   "metadata": {},
   "outputs": [],
   "source": [
    "class Mammal:\n",
    "    has_hair = True\n",
    "    \n",
    "    def __init__(self, no_of_legs):\n",
    "        self.no_of_legs = no_of_legs # no_of_legs = object ko attribute ho "
   ]
  },
  {
   "cell_type": "code",
   "execution_count": null,
   "id": "71dbce8a",
   "metadata": {},
   "outputs": [],
   "source": [
    "human = Mammal(no_of_legs =2)"
   ]
  },
  {
   "cell_type": "code",
   "execution_count": null,
   "id": "57ac4c6b",
   "metadata": {},
   "outputs": [],
   "source": [
    "human.has_hair"
   ]
  },
  {
   "cell_type": "code",
   "execution_count": null,
   "id": "02ddecf0",
   "metadata": {},
   "outputs": [],
   "source": [
    "human.no_of_legs"
   ]
  },
  {
   "cell_type": "code",
   "execution_count": null,
   "id": "1eb134cb",
   "metadata": {},
   "outputs": [],
   "source": [
    "cow = Mammal(no_of_legs = 4)"
   ]
  },
  {
   "cell_type": "code",
   "execution_count": null,
   "id": "cab8e496",
   "metadata": {},
   "outputs": [],
   "source": [
    "cow.has_hair"
   ]
  },
  {
   "cell_type": "code",
   "execution_count": null,
   "id": "723fb976",
   "metadata": {},
   "outputs": [],
   "source": [
    "cow.no_of_legs"
   ]
  },
  {
   "cell_type": "code",
   "execution_count": null,
   "id": "fa17950d",
   "metadata": {},
   "outputs": [],
   "source": [
    "class Mammal:\n",
    "    def __init__(self, no_of_legs):\n",
    "        print(type(self))\n",
    "        self.no_of_legs= no_of_legs # init are not constructor but new are constructor"
   ]
  },
  {
   "cell_type": "code",
   "execution_count": null,
   "id": "1c4ffe45",
   "metadata": {},
   "outputs": [],
   "source": [
    "human = Mammal(2)"
   ]
  },
  {
   "cell_type": "markdown",
   "id": "f8db6970",
   "metadata": {},
   "source": [
    "# user define method in class"
   ]
  },
  {
   "cell_type": "code",
   "execution_count": null,
   "id": "2603cba5",
   "metadata": {},
   "outputs": [],
   "source": [
    "class Person:\n",
    "    def __init__(self, name, age):\n",
    "        self.name = name\n",
    "        self.age = age\n",
    "        \n",
    "    def display_age(self):\n",
    "        print(f\"Your age is {self.age}\")\n",
    "        \n",
    "    def display_name(self):\n",
    "        print(f\"Your name is {self.name}\")\n",
    "\n",
    "p1= Person(name='kshitiz',age =25)\n"
   ]
  },
  {
   "cell_type": "code",
   "execution_count": null,
   "id": "aa8cbe3a",
   "metadata": {},
   "outputs": [],
   "source": [
    "p1.display_age()"
   ]
  },
  {
   "cell_type": "code",
   "execution_count": null,
   "id": "419bbb28",
   "metadata": {},
   "outputs": [],
   "source": [
    "p1.display_name()"
   ]
  },
  {
   "cell_type": "code",
   "execution_count": null,
   "id": "aa2dcc64",
   "metadata": {},
   "outputs": [],
   "source": [
    "p2= Person(name='Ram', age =20)"
   ]
  },
  {
   "cell_type": "code",
   "execution_count": null,
   "id": "72672d64",
   "metadata": {},
   "outputs": [],
   "source": [
    "p2.display_age()"
   ]
  },
  {
   "cell_type": "code",
   "execution_count": null,
   "id": "bc9c5d65",
   "metadata": {},
   "outputs": [],
   "source": [
    "p2.display_name()"
   ]
  },
  {
   "cell_type": "markdown",
   "id": "3ee54224",
   "metadata": {},
   "source": [
    "Type Markdown and latex \\fraca^2"
   ]
  },
  {
   "cell_type": "code",
   "execution_count": null,
   "id": "455ad7c2",
   "metadata": {},
   "outputs": [],
   "source": [
    "class A:\n",
    "    pass"
   ]
  },
  {
   "cell_type": "code",
   "execution_count": null,
   "id": "b87b57c3",
   "metadata": {},
   "outputs": [],
   "source": [
    "A()"
   ]
  },
  {
   "cell_type": "code",
   "execution_count": null,
   "id": "a0472f4c",
   "metadata": {},
   "outputs": [],
   "source": [
    "import math\n",
    "\n",
    "class Area:\n",
    "    def __init__(self, r):\n",
    "        self.radius = r\n",
    "    def area_c(self):\n",
    "        return math.pi*self.radius**2\n"
   ]
  },
  {
   "cell_type": "code",
   "execution_count": null,
   "id": "3665dfff",
   "metadata": {},
   "outputs": [],
   "source": [
    "radius = float(input(\"Enter radius: \"))\n",
    "c1= Area(r = radius)"
   ]
  },
  {
   "cell_type": "code",
   "execution_count": null,
   "id": "fa736636",
   "metadata": {},
   "outputs": [],
   "source": [
    "c1.area_c()"
   ]
  },
  {
   "cell_type": "code",
   "execution_count": null,
   "id": "0284d5df",
   "metadata": {},
   "outputs": [],
   "source": [
    "class circle:\n",
    "    def area(r):\n",
    "        return math.pi*r**2\n"
   ]
  },
  {
   "cell_type": "code",
   "execution_count": null,
   "id": "d452d437",
   "metadata": {},
   "outputs": [],
   "source": [
    "o = circle()"
   ]
  },
  {
   "cell_type": "code",
   "execution_count": null,
   "id": "9373f786",
   "metadata": {},
   "outputs": [],
   "source": [
    "o.area(r=5)"
   ]
  },
  {
   "cell_type": "code",
   "execution_count": 4,
   "id": "831fd834",
   "metadata": {},
   "outputs": [
    {
     "ename": "SyntaxError",
     "evalue": "invalid character in identifier (335851867.py, line 2)",
     "output_type": "error",
     "traceback": [
      "\u001b[1;36m  Cell \u001b[1;32mIn[4], line 2\u001b[1;36m\u001b[0m\n\u001b[1;33m    def __init__(self, length, breadth):\u001b[0m\n\u001b[1;37m    ^\u001b[0m\n\u001b[1;31mSyntaxError\u001b[0m\u001b[1;31m:\u001b[0m invalid character in identifier\n"
     ]
    }
   ],
   "source": [
    "class area:\n",
    "    def __init__(self, length, breadth):\n",
    "        self.l = length\n",
    "        self.b = breadth\n",
    "\n",
    "    def area(self):\n",
    "        return l*b"
   ]
  },
  {
   "cell_type": "code",
   "execution_count": 1,
   "id": "00311332",
   "metadata": {},
   "outputs": [
    {
     "ename": "SyntaxError",
     "evalue": "invalid character in identifier (4108882214.py, line 2)",
     "output_type": "error",
     "traceback": [
      "\u001b[1;36m  Cell \u001b[1;32mIn[1], line 2\u001b[1;36m\u001b[0m\n\u001b[1;33m    def __init__(self,l,b):\u001b[0m\n\u001b[1;37m    ^\u001b[0m\n\u001b[1;31mSyntaxError\u001b[0m\u001b[1;31m:\u001b[0m invalid character in identifier\n"
     ]
    }
   ],
   "source": [
    "class area:\n",
    "    def __init__(self,l,b):\n",
    "        self.l =l\n",
    "        self.b = b\n",
    "    def area(self):\n",
    "        return self.l*self.b"
   ]
  },
  {
   "cell_type": "code",
   "execution_count": null,
   "id": "38296a8c",
   "metadata": {},
   "outputs": [],
   "source": []
  }
 ],
 "metadata": {
  "kernelspec": {
   "display_name": "Python 3 (ipykernel)",
   "language": "python",
   "name": "python3"
  },
  "language_info": {
   "codemirror_mode": {
    "name": "ipython",
    "version": 3
   },
   "file_extension": ".py",
   "mimetype": "text/x-python",
   "name": "python",
   "nbconvert_exporter": "python",
   "pygments_lexer": "ipython3",
   "version": "3.8.10"
  }
 },
 "nbformat": 4,
 "nbformat_minor": 5
}
