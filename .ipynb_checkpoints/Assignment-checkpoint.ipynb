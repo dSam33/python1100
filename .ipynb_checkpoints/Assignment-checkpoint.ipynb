{
 "cells": [
  {
   "cell_type": "code",
   "execution_count": 6,
   "id": "0b0ba3b9",
   "metadata": {},
   "outputs": [
    {
     "name": "stdout",
     "output_type": "stream",
     "text": [
      "116\n"
     ]
    }
   ],
   "source": [
    "num1= 56\n",
    "num2 = 60\n",
    "sum = num1 + num2\n",
    "print(sum)"
   ]
  },
  {
   "cell_type": "code",
   "execution_count": 7,
   "id": "2e46a830",
   "metadata": {},
   "outputs": [],
   "source": [
    "num1 = 60\n",
    "num2 = 18\n",
    "diff = num1 - num2"
   ]
  },
  {
   "cell_type": "code",
   "execution_count": 8,
   "id": "7ed0c80a",
   "metadata": {},
   "outputs": [
    {
     "name": "stdout",
     "output_type": "stream",
     "text": [
      "42\n"
     ]
    }
   ],
   "source": [
    "print(diff)"
   ]
  },
  {
   "cell_type": "code",
   "execution_count": 9,
   "id": "c75d3bf2",
   "metadata": {},
   "outputs": [
    {
     "name": "stdout",
     "output_type": "stream",
     "text": [
      "6\n"
     ]
    }
   ],
   "source": [
    "num1 = 2\n",
    "num2 = 3\n",
    "multiplication = num1*num2\n",
    "print(multiplication)"
   ]
  },
  {
   "cell_type": "code",
   "execution_count": 10,
   "id": "f502f599",
   "metadata": {},
   "outputs": [
    {
     "name": "stdout",
     "output_type": "stream",
     "text": [
      "766.6666666666666\n"
     ]
    }
   ],
   "source": [
    "num1 = 2300\n",
    "num2 = 3\n",
    "divide = num1/num2\n",
    "print(divide)"
   ]
  },
  {
   "cell_type": "code",
   "execution_count": 15,
   "id": "67c5904d",
   "metadata": {},
   "outputs": [
    {
     "name": "stdout",
     "output_type": "stream",
     "text": [
      "6600\n"
     ]
    }
   ],
   "source": [
    "num1 = 33000\n",
    "num2 = 5\n",
    "FV = num1//num2\n",
    "print(FV)"
   ]
  },
  {
   "cell_type": "code",
   "execution_count": 13,
   "id": "61def8af",
   "metadata": {},
   "outputs": [
    {
     "name": "stdout",
     "output_type": "stream",
     "text": [
      "2\n"
     ]
    }
   ],
   "source": [
    "num1 = 2300\n",
    "num2 = 3\n",
    "module = num1%num2\n",
    "print(module)"
   ]
  },
  {
   "cell_type": "code",
   "execution_count": 16,
   "id": "00312e90",
   "metadata": {},
   "outputs": [
    {
     "name": "stdout",
     "output_type": "stream",
     "text": [
      "12167\n"
     ]
    }
   ],
   "source": [
    "num1 = 23\n",
    "num2 = 3\n",
    "exponentiation = num1**num2\n",
    "print(exponentiation)"
   ]
  },
  {
   "cell_type": "code",
   "execution_count": null,
   "id": "056e9ee5",
   "metadata": {},
   "outputs": [],
   "source": []
  }
 ],
 "metadata": {
  "kernelspec": {
   "display_name": "Python 3 (ipykernel)",
   "language": "python",
   "name": "python3"
  },
  "language_info": {
   "codemirror_mode": {
    "name": "ipython",
    "version": 3
   },
   "file_extension": ".py",
   "mimetype": "text/x-python",
   "name": "python",
   "nbconvert_exporter": "python",
   "pygments_lexer": "ipython3",
   "version": "3.8.10"
  }
 },
 "nbformat": 4,
 "nbformat_minor": 5
}
