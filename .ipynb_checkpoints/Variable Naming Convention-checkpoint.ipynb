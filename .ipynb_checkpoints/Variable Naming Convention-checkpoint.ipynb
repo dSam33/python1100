{
 "cells": [
  {
   "cell_type": "markdown",
   "id": "27639514",
   "metadata": {},
   "source": [
    "# Python Keywords cann't be variable name\n",
    "* Keywords are used to define the syntax and structure of the python language. In Python, Keywarods are case sensitive."
   ]
  },
  {
   "cell_type": "code",
   "execution_count": 1,
   "id": "e54b826a",
   "metadata": {},
   "outputs": [
    {
     "ename": "SyntaxError",
     "evalue": "cannot assign to False (1429262388.py, line 1)",
     "output_type": "error",
     "traceback": [
      "\u001b[1;36m  Cell \u001b[1;32mIn[1], line 1\u001b[1;36m\u001b[0m\n\u001b[1;33m    False = 1\u001b[0m\n\u001b[1;37m    ^\u001b[0m\n\u001b[1;31mSyntaxError\u001b[0m\u001b[1;31m:\u001b[0m cannot assign to False\n"
     ]
    }
   ],
   "source": [
    "False = 1"
   ]
  },
  {
   "cell_type": "code",
   "execution_count": 2,
   "id": "6fae8703",
   "metadata": {},
   "outputs": [
    {
     "ename": "SyntaxError",
     "evalue": "invalid syntax (2382698009.py, line 1)",
     "output_type": "error",
     "traceback": [
      "\u001b[1;36m  Cell \u001b[1;32mIn[2], line 1\u001b[1;36m\u001b[0m\n\u001b[1;33m    global =2\u001b[0m\n\u001b[1;37m           ^\u001b[0m\n\u001b[1;31mSyntaxError\u001b[0m\u001b[1;31m:\u001b[0m invalid syntax\n"
     ]
    }
   ],
   "source": [
    "global =2"
   ]
  },
  {
   "cell_type": "markdown",
   "id": "7e020a0a",
   "metadata": {},
   "source": [
    "# Python Keywords are case sensative"
   ]
  },
  {
   "cell_type": "code",
   "execution_count": 6,
   "id": "b21455bf",
   "metadata": {},
   "outputs": [],
   "source": [
    "false = 1 # false is not a keyword"
   ]
  },
  {
   "cell_type": "code",
   "execution_count": 5,
   "id": "070e1912",
   "metadata": {},
   "outputs": [],
   "source": [
    "Global = 2 # Global is not a keyword"
   ]
  },
  {
   "cell_type": "code",
   "execution_count": 10,
   "id": "649f203d",
   "metadata": {},
   "outputs": [
    {
     "data": {
      "text/plain": [
       "5"
      ]
     },
     "execution_count": 10,
     "metadata": {},
     "output_type": "execute_result"
    }
   ],
   "source": [
    "aa = 6\n",
    "b =5\n",
    "aa\n",
    "b"
   ]
  },
  {
   "cell_type": "markdown",
   "id": "9fb58fa6",
   "metadata": {},
   "source": [
    "# special character /symbols are not  allowed to be used in our identifier !,@,#,$,%,^"
   ]
  },
  {
   "cell_type": "code",
   "execution_count": 11,
   "id": "5332e9ad",
   "metadata": {
    "scrolled": false
   },
   "outputs": [
    {
     "ename": "SyntaxError",
     "evalue": "invalid syntax (1950933102.py, line 1)",
     "output_type": "error",
     "traceback": [
      "\u001b[1;36m  Cell \u001b[1;32mIn[11], line 1\u001b[1;36m\u001b[0m\n\u001b[1;33m    @name=111\u001b[0m\n\u001b[1;37m         ^\u001b[0m\n\u001b[1;31mSyntaxError\u001b[0m\u001b[1;31m:\u001b[0m invalid syntax\n"
     ]
    }
   ],
   "source": [
    "@name=111"
   ]
  },
  {
   "cell_type": "markdown",
   "id": "50e04e7e",
   "metadata": {},
   "source": [
    "# we can't use space between the words in the variable name"
   ]
  },
  {
   "cell_type": "code",
   "execution_count": 12,
   "id": "ef79ae20",
   "metadata": {},
   "outputs": [
    {
     "ename": "SyntaxError",
     "evalue": "invalid syntax (1540420523.py, line 1)",
     "output_type": "error",
     "traceback": [
      "\u001b[1;36m  Cell \u001b[1;32mIn[12], line 1\u001b[1;36m\u001b[0m\n\u001b[1;33m    first name  = 'sam'\u001b[0m\n\u001b[1;37m          ^\u001b[0m\n\u001b[1;31mSyntaxError\u001b[0m\u001b[1;31m:\u001b[0m invalid syntax\n"
     ]
    }
   ],
   "source": [
    "first name  = 'sam'"
   ]
  },
  {
   "cell_type": "markdown",
   "id": "06d2d666",
   "metadata": {},
   "source": [
    "# we can't use - in between the words in the variable name"
   ]
  },
  {
   "cell_type": "code",
   "execution_count": 13,
   "id": "5d074775",
   "metadata": {},
   "outputs": [],
   "source": [
    "First_name = \"Sam\""
   ]
  },
  {
   "cell_type": "markdown",
   "id": "6911e9e8",
   "metadata": {},
   "source": [
    "# use _ to join two words of variable in python"
   ]
  },
  {
   "cell_type": "code",
   "execution_count": 14,
   "id": "3eae1280",
   "metadata": {},
   "outputs": [],
   "source": [
    "first_name='sam'"
   ]
  },
  {
   "cell_type": "markdown",
   "id": "3699e3d3",
   "metadata": {},
   "source": [
    "# we can't use numbers at initial of the variable name in python"
   ]
  },
  {
   "cell_type": "code",
   "execution_count": 15,
   "id": "9fef7264",
   "metadata": {},
   "outputs": [
    {
     "ename": "SyntaxError",
     "evalue": "invalid syntax (2529910004.py, line 1)",
     "output_type": "error",
     "traceback": [
      "\u001b[1;36m  Cell \u001b[1;32mIn[15], line 1\u001b[1;36m\u001b[0m\n\u001b[1;33m    1first ='1'\u001b[0m\n\u001b[1;37m     ^\u001b[0m\n\u001b[1;31mSyntaxError\u001b[0m\u001b[1;31m:\u001b[0m invalid syntax\n"
     ]
    }
   ],
   "source": [
    "1first ='1'"
   ]
  },
  {
   "cell_type": "markdown",
   "id": "098e6405",
   "metadata": {},
   "source": [
    "# we can use numbers after alphabete for variable name in python"
   ]
  },
  {
   "cell_type": "code",
   "execution_count": 16,
   "id": "63115b3d",
   "metadata": {},
   "outputs": [],
   "source": [
    "first1 = \"1\""
   ]
  },
  {
   "cell_type": "code",
   "execution_count": 17,
   "id": "6f8d2fd6",
   "metadata": {},
   "outputs": [],
   "source": [
    "first_1 = '1'"
   ]
  },
  {
   "cell_type": "markdown",
   "id": "6d6a26e3",
   "metadata": {},
   "source": [
    "# Python is a casesensative language"
   ]
  },
  {
   "cell_type": "code",
   "execution_count": 22,
   "id": "d16876e7",
   "metadata": {},
   "outputs": [
    {
     "name": "stdout",
     "output_type": "stream",
     "text": [
      "A = Apple\n",
      "a = Fruit\n",
      "Fruit=Apple\n"
     ]
    }
   ],
   "source": [
    "A = 'Apple'\n",
    "a = 'Fruit'\n",
    "print (F\"A = {A}\")\n",
    "print (F\"a = {a}\")\n",
    "print (f\"{a}={A}\")"
   ]
  },
  {
   "cell_type": "code",
   "execution_count": 24,
   "id": "80a4e642",
   "metadata": {},
   "outputs": [
    {
     "name": "stdout",
     "output_type": "stream",
     "text": [
      "The value of x is Tree\n"
     ]
    }
   ],
   "source": [
    "x ='Tree'\n",
    "print ('The value of x is {}'.format(x))"
   ]
  },
  {
   "cell_type": "code",
   "execution_count": null,
   "id": "b6348bd1",
   "metadata": {},
   "outputs": [],
   "source": []
  }
 ],
 "metadata": {
  "kernelspec": {
   "display_name": "Python 3 (ipykernel)",
   "language": "python",
   "name": "python3"
  },
  "language_info": {
   "codemirror_mode": {
    "name": "ipython",
    "version": 3
   },
   "file_extension": ".py",
   "mimetype": "text/x-python",
   "name": "python",
   "nbconvert_exporter": "python",
   "pygments_lexer": "ipython3",
   "version": "3.8.10"
  }
 },
 "nbformat": 4,
 "nbformat_minor": 5
}
