{
 "cells": [
  {
   "cell_type": "markdown",
   "id": "e4bd8244",
   "metadata": {},
   "source": [
    "# Swap"
   ]
  },
  {
   "cell_type": "code",
   "execution_count": 2,
   "id": "93eb8b91",
   "metadata": {},
   "outputs": [
    {
     "ename": "SyntaxError",
     "evalue": "invalid syntax (1654453503.py, line 2)",
     "output_type": "error",
     "traceback": [
      "\u001b[1;36m  Cell \u001b[1;32mIn[2], line 2\u001b[1;36m\u001b[0m\n\u001b[1;33m    num2 = int(input(\"Enter the Second Number : \")\u001b[0m\n\u001b[1;37m    ^\u001b[0m\n\u001b[1;31mSyntaxError\u001b[0m\u001b[1;31m:\u001b[0m invalid syntax\n"
     ]
    }
   ],
   "source": [
    "num1 = int(input(\"Enter the First Number : \")\n",
    "num2 = int(input(\"Enter the Second Number : \")\n",
    "num1 , num2 = num2, num1\n",
    "print(num1)\n",
    "print(num2)\n",
    "temp=num1\n",
    "num1=num2\n",
    "num2=temp\n",
    "print(num1)\n",
    "print(num2)"
   ]
  },
  {
   "cell_type": "markdown",
   "id": "4dd4b893",
   "metadata": {},
   "source": [
    "# How many seconds are there in 42 minutes 42 seconds?"
   ]
  },
  {
   "cell_type": "code",
   "execution_count": 19,
   "id": "412fd50e",
   "metadata": {},
   "outputs": [
    {
     "name": "stdout",
     "output_type": "stream",
     "text": [
      "There are 2562 seconds in 42 minutes and 42 seconds\n"
     ]
    }
   ],
   "source": [
    "num1 = 42\n",
    "num2 = 42 \n",
    "num3 = 60\n",
    "num4 = num1*num3 + num2\n",
    "print(f\"There are {num4} seconds in 42 minutes and 42 seconds\")"
   ]
  },
  {
   "cell_type": "markdown",
   "id": "e796d117",
   "metadata": {},
   "source": [
    "# How many miles are there in 10 kilometers? Hint: there are 1.609 kilometers in a mile."
   ]
  },
  {
   "cell_type": "code",
   "execution_count": 26,
   "id": "eea912dd",
   "metadata": {},
   "outputs": [
    {
     "name": "stdout",
     "output_type": "stream",
     "text": [
      "There are 6.215040397762586 miles in 10 kilometers\n"
     ]
    }
   ],
   "source": [
    "Mile= 1.609\n",
    "kilom = 10\n",
    "mile= kilom/Mile\n",
    "print(f\"There are {mile} miles in {kilom} kilometers\")"
   ]
  },
  {
   "cell_type": "markdown",
   "id": "d56cf1e2",
   "metadata": {},
   "source": [
    "# If you run a 10 kilometer race in 42 minutes 42 seconds, What is your average pace ( speed: mile in minutes and miles in seconds)?"
   ]
  },
  {
   "cell_type": "code",
   "execution_count": null,
   "id": "4e028a30",
   "metadata": {},
   "outputs": [],
   "source": [
    "\n"
   ]
  },
  {
   "cell_type": "markdown",
   "id": "4b5c0d28",
   "metadata": {},
   "source": [
    "The volume of a sphere with radius r is 4/3 "
   ]
  },
  {
   "cell_type": "markdown",
   "id": "2664640a",
   "metadata": {},
   "source": [
    "$$ 1.609 KM = 1 Mile$$\n",
    "$$ 1 KM = \\frac{1}{1.609} Miles$$\n",
    "$$ 10 KM  = \\frac{10}{1.609} Miles$$"
   ]
  },
  {
   "cell_type": "code",
   "execution_count": 8,
   "id": "795f94c1",
   "metadata": {},
   "outputs": [
    {
     "data": {
      "text/plain": [
       "6.215040397762586"
      ]
     },
     "execution_count": 8,
     "metadata": {},
     "output_type": "execute_result"
    }
   ],
   "source": [
    "distance_in_miles=10/1.609\n",
    "distance_in_miles"
   ]
  },
  {
   "cell_type": "code",
   "execution_count": 11,
   "id": "c374bca9",
   "metadata": {},
   "outputs": [
    {
     "data": {
      "text/plain": [
       "42.7"
      ]
     },
     "execution_count": 11,
     "metadata": {},
     "output_type": "execute_result"
    }
   ],
   "source": [
    "time_in_min = 42 + 42/60\n",
    "time_in_min "
   ]
  },
  {
   "cell_type": "code",
   "execution_count": 13,
   "id": "c9294616",
   "metadata": {},
   "outputs": [
    {
     "data": {
      "text/plain": [
       "0.1455512973714891"
      ]
     },
     "execution_count": 13,
     "metadata": {},
     "output_type": "execute_result"
    }
   ],
   "source": [
    "speed = distance_in_miles/time_in_min\n",
    "speed"
   ]
  },
  {
   "cell_type": "code",
   "execution_count": 14,
   "id": "55c04c9b",
   "metadata": {},
   "outputs": [
    {
     "ename": "NameError",
     "evalue": "name 'num4' is not defined",
     "output_type": "error",
     "traceback": [
      "\u001b[1;31m---------------------------------------------------------------------------\u001b[0m",
      "\u001b[1;31mNameError\u001b[0m                                 Traceback (most recent call last)",
      "Cell \u001b[1;32mIn[14], line 1\u001b[0m\n\u001b[1;32m----> 1\u001b[0m speed \u001b[38;5;241m=\u001b[39m distance_in_miles\u001b[38;5;241m/\u001b[39m\u001b[43mnum4\u001b[49m\n\u001b[0;32m      2\u001b[0m speed\n",
      "\u001b[1;31mNameError\u001b[0m: name 'num4' is not defined"
     ]
    }
   ],
   "source": [
    "speed = distance_in_miles/num4\n",
    "speed"
   ]
  },
  {
   "cell_type": "markdown",
   "id": "d8b844dd",
   "metadata": {},
   "source": [
    "# Volume of Sphere\n",
    "$$volumne = \\frac{4}{3} \\pi r^3$$\n"
   ]
  },
  {
   "cell_type": "code",
   "execution_count": 15,
   "id": "a45396d4",
   "metadata": {},
   "outputs": [
    {
     "name": "stdout",
     "output_type": "stream",
     "text": [
      "523.33\n"
     ]
    }
   ],
   "source": [
    "r = 5\n",
    "PI = 3.14\n",
    "volume = 4/3 * PI*r**3\n",
    "print(round(volume,2))"
   ]
  },
  {
   "cell_type": "code",
   "execution_count": null,
   "id": "a307fee2",
   "metadata": {},
   "outputs": [],
   "source": [
    "import math\n",
    "volume = 4/3*math.pi * r**3\n",
    "round(volume, 2)"
   ]
  },
  {
   "cell_type": "markdown",
   "id": "2966fe12",
   "metadata": {},
   "source": [
    "# Operator Precedence"
   ]
  },
  {
   "cell_type": "code",
   "execution_count": 18,
   "id": "ab9164cd",
   "metadata": {},
   "outputs": [
    {
     "data": {
      "text/plain": [
       "512"
      ]
     },
     "execution_count": 18,
     "metadata": {},
     "output_type": "execute_result"
    }
   ],
   "source": [
    "2 ** 3**2 #left to right priority"
   ]
  },
  {
   "cell_type": "code",
   "execution_count": 19,
   "id": "ef7534ff",
   "metadata": {},
   "outputs": [
    {
     "data": {
      "text/plain": [
       "512"
      ]
     },
     "execution_count": 19,
     "metadata": {},
     "output_type": "execute_result"
    }
   ],
   "source": [
    "2 ** 9"
   ]
  },
  {
   "cell_type": "code",
   "execution_count": null,
   "id": "be9fbebb",
   "metadata": {},
   "outputs": [],
   "source": []
  }
 ],
 "metadata": {
  "kernelspec": {
   "display_name": "Python 3 (ipykernel)",
   "language": "python",
   "name": "python3"
  },
  "language_info": {
   "codemirror_mode": {
    "name": "ipython",
    "version": 3
   },
   "file_extension": ".py",
   "mimetype": "text/x-python",
   "name": "python",
   "nbconvert_exporter": "python",
   "pygments_lexer": "ipython3",
   "version": "3.8.10"
  }
 },
 "nbformat": 4,
 "nbformat_minor": 5
}
