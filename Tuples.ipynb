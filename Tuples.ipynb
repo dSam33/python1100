{
 "cells": [
  {
   "cell_type": "markdown",
   "id": "29161bea",
   "metadata": {},
   "source": [
    "# Tuples\n",
    "\n",
    "Collection of item nder on variable name.\n",
    "\n",
    "* Are immutables\n",
    "* allows duplicate\n",
    "* ordered\n",
    "* indexed\n",
    "\n",
    "Tuples are written inside round brackets with items seperated by comma(,).\n",
    "\n",
    "*Read only and sensitive data are stored in tuple*"
   ]
  },
  {
   "cell_type": "code",
   "execution_count": 1,
   "id": "13bc2f8b",
   "metadata": {},
   "outputs": [],
   "source": [
    "# creating empty tuples\n",
    "tup =()"
   ]
  },
  {
   "cell_type": "code",
   "execution_count": 2,
   "id": "1621e571",
   "metadata": {},
   "outputs": [
    {
     "data": {
      "text/plain": [
       "tuple"
      ]
     },
     "execution_count": 2,
     "metadata": {},
     "output_type": "execute_result"
    }
   ],
   "source": [
    "type(tup)"
   ]
  },
  {
   "cell_type": "code",
   "execution_count": 3,
   "id": "da22e415",
   "metadata": {},
   "outputs": [],
   "source": [
    "tup = tuple()"
   ]
  },
  {
   "cell_type": "code",
   "execution_count": 4,
   "id": "96a647ec",
   "metadata": {},
   "outputs": [
    {
     "data": {
      "text/plain": [
       "tuple"
      ]
     },
     "execution_count": 4,
     "metadata": {},
     "output_type": "execute_result"
    }
   ],
   "source": [
    "type(tup)"
   ]
  },
  {
   "cell_type": "code",
   "execution_count": 5,
   "id": "5f35731c",
   "metadata": {},
   "outputs": [],
   "source": [
    "manparne_book = ('Palpasa Cafe', 'Start with Why', 'Eat that Frog','The stranger','Kite Runner','Blindness')"
   ]
  },
  {
   "cell_type": "code",
   "execution_count": 6,
   "id": "e4388833",
   "metadata": {},
   "outputs": [
    {
     "data": {
      "text/plain": [
       "'Palpasa Cafe'"
      ]
     },
     "execution_count": 6,
     "metadata": {},
     "output_type": "execute_result"
    }
   ],
   "source": [
    "manparne_book[0] # indexing"
   ]
  },
  {
   "cell_type": "code",
   "execution_count": 7,
   "id": "c5ecba52",
   "metadata": {},
   "outputs": [
    {
     "data": {
      "text/plain": [
       "'Blindness'"
      ]
     },
     "execution_count": 7,
     "metadata": {},
     "output_type": "execute_result"
    }
   ],
   "source": [
    "manparne_book[-1] # -ve indexing"
   ]
  },
  {
   "cell_type": "code",
   "execution_count": 10,
   "id": "c4c8a012",
   "metadata": {},
   "outputs": [
    {
     "ename": "TypeError",
     "evalue": "'tuple' object does not support item assignment",
     "output_type": "error",
     "traceback": [
      "\u001b[1;31m---------------------------------------------------------------------------\u001b[0m",
      "\u001b[1;31mTypeError\u001b[0m                                 Traceback (most recent call last)",
      "Cell \u001b[1;32mIn[10], line 1\u001b[0m\n\u001b[1;32m----> 1\u001b[0m \u001b[43mmanparne_book\u001b[49m\u001b[43m[\u001b[49m\u001b[38;5;241;43m1\u001b[39;49m\u001b[43m]\u001b[49m \u001b[38;5;241m=\u001b[39m\u001b[38;5;124m'\u001b[39m\u001b[38;5;124mMuna Madan\u001b[39m\u001b[38;5;124m'\u001b[39m \u001b[38;5;66;03m# tuples are immutable\u001b[39;00m\n",
      "\u001b[1;31mTypeError\u001b[0m: 'tuple' object does not support item assignment"
     ]
    }
   ],
   "source": [
    "manparne_book[1] ='Muna Madan' # tuples are immutable"
   ]
  },
  {
   "cell_type": "code",
   "execution_count": 15,
   "id": "24c469d6",
   "metadata": {},
   "outputs": [
    {
     "name": "stdout",
     "output_type": "stream",
     "text": [
      "Palpasa Cafe\n",
      "Start with Why\n",
      "Eat that Frog\n",
      "The stranger\n",
      "Kite Runner\n",
      "Blindness\n"
     ]
    }
   ],
   "source": [
    "for book in manparne_book:\n",
    "    print(book)"
   ]
  },
  {
   "cell_type": "code",
   "execution_count": 16,
   "id": "d8e572dc",
   "metadata": {},
   "outputs": [
    {
     "name": "stdout",
     "output_type": "stream",
     "text": [
      "0 Palpasa Cafe\n",
      "1 Start with Why\n",
      "2 Eat that Frog\n",
      "3 The stranger\n",
      "4 Kite Runner\n",
      "5 Blindness\n"
     ]
    }
   ],
   "source": [
    "for index, book in enumerate(manparne_book):\n",
    "    print(index,book)"
   ]
  },
  {
   "cell_type": "code",
   "execution_count": 17,
   "id": "348bbf4f",
   "metadata": {},
   "outputs": [],
   "source": [
    "data = (55,6,9)"
   ]
  },
  {
   "cell_type": "code",
   "execution_count": 18,
   "id": "472bf9b6",
   "metadata": {},
   "outputs": [
    {
     "data": {
      "text/plain": [
       "(55, 6, 9)"
      ]
     },
     "execution_count": 18,
     "metadata": {},
     "output_type": "execute_result"
    }
   ],
   "source": [
    "data"
   ]
  },
  {
   "cell_type": "code",
   "execution_count": 19,
   "id": "2b0200b1",
   "metadata": {},
   "outputs": [
    {
     "data": {
      "text/plain": [
       "tuple"
      ]
     },
     "execution_count": 19,
     "metadata": {},
     "output_type": "execute_result"
    }
   ],
   "source": [
    "type(data)"
   ]
  },
  {
   "cell_type": "code",
   "execution_count": 26,
   "id": "bea3e421",
   "metadata": {},
   "outputs": [
    {
     "name": "stdout",
     "output_type": "stream",
     "text": [
      "2258240909376\n",
      "2258241062128\n",
      "(55, 6, 9, 0, 0) <class 'tuple'>\n"
     ]
    }
   ],
   "source": [
    "data = list(data)\n",
    "print(id(data))\n",
    "data.append(0)\n",
    "data = tuple(data)\n",
    "print(id(data))\n",
    "print(data, type(data))"
   ]
  },
  {
   "cell_type": "code",
   "execution_count": 32,
   "id": "bafb999e",
   "metadata": {},
   "outputs": [
    {
     "data": {
      "text/plain": [
       "2258244386368"
      ]
     },
     "execution_count": 32,
     "metadata": {},
     "output_type": "execute_result"
    }
   ],
   "source": [
    "tuple1 =(\"apple\", \"Banana\", \"cherry\")\n",
    "tuple2  = (\"Kshitiz\",\"surbir\",8080)\n",
    "tuple3 = (1,2,3)\n",
    "tuple4 = ([\"kshitiz\", \"regmi\"] , [1,2,3])\n",
    "id(tuple4)"
   ]
  },
  {
   "cell_type": "code",
   "execution_count": 28,
   "id": "3e67e485",
   "metadata": {},
   "outputs": [
    {
     "data": {
      "text/plain": [
       "tuple"
      ]
     },
     "execution_count": 28,
     "metadata": {},
     "output_type": "execute_result"
    }
   ],
   "source": [
    "type(tuple4)"
   ]
  },
  {
   "cell_type": "code",
   "execution_count": 29,
   "id": "cc50fbd3",
   "metadata": {},
   "outputs": [],
   "source": [
    "tuple4[0][1]=\"hello\""
   ]
  },
  {
   "cell_type": "code",
   "execution_count": 30,
   "id": "c9f8e23a",
   "metadata": {},
   "outputs": [
    {
     "data": {
      "text/plain": [
       "(['kshitiz', 'hello'], [1, 2, 3])"
      ]
     },
     "execution_count": 30,
     "metadata": {},
     "output_type": "execute_result"
    }
   ],
   "source": [
    "tuple4"
   ]
  },
  {
   "cell_type": "code",
   "execution_count": 31,
   "id": "067c9238",
   "metadata": {},
   "outputs": [
    {
     "data": {
      "text/plain": [
       "2258240891840"
      ]
     },
     "execution_count": 31,
     "metadata": {},
     "output_type": "execute_result"
    }
   ],
   "source": [
    "id(tuple4)"
   ]
  },
  {
   "cell_type": "code",
   "execution_count": null,
   "id": "eb741624",
   "metadata": {},
   "outputs": [],
   "source": [
    "tuple4 = "
   ]
  }
 ],
 "metadata": {
  "kernelspec": {
   "display_name": "Python 3 (ipykernel)",
   "language": "python",
   "name": "python3"
  },
  "language_info": {
   "codemirror_mode": {
    "name": "ipython",
    "version": 3
   },
   "file_extension": ".py",
   "mimetype": "text/x-python",
   "name": "python",
   "nbconvert_exporter": "python",
   "pygments_lexer": "ipython3",
   "version": "3.8.10"
  }
 },
 "nbformat": 4,
 "nbformat_minor": 5
}
