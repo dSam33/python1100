{
 "cells": [
  {
   "cell_type": "markdown",
   "id": "abf76b7d",
   "metadata": {},
   "source": [
    "# What if I want to check multiple Expression?- nesting and chanining of conditionals"
   ]
  },
  {
   "cell_type": "markdown",
   "id": "d7f2ea81",
   "metadata": {},
   "source": [
    "# WAP to check if the user input zero, positive and negative, and print respective message."
   ]
  },
  {
   "cell_type": "code",
   "execution_count": null,
   "id": "a7b34ad3",
   "metadata": {},
   "outputs": [],
   "source": [
    "num = int(input(\"Enter a number : \"))\n",
    "\n",
    "if num < 0:\n",
    "    print(\"Negative\")\n",
    "\n",
    "if num == 0:\n",
    "    print(\"Neutral\")\n",
    "\n",
    "if num > 0:\n",
    "    print(\"Positive\")"
   ]
  },
  {
   "cell_type": "code",
   "execution_count": null,
   "id": "e2ddaa06",
   "metadata": {},
   "outputs": [],
   "source": [
    "num = int(input(\"Enter a number : \"))\n",
    "\n",
    "if num < 0:\n",
    "    print(\"Negative\")\n",
    "else:\n",
    "    if num == 0:\n",
    "        print(\"Neutral\")\n",
    "    else:\n",
    "        print(\"Positive\")"
   ]
  },
  {
   "cell_type": "markdown",
   "id": "5a20c45b",
   "metadata": {},
   "source": [
    "# Chaining of conditionals if.... elif  .... elif ... else..."
   ]
  },
  {
   "cell_type": "code",
   "execution_count": 1,
   "id": "066a83e1",
   "metadata": {},
   "outputs": [
    {
     "name": "stdout",
     "output_type": "stream",
     "text": [
      "Enter a number: 0\n",
      "Neutral\n"
     ]
    }
   ],
   "source": [
    "num = int(input(\"Enter a number: \"))\n",
    "\n",
    "if num < 0:\n",
    "    print(\"Negative\")\n",
    "    \n",
    "elif num == 0:\n",
    "    print(\"Neutral\")\n",
    "\n",
    "else:\n",
    "    print(\"positive\")"
   ]
  },
  {
   "cell_type": "markdown",
   "id": "9b51a651",
   "metadata": {},
   "source": [
    "# WAP to check if the given input is positive, negative, or zero. If it is positive check even or odd and print respective message"
   ]
  },
  {
   "cell_type": "code",
   "execution_count": 9,
   "id": "159515e1",
   "metadata": {},
   "outputs": [
    {
     "ename": "SyntaxError",
     "evalue": "invalid syntax (1857921647.py, line 6)",
     "output_type": "error",
     "traceback": [
      "\u001b[1;36m  Cell \u001b[1;32mIn[9], line 6\u001b[1;36m\u001b[0m\n\u001b[1;33m    elif input_num > 0:\u001b[0m\n\u001b[1;37m    ^\u001b[0m\n\u001b[1;31mSyntaxError\u001b[0m\u001b[1;31m:\u001b[0m invalid syntax\n"
     ]
    }
   ],
   "source": [
    "input_num = int(input(\"Enter a number: \"))\n",
    " \n",
    "if input_num < 0:\n",
    "    print(\"The number is negative\")\n",
    "    \n",
    "    elif input_num > 0:\n",
    "        print(\"The number is positive\")\n",
    "        elif input_num % 2 == 0:\n",
    "                    print(\"The number is even\")\n",
    "            \n",
    "                else:\n",
    "                    print(\"The number is odd\")\n",
    "                \n",
    "else:\n",
    "    print(\"The number is zero\")\n",
    "                "
   ]
  },
  {
   "cell_type": "code",
   "execution_count": null,
   "id": "6980a123",
   "metadata": {},
   "outputs": [],
   "source": []
  },
  {
   "cell_type": "code",
   "execution_count": null,
   "id": "fbfc718b",
   "metadata": {},
   "outputs": [],
   "source": []
  }
 ],
 "metadata": {
  "kernelspec": {
   "display_name": "Python 3 (ipykernel)",
   "language": "python",
   "name": "python3"
  },
  "language_info": {
   "codemirror_mode": {
    "name": "ipython",
    "version": 3
   },
   "file_extension": ".py",
   "mimetype": "text/x-python",
   "name": "python",
   "nbconvert_exporter": "python",
   "pygments_lexer": "ipython3",
   "version": "3.8.10"
  }
 },
 "nbformat": 4,
 "nbformat_minor": 5
}
