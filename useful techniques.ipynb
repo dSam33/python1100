{
 "cells": [
  {
   "cell_type": "markdown",
   "id": "e54151b8",
   "metadata": {},
   "source": [
    "# lambda function/anonymous function\n",
    "\n",
    "``` python\n",
    "lambda x : Expression\n",
    "```\n",
    "used with map and filter."
   ]
  },
  {
   "cell_type": "code",
   "execution_count": null,
   "id": "2c900d61",
   "metadata": {},
   "outputs": [],
   "source": [
    "sq = []\n",
    "for i in range(1,10):\n",
    "    sq.append(i**2)"
   ]
  },
  {
   "cell_type": "code",
   "execution_count": null,
   "id": "68184457",
   "metadata": {},
   "outputs": [],
   "source": [
    "sq"
   ]
  },
  {
   "cell_type": "code",
   "execution_count": null,
   "id": "2561ea0c",
   "metadata": {},
   "outputs": [],
   "source": [
    "[i**2 for i in range(1,10)]"
   ]
  },
  {
   "cell_type": "code",
   "execution_count": null,
   "id": "f156d2d4",
   "metadata": {},
   "outputs": [],
   "source": [
    "map(lambda i: i**2, range(1,10))"
   ]
  },
  {
   "cell_type": "code",
   "execution_count": null,
   "id": "87bd611e",
   "metadata": {},
   "outputs": [],
   "source": [
    "list(map(lambda i: i**2, range(1,10)))"
   ]
  },
  {
   "cell_type": "code",
   "execution_count": null,
   "id": "d4d985b7",
   "metadata": {},
   "outputs": [],
   "source": [
    "list(map(lambda i: i*3, range(1,10)))"
   ]
  },
  {
   "cell_type": "code",
   "execution_count": null,
   "id": "c82990cc",
   "metadata": {},
   "outputs": [],
   "source": [
    "data = range(12,20)"
   ]
  },
  {
   "cell_type": "code",
   "execution_count": null,
   "id": "66c418c9",
   "metadata": {},
   "outputs": [],
   "source": [
    "filter(lambda x:x%2 ==0, data)"
   ]
  },
  {
   "cell_type": "code",
   "execution_count": null,
   "id": "99243932",
   "metadata": {},
   "outputs": [],
   "source": [
    "list(filter(lambda x: x %2 ==0, data))"
   ]
  },
  {
   "cell_type": "code",
   "execution_count": null,
   "id": "e9afe90d",
   "metadata": {},
   "outputs": [],
   "source": [
    "list(filter(lambda x: x %2 ==1, data))"
   ]
  },
  {
   "cell_type": "markdown",
   "id": "f81d1ec7",
   "metadata": {},
   "source": [
    "# While loop"
   ]
  },
  {
   "cell_type": "code",
   "execution_count": null,
   "id": "d4155134",
   "metadata": {},
   "outputs": [],
   "source": [
    "import random\n",
    "random.seed(50)\n",
    "random.randint(1000, 1005)"
   ]
  },
  {
   "cell_type": "code",
   "execution_count": null,
   "id": "81657249",
   "metadata": {},
   "outputs": [],
   "source": [
    "import random\n",
    "data = [random.randint(1,100) for i in range(10)]\n",
    "data"
   ]
  },
  {
   "cell_type": "code",
   "execution_count": null,
   "id": "ba3bef92",
   "metadata": {},
   "outputs": [],
   "source": [
    "index =0\n",
    "total = 0\n",
    "\n",
    "\n",
    "while index < len (data):\n",
    "    total =total + data[index]\n",
    "    index = index +1\n",
    "    \n",
    "mean =total/len(data)\n",
    "print(mean)"
   ]
  },
  {
   "cell_type": "markdown",
   "id": "390b8ee6",
   "metadata": {},
   "source": [
    "# Nested for loop"
   ]
  },
  {
   "cell_type": "code",
   "execution_count": 15,
   "id": "09c966f5",
   "metadata": {},
   "outputs": [
    {
     "data": {
      "text/plain": [
       "[[80, 33, 95, 46],\n",
       " [89, 95, 84, 68],\n",
       " [4, 60, 100, 32],\n",
       " [84, 7, 21, 15],\n",
       " [48, 61, 32, 49]]"
      ]
     },
     "execution_count": 15,
     "metadata": {},
     "output_type": "execute_result"
    }
   ],
   "source": [
    "import random\n",
    "random.seed(5)\n",
    "data = [[random.randint(1,100) for i in range(4)] for i in range (5)]\n",
    "data"
   ]
  },
  {
   "cell_type": "code",
   "execution_count": 18,
   "id": "27cf2311",
   "metadata": {},
   "outputs": [
    {
     "name": "stdout",
     "output_type": "stream",
     "text": [
      "[80, 33, 95, 46]\n",
      "[89, 95, 84, 68]\n",
      "[4, 60, 100, 32]\n",
      "[84, 7, 21, 15]\n",
      "[48, 61, 32, 49]\n"
     ]
    }
   ],
   "source": [
    "all_mean =[]\n",
    "for item in data:\n",
    "    total = 0\n",
    "    print(item)\n",
    "    for datapoint in item:\n",
    "        total = total + datapoint\n",
    "\n",
    "    mean = total/len(item)\n",
    "    \n",
    "    all_mean.append(mean)"
   ]
  },
  {
   "cell_type": "code",
   "execution_count": 19,
   "id": "5dd5f166",
   "metadata": {},
   "outputs": [
    {
     "data": {
      "text/plain": [
       "[63.5, 84.0, 49.0, 31.75, 47.5]"
      ]
     },
     "execution_count": 19,
     "metadata": {},
     "output_type": "execute_result"
    }
   ],
   "source": [
    "all_mean"
   ]
  },
  {
   "cell_type": "code",
   "execution_count": 20,
   "id": "5b0e96c8",
   "metadata": {},
   "outputs": [
    {
     "name": "stdout",
     "output_type": "stream",
     "text": [
      "-----------\n",
      "i = 0\n",
      "-----------\n",
      "j =0\n",
      "j =1\n",
      "j =2\n",
      "-----------\n",
      "i = 1\n",
      "-----------\n",
      "j =0\n",
      "j =1\n",
      "j =2\n",
      "-----------\n",
      "i = 2\n",
      "-----------\n",
      "j =0\n",
      "j =1\n",
      "j =2\n",
      "-----------\n",
      "i = 3\n",
      "-----------\n",
      "j =0\n",
      "j =1\n",
      "j =2\n",
      "-----------\n",
      "i = 4\n",
      "-----------\n",
      "j =0\n",
      "j =1\n",
      "j =2\n"
     ]
    }
   ],
   "source": [
    "for i in range(5):\n",
    "    print('-----------')\n",
    "    print(f\"i = {i}\")\n",
    "    print(\"-----------\")\n",
    "    \n",
    "    for j in range(3):\n",
    "        print(f\"j ={j}\")"
   ]
  },
  {
   "cell_type": "markdown",
   "id": "5085a397",
   "metadata": {},
   "source": [
    "# iterators and generators"
   ]
  },
  {
   "cell_type": "markdown",
   "id": "dc636c51",
   "metadata": {},
   "source": [
    "# decorators"
   ]
  },
  {
   "cell_type": "code",
   "execution_count": null,
   "id": "ef095b06",
   "metadata": {},
   "outputs": [],
   "source": []
  }
 ],
 "metadata": {
  "kernelspec": {
   "display_name": "Python 3 (ipykernel)",
   "language": "python",
   "name": "python3"
  },
  "language_info": {
   "codemirror_mode": {
    "name": "ipython",
    "version": 3
   },
   "file_extension": ".py",
   "mimetype": "text/x-python",
   "name": "python",
   "nbconvert_exporter": "python",
   "pygments_lexer": "ipython3",
   "version": "3.8.10"
  }
 },
 "nbformat": 4,
 "nbformat_minor": 5
}
