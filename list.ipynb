{
 "cells": [
  {
   "cell_type": "markdown",
   "id": "8a303d76",
   "metadata": {},
   "source": [
    "# Creating Empty List"
   ]
  },
  {
   "cell_type": "code",
   "execution_count": 2,
   "id": "c05461d9",
   "metadata": {},
   "outputs": [
    {
     "data": {
      "text/plain": [
       "list"
      ]
     },
     "execution_count": 2,
     "metadata": {},
     "output_type": "execute_result"
    }
   ],
   "source": [
    "list1 = []\n",
    "type(list1)"
   ]
  },
  {
   "cell_type": "code",
   "execution_count": 3,
   "id": "487d3438",
   "metadata": {},
   "outputs": [],
   "source": [
    "list2 =list()"
   ]
  },
  {
   "cell_type": "code",
   "execution_count": 4,
   "id": "f5374a44",
   "metadata": {},
   "outputs": [
    {
     "data": {
      "text/plain": [
       "list"
      ]
     },
     "execution_count": 4,
     "metadata": {},
     "output_type": "execute_result"
    }
   ],
   "source": [
    "type(list2)"
   ]
  },
  {
   "cell_type": "markdown",
   "id": "552ff6a0",
   "metadata": {},
   "source": [
    "# Creat your own list"
   ]
  },
  {
   "cell_type": "code",
   "execution_count": 5,
   "id": "c04f6eb0",
   "metadata": {},
   "outputs": [],
   "source": [
    "fruits =['Apple', 'banana','pineapple','orange','grape']"
   ]
  },
  {
   "cell_type": "code",
   "execution_count": 7,
   "id": "6169cb49",
   "metadata": {},
   "outputs": [
    {
     "data": {
      "text/plain": [
       "'Apple'"
      ]
     },
     "execution_count": 7,
     "metadata": {},
     "output_type": "execute_result"
    }
   ],
   "source": [
    "fruits[0] # indexing always starts from 0"
   ]
  },
  {
   "cell_type": "code",
   "execution_count": 8,
   "id": "006ce337",
   "metadata": {},
   "outputs": [
    {
     "data": {
      "text/plain": [
       "'banana'"
      ]
     },
     "execution_count": 8,
     "metadata": {},
     "output_type": "execute_result"
    }
   ],
   "source": [
    "fruits[1]"
   ]
  },
  {
   "cell_type": "code",
   "execution_count": 10,
   "id": "a6cf0fa3",
   "metadata": {},
   "outputs": [
    {
     "data": {
      "text/plain": [
       "'pineapple'"
      ]
     },
     "execution_count": 10,
     "metadata": {},
     "output_type": "execute_result"
    }
   ],
   "source": [
    "fruits[2]"
   ]
  },
  {
   "cell_type": "code",
   "execution_count": 11,
   "id": "56fed842",
   "metadata": {},
   "outputs": [],
   "source": [
    "# negative indexing"
   ]
  },
  {
   "cell_type": "code",
   "execution_count": 12,
   "id": "3d818973",
   "metadata": {},
   "outputs": [
    {
     "data": {
      "text/plain": [
       "'grape'"
      ]
     },
     "execution_count": 12,
     "metadata": {},
     "output_type": "execute_result"
    }
   ],
   "source": [
    "fruits[-1]"
   ]
  },
  {
   "cell_type": "code",
   "execution_count": 14,
   "id": "5afe4abd",
   "metadata": {},
   "outputs": [
    {
     "data": {
      "text/plain": [
       "'orange'"
      ]
     },
     "execution_count": 14,
     "metadata": {},
     "output_type": "execute_result"
    }
   ],
   "source": [
    "fruits[-2]"
   ]
  },
  {
   "cell_type": "code",
   "execution_count": 15,
   "id": "297177e7",
   "metadata": {},
   "outputs": [],
   "source": [
    "# slicing"
   ]
  },
  {
   "cell_type": "code",
   "execution_count": 16,
   "id": "b98ac004",
   "metadata": {},
   "outputs": [
    {
     "data": {
      "text/plain": [
       "['Apple', 'banana', 'pineapple']"
      ]
     },
     "execution_count": 16,
     "metadata": {},
     "output_type": "execute_result"
    }
   ],
   "source": [
    "fruits[:3]"
   ]
  },
  {
   "cell_type": "code",
   "execution_count": 17,
   "id": "770aa69a",
   "metadata": {},
   "outputs": [
    {
     "data": {
      "text/plain": [
       "['orange', 'grape']"
      ]
     },
     "execution_count": 17,
     "metadata": {},
     "output_type": "execute_result"
    }
   ],
   "source": [
    "fruits[3:]"
   ]
  },
  {
   "cell_type": "code",
   "execution_count": 19,
   "id": "a3362b78",
   "metadata": {},
   "outputs": [
    {
     "data": {
      "text/plain": [
       "['pineapple', 'orange']"
      ]
     },
     "execution_count": 19,
     "metadata": {},
     "output_type": "execute_result"
    }
   ],
   "source": [
    "fruits[2:4]"
   ]
  },
  {
   "cell_type": "code",
   "execution_count": 20,
   "id": "07e85ea0",
   "metadata": {},
   "outputs": [
    {
     "data": {
      "text/plain": [
       "['Apple', 'pineapple', 'grape']"
      ]
     },
     "execution_count": 20,
     "metadata": {},
     "output_type": "execute_result"
    }
   ],
   "source": [
    "fruits[:5:2]"
   ]
  },
  {
   "cell_type": "code",
   "execution_count": 21,
   "id": "9bdbb7ad",
   "metadata": {},
   "outputs": [],
   "source": [
    "import random"
   ]
  },
  {
   "cell_type": "code",
   "execution_count": 25,
   "id": "665ec4ec",
   "metadata": {},
   "outputs": [
    {
     "data": {
      "text/plain": [
       "('banana', 'grape')"
      ]
     },
     "execution_count": 25,
     "metadata": {},
     "output_type": "execute_result"
    }
   ],
   "source": [
    "fruits[1],fruits[4]\n"
   ]
  },
  {
   "cell_type": "code",
   "execution_count": 26,
   "id": "ef89b05e",
   "metadata": {},
   "outputs": [
    {
     "data": {
      "text/plain": [
       "'orange'"
      ]
     },
     "execution_count": 26,
     "metadata": {},
     "output_type": "execute_result"
    }
   ],
   "source": [
    "random.choice(fruits)"
   ]
  },
  {
   "cell_type": "code",
   "execution_count": 27,
   "id": "5e0250a6",
   "metadata": {},
   "outputs": [],
   "source": [
    "random.shuffle(fruits)"
   ]
  },
  {
   "cell_type": "code",
   "execution_count": 28,
   "id": "18f8e399",
   "metadata": {},
   "outputs": [
    {
     "data": {
      "text/plain": [
       "['Apple', 'pineapple', 'grape', 'orange', 'banana']"
      ]
     },
     "execution_count": 28,
     "metadata": {},
     "output_type": "execute_result"
    }
   ],
   "source": [
    "fruits"
   ]
  },
  {
   "cell_type": "code",
   "execution_count": 30,
   "id": "abf25770",
   "metadata": {},
   "outputs": [
    {
     "data": {
      "text/plain": [
       "['grape', 'orange', 'banana']"
      ]
     },
     "execution_count": 30,
     "metadata": {},
     "output_type": "execute_result"
    }
   ],
   "source": [
    "fruits[-3:]"
   ]
  },
  {
   "cell_type": "markdown",
   "id": "c50bd57f",
   "metadata": {},
   "source": [
    "# loops"
   ]
  },
  {
   "cell_type": "code",
   "execution_count": 46,
   "id": "8910e590",
   "metadata": {},
   "outputs": [],
   "source": [
    "fruit =['Apple', 'pineapple', 'grape', 'orange', 'banana']"
   ]
  },
  {
   "cell_type": "code",
   "execution_count": 51,
   "id": "d5e6c2fa",
   "metadata": {},
   "outputs": [
    {
     "name": "stdout",
     "output_type": "stream",
     "text": [
      "0 Apple\n",
      "1 pineapple\n",
      "2 grape\n",
      "3 orange\n",
      "4 banana\n"
     ]
    }
   ],
   "source": [
    " for index in range (0,len(fruit),1):\n",
    "        print(index, fruit[index])"
   ]
  },
  {
   "cell_type": "code",
   "execution_count": 54,
   "id": "1cc7f2a1",
   "metadata": {},
   "outputs": [
    {
     "name": "stdout",
     "output_type": "stream",
     "text": [
      "Apple\n",
      "pineapple\n",
      "grape\n",
      "orange\n",
      "banana\n"
     ]
    }
   ],
   "source": [
    "for item in fruit:\n",
    "    print(item)"
   ]
  },
  {
   "cell_type": "code",
   "execution_count": 53,
   "id": "780c4085",
   "metadata": {},
   "outputs": [
    {
     "name": "stdout",
     "output_type": "stream",
     "text": [
      "0 Apple\n",
      "1 pineapple\n",
      "2 grape\n",
      "3 orange\n",
      "4 banana\n"
     ]
    }
   ],
   "source": [
    "for index, item in enumerate(fruit):\n",
    "    print(index,item)"
   ]
  },
  {
   "cell_type": "markdown",
   "id": "d8a9f886",
   "metadata": {},
   "source": [
    "# calculate Mean \n",
    " $$ \\bar x = \\frac{\\sum x_i}{n} $$ "
   ]
  },
  {
   "cell_type": "code",
   "execution_count": 76,
   "id": "9a0550a7",
   "metadata": {},
   "outputs": [],
   "source": [
    "nums = [2,22,45,6,1]\n",
    "a = 0"
   ]
  },
  {
   "cell_type": "code",
   "execution_count": 89,
   "id": "c640dcd1",
   "metadata": {},
   "outputs": [
    {
     "name": "stdout",
     "output_type": "stream",
     "text": [
      "76\n",
      "mean = 15.2\n"
     ]
    }
   ],
   "source": [
    "a =0\n",
    "for item in nums:\n",
    "    a = a + item\n",
    "print(a)\n",
    "n = len(nums)\n",
    "print(f\"mean = {a/n}\")"
   ]
  },
  {
   "cell_type": "markdown",
   "id": "9476c2cc",
   "metadata": {},
   "source": [
    "# Median"
   ]
  },
  {
   "cell_type": "code",
   "execution_count": null,
   "id": "26fa06fd",
   "metadata": {},
   "outputs": [],
   "source": []
  }
 ],
 "metadata": {
  "kernelspec": {
   "display_name": "Python 3 (ipykernel)",
   "language": "python",
   "name": "python3"
  },
  "language_info": {
   "codemirror_mode": {
    "name": "ipython",
    "version": 3
   },
   "file_extension": ".py",
   "mimetype": "text/x-python",
   "name": "python",
   "nbconvert_exporter": "python",
   "pygments_lexer": "ipython3",
   "version": "3.8.10"
  }
 },
 "nbformat": 4,
 "nbformat_minor": 5
}
