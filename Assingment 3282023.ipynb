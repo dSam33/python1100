{
 "cells": [
  {
   "cell_type": "markdown",
   "id": "24e28c31",
   "metadata": {},
   "source": [
    "# write a function to check the input number is prime. If prime true else false"
   ]
  },
  {
   "cell_type": "code",
   "execution_count": 32,
   "id": "b4ae7e38",
   "metadata": {
    "scrolled": true
   },
   "outputs": [
    {
     "name": "stdout",
     "output_type": "stream",
     "text": [
      "enter a number:5\n",
      "True\n"
     ]
    }
   ],
   "source": [
    "def prime_num (n):\n",
    "    if n == 2:\n",
    "        print(\"true\")\n",
    "    elif n>=2 and n%n == 0 and n%2 !=0:\n",
    "        print(\"True\")\n",
    "    else:\n",
    "        print(\"False\")\n",
    "    return\n",
    "n = prime_num(int(input(\"enter a number:\")))"
   ]
  },
  {
   "cell_type": "code",
   "execution_count": 15,
   "id": "0bcc90fe",
   "metadata": {},
   "outputs": [
    {
     "name": "stdout",
     "output_type": "stream",
     "text": [
      "enter the number: 5\n"
     ]
    },
    {
     "data": {
      "text/plain": [
       "True"
      ]
     },
     "execution_count": 15,
     "metadata": {},
     "output_type": "execute_result"
    }
   ],
   "source": [
    "def is_prime(n):\n",
    "    if n <=1:\n",
    "        return None\n",
    "    for divisor in range(2,n):\n",
    "        if n % divisor ==0:\n",
    "            return False\n",
    "    return True\n",
    "is_prime(n=int(input(\"enter the number: \")))"
   ]
  },
  {
   "cell_type": "markdown",
   "id": "4468b149",
   "metadata": {},
   "source": [
    "# Write a function to calculate the factorial of a non-negative number"
   ]
  },
  {
   "cell_type": "code",
   "execution_count": 7,
   "id": "630229a5",
   "metadata": {},
   "outputs": [
    {
     "name": "stdout",
     "output_type": "stream",
     "text": [
      "enter the number:10\n"
     ]
    },
    {
     "data": {
      "text/plain": [
       "3628800"
      ]
     },
     "execution_count": 7,
     "metadata": {},
     "output_type": "execute_result"
    }
   ],
   "source": [
    "def fact (n):\n",
    "    a = 1\n",
    "    if n <=0:\n",
    "        print(f\"No factorial nmber of the given number {n}\")\n",
    "    else:\n",
    "        for i in range(1,n+1):\n",
    "                a = a*i\n",
    "        return a\n",
    "fact(n=int(input(\"enter the number:\")))"
   ]
  },
  {
   "cell_type": "code",
   "execution_count": 18,
   "id": "8ad4c2d1",
   "metadata": {},
   "outputs": [
    {
     "name": "stdout",
     "output_type": "stream",
     "text": [
      "enter the number: 5\n"
     ]
    },
    {
     "data": {
      "text/plain": [
       "120"
      ]
     },
     "execution_count": 18,
     "metadata": {},
     "output_type": "execute_result"
    }
   ],
   "source": [
    "def factorial(x):\n",
    "    fact =1\n",
    "    if x == 0 or x ==1:\n",
    "        return fact\n",
    "    for number in range(2, x+1):\n",
    "        fact = fact * number\n",
    "    return fact\n",
    "factorial(x =int(input(\"enter the number: \")))"
   ]
  },
  {
   "cell_type": "markdown",
   "id": "5728e1a6",
   "metadata": {},
   "source": [
    "# calculate no. of upper and lowercase letter"
   ]
  },
  {
   "cell_type": "code",
   "execution_count": 20,
   "id": "075ac06e",
   "metadata": {},
   "outputs": [],
   "source": [
    "s = 'I am a player. I play Football'"
   ]
  },
  {
   "cell_type": "code",
   "execution_count": 21,
   "id": "09bbf43d",
   "metadata": {},
   "outputs": [
    {
     "data": {
      "text/plain": [
       "30"
      ]
     },
     "execution_count": 21,
     "metadata": {},
     "output_type": "execute_result"
    }
   ],
   "source": [
    "len(s)"
   ]
  },
  {
   "cell_type": "code",
   "execution_count": 29,
   "id": "e91d8eef",
   "metadata": {},
   "outputs": [
    {
     "data": {
      "text/plain": [
       "(3, 20)"
      ]
     },
     "execution_count": 29,
     "metadata": {},
     "output_type": "execute_result"
    }
   ],
   "source": [
    "def count_upper_lower(x):\n",
    "    upper = 0\n",
    "    lower = 0\n",
    "    for letter in x:\n",
    "        if letter.isupper():\n",
    "            upper = upper +1\n",
    "        elif letter == \" \" or letter == \".\":\n",
    "            continue\n",
    "        else:\n",
    "            if letter.islower():\n",
    "                lower = lower +1\n",
    "    \n",
    "    return upper, lower\n",
    "count_upper_lower(s)"
   ]
  },
  {
   "cell_type": "markdown",
   "id": "39618a77",
   "metadata": {},
   "source": [
    "# Write a python function that takes a list and return a new list with unique elements of the first list."
   ]
  },
  {
   "cell_type": "code",
   "execution_count": 41,
   "id": "1921cecf",
   "metadata": {},
   "outputs": [
    {
     "data": {
      "text/plain": [
       "['Male', 'Female']"
      ]
     },
     "execution_count": 41,
     "metadata": {},
     "output_type": "execute_result"
    }
   ],
   "source": [
    "gender = ['Male','Female','Male','Female']\n",
    "list(set(gender))"
   ]
  },
  {
   "cell_type": "markdown",
   "id": "cea619d4",
   "metadata": {},
   "source": [
    "# - hyphen "
   ]
  },
  {
   "cell_type": "code",
   "execution_count": 33,
   "id": "66b5fd8e",
   "metadata": {},
   "outputs": [],
   "source": [
    "s = \"green-red-yellow-black-white\""
   ]
  },
  {
   "cell_type": "code",
   "execution_count": 34,
   "id": "62ceff37",
   "metadata": {},
   "outputs": [],
   "source": [
    "a = s.split(\"-\")"
   ]
  },
  {
   "cell_type": "code",
   "execution_count": 35,
   "id": "e4a9d1e1",
   "metadata": {},
   "outputs": [
    {
     "data": {
      "text/plain": [
       "['green', 'red', 'yellow', 'black', 'white']"
      ]
     },
     "execution_count": 35,
     "metadata": {},
     "output_type": "execute_result"
    }
   ],
   "source": [
    "a"
   ]
  },
  {
   "cell_type": "code",
   "execution_count": 36,
   "id": "15581eee",
   "metadata": {},
   "outputs": [],
   "source": [
    "a.sort()"
   ]
  },
  {
   "cell_type": "code",
   "execution_count": 37,
   "id": "8a46faae",
   "metadata": {},
   "outputs": [
    {
     "data": {
      "text/plain": [
       "['black', 'green', 'red', 'white', 'yellow']"
      ]
     },
     "execution_count": 37,
     "metadata": {},
     "output_type": "execute_result"
    }
   ],
   "source": [
    "a"
   ]
  },
  {
   "cell_type": "code",
   "execution_count": 38,
   "id": "895ef219",
   "metadata": {},
   "outputs": [
    {
     "data": {
      "text/plain": [
       "'black-green-red-white-yellow'"
      ]
     },
     "execution_count": 38,
     "metadata": {},
     "output_type": "execute_result"
    }
   ],
   "source": [
    "\"-\".join(a)"
   ]
  },
  {
   "cell_type": "code",
   "execution_count": null,
   "id": "f82b6931",
   "metadata": {},
   "outputs": [],
   "source": []
  }
 ],
 "metadata": {
  "kernelspec": {
   "display_name": "Python 3 (ipykernel)",
   "language": "python",
   "name": "python3"
  },
  "language_info": {
   "codemirror_mode": {
    "name": "ipython",
    "version": 3
   },
   "file_extension": ".py",
   "mimetype": "text/x-python",
   "name": "python",
   "nbconvert_exporter": "python",
   "pygments_lexer": "ipython3",
   "version": "3.8.10"
  }
 },
 "nbformat": 4,
 "nbformat_minor": 5
}
