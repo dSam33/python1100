{
 "cells": [
  {
   "cell_type": "code",
   "execution_count": 7,
   "id": "f46d5953",
   "metadata": {},
   "outputs": [],
   "source": [
    "# single line string\n",
    "msg = \"I love watching cricket.I love football too.\"\n",
    "msg1 = \"hi\""
   ]
  },
  {
   "cell_type": "code",
   "execution_count": 10,
   "id": "3c4e2364",
   "metadata": {},
   "outputs": [
    {
     "data": {
      "text/plain": [
       "'hi'"
      ]
     },
     "execution_count": 10,
     "metadata": {},
     "output_type": "execute_result"
    }
   ],
   "source": [
    "msg\n",
    "\n",
    "msg1 # dosen't render "
   ]
  },
  {
   "cell_type": "code",
   "execution_count": 13,
   "id": "9bc4a7a7",
   "metadata": {},
   "outputs": [
    {
     "name": "stdout",
     "output_type": "stream",
     "text": [
      "hi\n"
     ]
    }
   ],
   "source": [
    "print (msg1) # renders "
   ]
  },
  {
   "cell_type": "code",
   "execution_count": 14,
   "id": "c8413f6d",
   "metadata": {},
   "outputs": [
    {
     "ename": "SyntaxError",
     "evalue": "EOL while scanning string literal (659434306.py, line 1)",
     "output_type": "error",
     "traceback": [
      "\u001b[1;36m  Cell \u001b[1;32mIn[14], line 1\u001b[1;36m\u001b[0m\n\u001b[1;33m    msg = \"Jonny Jonny\u001b[0m\n\u001b[1;37m                      ^\u001b[0m\n\u001b[1;31mSyntaxError\u001b[0m\u001b[1;31m:\u001b[0m EOL while scanning string literal\n"
     ]
    }
   ],
   "source": [
    "msg = \"Jonny Jonny\n",
    "yess papa\""
   ]
  },
  {
   "cell_type": "markdown",
   "id": "27672af4",
   "metadata": {},
   "source": [
    "# Multi line string"
   ]
  },
  {
   "cell_type": "code",
   "execution_count": 17,
   "id": "f5f50812",
   "metadata": {},
   "outputs": [],
   "source": [
    "msg = \"\"\" Jonny jonny\n",
    "yes papa\"\"\""
   ]
  },
  {
   "cell_type": "code",
   "execution_count": 16,
   "id": "c2f1c6a2",
   "metadata": {},
   "outputs": [
    {
     "data": {
      "text/plain": [
       "' Jonny jonny\\nyes papa'"
      ]
     },
     "execution_count": 16,
     "metadata": {},
     "output_type": "execute_result"
    }
   ],
   "source": [
    "msg"
   ]
  },
  {
   "cell_type": "code",
   "execution_count": 18,
   "id": "bc55149e",
   "metadata": {},
   "outputs": [
    {
     "name": "stdout",
     "output_type": "stream",
     "text": [
      " Jonny jonny\n",
      "yes papa\n"
     ]
    }
   ],
   "source": [
    "print( msg\n",
    "    )"
   ]
  },
  {
   "cell_type": "code",
   "execution_count": 24,
   "id": "48df63f6",
   "metadata": {},
   "outputs": [
    {
     "data": {
      "text/plain": [
       "'twinkle twinkle\\n\\nlittle start\\n'"
      ]
     },
     "execution_count": 24,
     "metadata": {},
     "output_type": "execute_result"
    }
   ],
   "source": [
    "msg = '''twinkle twinkle\n",
    "\n",
    "little start\n",
    "'''\n",
    "msg"
   ]
  },
  {
   "cell_type": "code",
   "execution_count": null,
   "id": "caf0fc4f",
   "metadata": {},
   "outputs": [],
   "source": [
    "print"
   ]
  }
 ],
 "metadata": {
  "kernelspec": {
   "display_name": "Python 3 (ipykernel)",
   "language": "python",
   "name": "python3"
  },
  "language_info": {
   "codemirror_mode": {
    "name": "ipython",
    "version": 3
   },
   "file_extension": ".py",
   "mimetype": "text/x-python",
   "name": "python",
   "nbconvert_exporter": "python",
   "pygments_lexer": "ipython3",
   "version": "3.8.10"
  }
 },
 "nbformat": 4,
 "nbformat_minor": 5
}
